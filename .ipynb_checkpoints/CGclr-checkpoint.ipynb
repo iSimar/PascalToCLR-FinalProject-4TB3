{
 "cells": [
  {
   "cell_type": "markdown",
   "metadata": {
    "deletable": true,
    "editable": true
   },
   "source": [
    "### P0 Code Generator for CLR\n",
    "#### Simarpreet Singh, March 2017\n",
    "\n",
    "The generated code is kept in memory and all code generation procedures continuously append to that code: procedure `genProgStart` initializes the generator, then `gen`-prefixed procedures are to be called for P0 constructs as in order in which they are recognized by a recursive descent parser, and finally procedure `genProgExit` returns the generated code in assembly language as a string in a format that can be read in by the SPIM simulator. The generation procedures are:\n",
    "- `genBool`, `genInt`, `genRec`, `genArray`\n",
    "- `genProgStart`, `genGlobalVars`, `genProgEntry`, `genProgExit`\n",
    "- `genProcStart`, `genFormalParams`, `genLocalVars`, `genProcEntry`, `genProcExit`\n",
    "- `genSelect`, `genIndex`, `genVar`, `genConst`, `genUnaryOp`, `genBinaryOp`, `genRelation`\n",
    "- `genAssign`, `genActualPara`, `genCall`, `genRead`, `genWrite`, `genWriteln`\n",
    "- `genSeq`, `genCond`, `genIfThen`, `genThen`, `genIfElse`, `genTarget`, `genWhile`\n",
    "\n",
    "Errors in the code generator are reported by calling `mark` of the scanner. The data types of the symbol table are used to specify the P0 constructs for which code is to be generated."
   ]
  },
  {
   "cell_type": "code",
   "execution_count": 1,
   "metadata": {
    "collapsed": false,
    "deletable": true,
    "editable": true
   },
   "outputs": [
    {
     "name": "stdout",
     "output_type": "stream",
     "text": [
      "importing Jupyter notebook from SC.ipynb\n"
     ]
    },
    {
     "data": {
      "text/html": [
       "<style>\n",
       "div.prompt {display:none}\n",
       "</style>"
      ],
      "text/plain": [
       "<IPython.core.display.HTML object>"
      ]
     },
     "metadata": {},
     "output_type": "display_data"
    },
    {
     "name": "stdout",
     "output_type": "stream",
     "text": [
      "importing Jupyter notebook from ST.ipynb\n"
     ]
    }
   ],
   "source": [
    "import nbimporter\n",
    "from SC import TIMES, DIV, MOD, AND, PLUS, MINUS, OR, EQ, NE, LT, GT, LE, \\\n",
    "     GE, NOT, mark\n",
    "from ST import Var, Ref, Const, Type, Proc, StdProc, Int, Bool, Array, Record"
   ]
  },
  {
   "cell_type": "markdown",
   "metadata": {
    "collapsed": true,
    "deletable": true,
    "editable": true
   },
   "source": [
    "Following variables determine the state of the code generator:\n",
    "\n",
    "- `curlev` is the current level of nesting of P0 procedures\n",
    "- `regs` is the set of available MIPS registers for expression evaluation\n",
    "- `label` is a counter for generating new labels\n",
    "- `asm` is a list of triples; each triple consists of three (possibly empty) strings:\n",
    "  - a label\n",
    "  - an instruction, possibly with operands\n",
    "  - a target (for branch and jump instructions)"
   ]
  },
  {
   "cell_type": "markdown",
   "metadata": {
    "deletable": true,
    "editable": true
   },
   "source": [
    "Procedure `genProgStart()` initializes these variables. Registers `$t0` to `$t9` are used as general-purpose registers."
   ]
  },
  {
   "cell_type": "code",
   "execution_count": 2,
   "metadata": {
    "collapsed": false,
    "deletable": true,
    "editable": true
   },
   "outputs": [],
   "source": [
    "def genProgStart():\n",
    "    global asm, curlev, label, regs\n",
    "    asm, curlev, label = [], 0, 0\n",
    "    regs = {'$t0', '$t1', '$t2', '$t3', '$t4', '$t5', '$t6', '$t7', '$t8'}\n",
    "    \n",
    "    global instrs, tablvl, glvars, classInstrs, classes, externalLibInstrs, proclvl, procs, mainClassDefaultLines\n",
    "    instrs, tablvl, glvars, proclvl, procs, mainClassDefaultLines = [], 0, [], 0, [], []\n",
    "    classInstrs = []\n",
    "    classes = {}\n",
    "    externalLibInstrs = ['.assembly extern mscorlib{}', '.assembly \\'main\\'{}']\n",
    "    putInstr2('.class private auto ansi beforefieldinit MainClass')\n",
    "    putInstr2('extends [mscorlib]System.Object', 1)\n",
    "    putInstr2('{')\n",
    "    tablvl+=1"
   ]
  },
  {
   "cell_type": "markdown",
   "metadata": {
    "deletable": true,
    "editable": true
   },
   "source": [
    "Reserved registers are `$0` for the constant `0`, `$fp` for the frame pointer, `$sp` for the stack pointer, and `$ra` for the return address (dynamic link)."
   ]
  },
  {
   "cell_type": "code",
   "execution_count": 3,
   "metadata": {
    "collapsed": true,
    "deletable": true,
    "editable": true
   },
   "outputs": [],
   "source": [
    "R0 = '$0'; FP = '$fp'; SP = '$sp'; LNK = '$ra'\n",
    "\n",
    "def obtainReg():\n",
    "    if len(regs) == 0: mark('out of registers'); return R0\n",
    "    else: return regs.pop()\n",
    "\n",
    "def releaseReg(r):\n",
    "    if r not in (R0, SP, FP, LNK): regs.add(r)"
   ]
  },
  {
   "cell_type": "code",
   "execution_count": 4,
   "metadata": {
    "collapsed": true,
    "deletable": true,
    "editable": true
   },
   "outputs": [],
   "source": [
    "def putLab(lab, instr = ''):\n",
    "    \"\"\"Emit label lab with optional instruction; lab may be a single\n",
    "    label or a list of labels\"\"\"\n",
    "    if type(lab) == list:\n",
    "        for l in lab[:-1]: asm.append((l, '', ''))\n",
    "        asm.append((lab[-1], instr, ''))\n",
    "    else: asm.append((lab, instr, ''))\n",
    "\n",
    "def putInstr(instr, target = '', ):\n",
    "    \"\"\"Emit an instruction\"\"\"\n",
    "    asm.append(('', instr, target))\n",
    "\n",
    "def putInstr2(instr, tabLevel = 0):\n",
    "    if proclvl > 0:\n",
    "        current_top_proc = getCurrentProc()\n",
    "        current_top_proc[4].append(instr)\n",
    "    else:\n",
    "        instrs.append((instr, proclvl+tablvl+tabLevel))\n",
    "\n",
    "def putOp(op, a, b, c):\n",
    "    \"\"\"Emit instruction op with three operands, a, b, c; c can be register or immediate\"\"\"\n",
    "    putInstr(op + ' ' + a + ', ' + b + ', ' + str(c))\n",
    "\n",
    "def putBranchOp(op, a, b, c):\n",
    "    putInstr(op + ' ' + a + ', ' + b, str(c))\n",
    "\n",
    "def putMemOp(op, a, b, c):\n",
    "    \"\"\"Emit load/store instruction at location or register b + offset c\"\"\"\n",
    "    if b == R0: putInstr(op + ' ' + a + ', ' + str(c))\n",
    "    else: putInstr(op + ' ' + a + ', ' + str(c) + '(' + b + ')')"
   ]
  },
  {
   "cell_type": "markdown",
   "metadata": {
    "deletable": true,
    "editable": true
   },
   "source": [
    "Following procedures \"generate code\" for all P0 types by determining the size of objects and store in the `size` field.\n",
    "- Integers and booleans occupy 4 bytes\n",
    "- The size of a record is the sum of the sizes of its field; the offset of a field is the sum of the size of the preceding fields\n",
    "- The size of an array is its length times the size of the base type."
   ]
  },
  {
   "cell_type": "code",
   "execution_count": 5,
   "metadata": {
    "collapsed": true,
    "deletable": true,
    "editable": true
   },
   "outputs": [],
   "source": [
    "def genBool(b):\n",
    "    b.size = 4; return b\n",
    "\n",
    "def genInt(i):\n",
    "    i.size = 4; return i\n",
    "\n",
    "def genRec(r):\n",
    "    # r is Record\n",
    "    s = 0\n",
    "    for f in r.fields:\n",
    "        f.offset, s = s, s + f.tp.size\n",
    "    r.size = s\n",
    "    return r\n",
    "\n",
    "def genArray(a):\n",
    "    # a is Array\n",
    "#     createTypeClass('hello', 'something')\n",
    "    a.size = a.length * a.base.size\n",
    "    return a"
   ]
  },
  {
   "cell_type": "markdown",
   "metadata": {
    "deletable": true,
    "editable": true
   },
   "source": [
    "For each global variable, `genGlobalVars(sc, start)` generates the assembler _directive_ `.space`, consisting of the identifier as the label and the size of the variable as the operand. The parameter `sc` contains the top scope with all declarations parsed so far; only variable declarations from index `start` on in the top scope are considered. As MIPS instructions are not allowed to be identifiers, all variables get `_` as suffix to avoid a name clash."
   ]
  },
  {
   "cell_type": "code",
   "execution_count": 6,
   "metadata": {
    "collapsed": false,
    "deletable": true,
    "editable": true
   },
   "outputs": [],
   "source": [
    "def genGlobalVars(sc, start):\n",
    "    for i in range(start, len(sc)):\n",
    "        if type(sc[i]) == Var:\n",
    "            sc[i].reg, sc[i].adr = R0, sc[i].name + '_'\n",
    "            putLab(sc[i].adr, '.space ' + str(sc[i].tp.size))\n",
    "            \n",
    "            type_name = getClRTypeString(sc[i].tp)\n",
    "            \n",
    "            glvars.append((sc[i].tp, sc[i].name, R0))\n",
    "            \n",
    "            putInstr2('.field static '+type_name+' '+sc[i].name)\n",
    "            \n",
    "            if 'class ' in type_name:\n",
    "                mainClassDefaultLines.append('newobj instance void '+type_name+'::\\'.ctor\\'()')\n",
    "                mainClassDefaultLines.append('stsfld '+type_name+' MainClass::'+sc[i].name)"
   ]
  },
  {
   "cell_type": "markdown",
   "metadata": {
    "deletable": true,
    "editable": true
   },
   "source": [
    "Procedure `genProgEntry(ident)` takes the program's name as a parameter. Directives for marking the beginning of the main program are generated; the program's name is it not used. "
   ]
  },
  {
   "cell_type": "code",
   "execution_count": 7,
   "metadata": {
    "collapsed": true,
    "deletable": true,
    "editable": true
   },
   "outputs": [],
   "source": [
    "def genProgEntry(ident):\n",
    "    global tablvl\n",
    "    putInstr2('.method private static hidebysig default void Main (string[] args)')\n",
    "    putInstr2('cil managed', 1)\n",
    "    putInstr2('{')\n",
    "    tablvl+=1\n",
    "    putInstr2('.entrypoint')\n",
    "    \n",
    "    \n",
    "    putInstr('.text')\n",
    "    putInstr('.globl main')\n",
    "    putInstr('.ent main')\n",
    "    putLab('main')"
   ]
  },
  {
   "cell_type": "markdown",
   "metadata": {
    "deletable": true,
    "editable": true
   },
   "source": [
    "Procedure `genProgExit(x)` takes parameter `x` with the result of previous `gen-` calls, generates code for exiting the program, directives for marking the end of the main program, and returns the complete assembly code."
   ]
  },
  {
   "cell_type": "code",
   "execution_count": 8,
   "metadata": {
    "collapsed": true,
    "deletable": true,
    "editable": true
   },
   "outputs": [],
   "source": [
    "def assembly(l, i, t):\n",
    "    \"\"\"Convert label l, instruction i, target t to assembly format\"\"\"\n",
    "    return (l + ':\\t' if l else '\\t') + i + (', ' + t if t else '')\n",
    "\n",
    "def addTabs(i, t):\n",
    "    return (\"\\t\"*t)+i\n",
    "\n",
    "def genProgExit(x):\n",
    "    global tablvl\n",
    "    putInstr2('ret')\n",
    "    putInstr2('}', -1)\n",
    "    if len(mainClassDefaultLines) > 0:\n",
    "        tablvl-=1\n",
    "        putMainClassDefaultMethod(mainClassDefaultLines)\n",
    "        tablvl+=1\n",
    "    putInstr2('}', -2)\n",
    "    putClassInstrs()\n",
    "    putExternalLibInstrs()\n",
    "    return '\\n'.join(addTabs(i, t) for (i, t) in instrs)\n",
    "#     return '\\n'.join(assembly(l, i, t) for (l, i, t) in asm)"
   ]
  },
  {
   "cell_type": "markdown",
   "metadata": {
    "deletable": true,
    "editable": true
   },
   "source": [
    "Procedure `newLabel()` generates a new unique label on each call."
   ]
  },
  {
   "cell_type": "code",
   "execution_count": 9,
   "metadata": {
    "collapsed": true,
    "deletable": true,
    "editable": true
   },
   "outputs": [],
   "source": [
    "def newLabel():\n",
    "    global label\n",
    "    label += 1\n",
    "    return 'L' + str(label)"
   ]
  },
  {
   "cell_type": "markdown",
   "metadata": {
    "deletable": true,
    "editable": true
   },
   "source": [
    "The code generator _delays the generation of code_ until it is clear that no better code can be generated. For this, the not-yet-generated result of an expressions and the location of a variable is stored in _items_. In addition to the symbol table types `Var`, `Ref`, `Const`, the generator uses two more item types:\n",
    "- `Reg(tp, reg)` for integers or boolean values stored in a register; the register can be `$0` for constants `0` and `false`\n",
    "- `Cond(cond, left, right)` for short-circuited Boolean expressions with two branch targets. The relation `cond` must be one of `'EQ'`, `'NE'`, `'LT'`, `'GT'`, `'LE'`, `'GE'`. The operands `left`, `right` are either registers or constants, but one has to be a register. The result of the comparison is represented by two branch targets, stored as fields, where the evaluation continues if the result of the comparison is true or false. The branch targets are lists of unique labels, with targets in each list denoting the same location. If `right` is `$0`, then `'EQ'` and `'NE'` for `cond` can be used for branching depending on whether `left` is `true` or `false`."
   ]
  },
  {
   "cell_type": "code",
   "execution_count": 10,
   "metadata": {
    "collapsed": true,
    "deletable": true,
    "editable": true
   },
   "outputs": [],
   "source": [
    "class Reg:\n",
    "    def __init__(self, tp, reg):\n",
    "        # tp is Bool or Int\n",
    "        self.tp, self.reg = tp, reg\n",
    "\n",
    "class Cond:\n",
    "    # labA, labB are lists of branch targets for when the result is true or false\n",
    "    def __init__(self, cond, left, right):\n",
    "        self.tp, self.cond, self.left, self.right = Bool, cond, left, right\n",
    "        self.labA, self.labB = [newLabel()], [newLabel()]"
   ]
  },
  {
   "cell_type": "markdown",
   "metadata": {
    "deletable": true,
    "editable": true
   },
   "source": [
    "Procedure `loadItemReg(x, r)` generates code for loading item `x` to register `r`, assuming `x` is `Var`, `Const`, or `Reg`. If a constant is too large to fit in 16 bits immediate addressing, an error message is generated."
   ]
  },
  {
   "cell_type": "code",
   "execution_count": 11,
   "metadata": {
    "collapsed": true,
    "deletable": true,
    "editable": true
   },
   "outputs": [],
   "source": [
    "def testRange(x):\n",
    "    if x.val >= 0x8000 or x.val < -0x8000: mark('value too large')\n",
    "\n",
    "def loadItemReg(x, r):\n",
    "    global glvars\n",
    "    if type(x) == Var: \n",
    "        if hasattr(x, 'reg'):\n",
    "            putMemOp('lw', r, x.reg, x.adr); releaseReg(x.reg)\n",
    "    elif type(x) == Const:\n",
    "        loadConstCLR(x.val)\n",
    "        \n",
    "        testRange(x); putOp('addi', r, R0, x.val)\n",
    "    elif type(x) == Reg: # move to register r\n",
    "        putOp('add', r, x.reg, R0)\n",
    "    else: assert False"
   ]
  },
  {
   "cell_type": "markdown",
   "metadata": {
    "deletable": true,
    "editable": true
   },
   "source": [
    "Procedure `loadItem(x)` generates code for loading item `x`, which has to be `Var` or `Const`, into a new register and returns a `Reg` item; if `x` is `Const` and has value `0`, no code is generated and register `R0` is used instead. For procedure `loadBool(x)`, the type of item `x` has to be `Bool`; if `x` is not a constant, it is loaded into a register and a new `Cond` item is returned."
   ]
  },
  {
   "cell_type": "code",
   "execution_count": 12,
   "metadata": {
    "collapsed": true,
    "deletable": true,
    "editable": true
   },
   "outputs": [],
   "source": [
    "def loadItem(x):\n",
    "    if type(x) == Const and x.val == 0:\n",
    "        r = R0 # use R0 for \"0\"\n",
    "        loadConstCLR(0)\n",
    "    else: \n",
    "        r = obtainReg()\n",
    "        loadItemReg(x, r)\n",
    "    return Reg(x.tp, r)\n",
    "\n",
    "def loadBool(x):\n",
    "    if type(x) == Const and x.val == 0: r = R0 # use R0 for \"false\"\n",
    "    else: r = obtainReg(); loadItemReg(x, r)\n",
    "    return Cond(NE, r, R0)"
   ]
  },
  {
   "cell_type": "markdown",
   "metadata": {
    "deletable": true,
    "editable": true
   },
   "source": [
    "Procedure `put(cd, x, y)` generates code for `x op y`, where `op` is an operation with mnemonic `cd`. Items `x`, `y` have to be `Var`, `Const`, `Reg`. An updated item `x` is returned."
   ]
  },
  {
   "cell_type": "code",
   "execution_count": 13,
   "metadata": {
    "collapsed": true,
    "deletable": true,
    "editable": true
   },
   "outputs": [],
   "source": [
    "def put(cd, x, y):\n",
    "    if type(x) != Reg: \n",
    "        x = loadItem(x)\n",
    "    if x.reg in (R0, '$a0', '$a1', '$a2', '$a3'): # find new destination register\n",
    "        r = x.reg; x.reg = obtainReg()\n",
    "    else: r = x.reg # r is source, x.reg is destination\n",
    "    if type(y) == Const:\n",
    "        testRange(y); putOp(cd, x.reg, r, y.val)\n",
    "    else:\n",
    "        if type(y) != Reg: y = loadItem(y)\n",
    "        putOp(cd, x.reg, r, y.reg); releaseReg(y.reg)\n",
    "    return x"
   ]
  },
  {
   "cell_type": "markdown",
   "metadata": {
    "deletable": true,
    "editable": true
   },
   "source": [
    "Procedures `genVar`, `genConst`, `genUnaryOp`, `genBinaryOp`, `genRelation`, `genSelect`, and `genIndex` generate code for expressions (e.g. right hand side of assignments) and for  locations (e.g. left hand side of assignments).\n",
    "\n",
    "Procedure `genVar(x)` allows `x` to refer to a global variable, local variable, or procedure parameter: the assumption is that `x.reg` (which can be `R0`) and `x.adr` (which can be 0) refer to the variable. References to variables on intermediate level is not supported. For global variables, the reference is kept symbolic, to be resolved later by the assembler. Item `x` is `Var` or `Ref`; if it is `Ref`, the reference is loaded into a new register. A new `Var` item with the location is returned."
   ]
  },
  {
   "cell_type": "code",
   "execution_count": 14,
   "metadata": {
    "collapsed": true,
    "deletable": true,
    "editable": true
   },
   "outputs": [],
   "source": [
    "\"\"\"  \n",
    "def genVar(x): # version not supporting parameters in registers\n",
    "    if 0 < x.lev < curlev: mark('level!')\n",
    "    y = Var(x.tp); y.lev = x.lev\n",
    "    if type(x) == Ref: # reference is loaded into register\n",
    "        y.reg, y.adr = obtainReg(), 0 # variable at M[y.reg]\n",
    "        putMemOp('lw', y.reg, x.reg, x.adr)\n",
    "    elif type(x) == Var:\n",
    "        y.reg, y.adr = x.reg, x.adr \n",
    "    else: assert False\n",
    "    return y\n",
    "\"\"\"\n",
    "def genVar(x): # version supporting parameters in registers\n",
    "    if 0 < x.lev < curlev: mark('level!')\n",
    "    if type(x) == Ref:\n",
    "        y = Var(x.tp); y.lev = x.lev\n",
    "        if hasattr(x, 'reg'):\n",
    "            if x.reg in ('$a0', '$a1', '$a2', '$a3'): # reference already in register, use it\n",
    "                y.reg, y.adr = x.reg, 0 # variable at M[y.reg]\n",
    "            else: # reference is loaded into register\n",
    "                y.reg, y.adr = obtainReg(), 0 # variable at M[y.reg]\n",
    "                putMemOp('lw', y.reg, x.reg, x.adr)\n",
    "    elif type(x) == Var:\n",
    "        if x.reg in ('$a0', '$a1', '$a2', '$a3'): # value already in register, use it\n",
    "            y = Reg(x.tp, x.reg) #; y.lev, x.adr = x.lev, x.adr\n",
    "        else:\n",
    "            y = Var(x.tp); y.lev, y.reg, y.adr, y.name = x.lev, x.reg, x.adr, x.name\n",
    "    else: assert False\n",
    "    return y"
   ]
  },
  {
   "cell_type": "markdown",
   "metadata": {
    "deletable": true,
    "editable": true
   },
   "source": [
    "Procedure `genConst(x)` does not need to generate any code."
   ]
  },
  {
   "cell_type": "code",
   "execution_count": 15,
   "metadata": {
    "collapsed": true,
    "deletable": true,
    "editable": true
   },
   "outputs": [],
   "source": [
    "def genConst(x):\n",
    "    # x is Const\n",
    "    return x"
   ]
  },
  {
   "cell_type": "markdown",
   "metadata": {
    "deletable": true,
    "editable": true
   },
   "source": [
    "Procedure `genUnaryOp(op, x)` generates code for `op x` if `op` is `MINUS`, `NOT` and `x` is `Int`, `Bool`; if `op` is `AND`, `OR`, item `x` is the first operand. If it is not already a `Cond` item, it is made so which is loaded into a register. A branch instruction is generated for `OR` and a branch instruction with a negated condition for `AND`."
   ]
  },
  {
   "cell_type": "code",
   "execution_count": 16,
   "metadata": {
    "collapsed": true,
    "deletable": true,
    "editable": true
   },
   "outputs": [],
   "source": [
    "def negate(cd):\n",
    "    return {EQ: NE, NE: EQ, LT: GE, LE: GT, GT: LE, GE: LT}[cd]\n",
    "\n",
    "def condOp(cd):\n",
    "    return {EQ: 'beq', NE: 'bne', LT: 'blt', LE: 'ble', GT: 'bgt', GE: 'bge'}[cd]\n",
    "\n",
    "def genUnaryOp(op, x):\n",
    "    if op == MINUS: # subtract from 0\n",
    "        if type(x) == Var: x = loadItem(x)\n",
    "        putOp('sub', x.reg, R0, x.reg)\n",
    "    elif op == NOT: # switch condition and branch targets, no code\n",
    "        if type(x) != Cond: x = loadBool(x)\n",
    "        x.cond = negate(x.cond); x.labA, x.labB = x.labB, x.labA\n",
    "    elif op == AND: # load first operand into register and branch\n",
    "        if type(x) != Cond: x = loadBool(x)\n",
    "        putBranchOp(condOp(negate(x.cond)), x.left, x.right, x.labA[0])\n",
    "        releaseReg(x.left); releaseReg(x.right); putLab(x.labB)\n",
    "    elif op == OR: # load first operand into register and branch\n",
    "        if type(x) != Cond: x = loadBool(x)\n",
    "        putBranchOp(condOp(x.cond), x.left, x.right, x.labB[0])\n",
    "        releaseReg(x.left); releaseReg(x.right); putLab(x.labA)\n",
    "    else: assert False\n",
    "    return x"
   ]
  },
  {
   "cell_type": "markdown",
   "metadata": {
    "deletable": true,
    "editable": true
   },
   "source": [
    "Procedure `genBinaryOp(op, x, y)` generates code for `x op y` if `op` is `PLUS`, `MINUS`, `TIMES`, `DIV`, `MOD`. If `op` is `AND`, `OR`, operand `y` is made a `Cond` item it if is not so already and the branch targets are merged. "
   ]
  },
  {
   "cell_type": "code",
   "execution_count": 17,
   "metadata": {
    "collapsed": true,
    "deletable": true,
    "editable": true
   },
   "outputs": [],
   "source": [
    "def genBinaryOp(op, x, y):\n",
    "    \n",
    "    \n",
    "    if type(x) == Const:\n",
    "        loadConstCLR(x.val)\n",
    "    else:\n",
    "        if x.tp in {Int, Bool}:\n",
    "            loadVariableCLR(x)\n",
    "\n",
    "    if type(y) == Const:\n",
    "        loadConstCLR(y.val)\n",
    "    else:\n",
    "        if y.tp in {Int, Bool}:\n",
    "            loadVariableCLR(y)\n",
    "        \n",
    "        \n",
    "    if type(x) == Const:\n",
    "        temp = y\n",
    "        x = y\n",
    "        y = temp\n",
    "        \n",
    "    if op == PLUS: \n",
    "        putInstr2('add')\n",
    "        y = put('add', x, y)\n",
    "    elif op == MINUS: \n",
    "        putInstr2('sub')\n",
    "        y = put('sub', x, y)\n",
    "    elif op == TIMES:\n",
    "        putInstr2('mul')\n",
    "        y = put('mul', x, y)\n",
    "    elif op == DIV:\n",
    "        putInstr2('div')\n",
    "        y = put('div', x, y)\n",
    "    elif op == MOD:\n",
    "        putInstr2('rem')\n",
    "        y = put('mod', x, y)\n",
    "    elif op == AND: # load second operand into register \n",
    "        if type(y) != Cond: y = loadBool(y)\n",
    "        y.labA += x.labA # update branch targets\n",
    "    elif op == OR: # load second operand into register\n",
    "        if type(y) != Cond: y = loadBool(y)\n",
    "        y.labB += x.labB # update branch targets\n",
    "    else: assert False\n",
    "    return y"
   ]
  },
  {
   "cell_type": "markdown",
   "metadata": {
    "deletable": true,
    "editable": true
   },
   "source": [
    "Procedure `genRelation(op, x, y)` generates code for `x op y` if `op` is `EQ`, `NE`, `LT`, `LE`, `GT`, `GE`. Items `x` and `y` cannot be both constants. A new `Cond` item is returned."
   ]
  },
  {
   "cell_type": "code",
   "execution_count": 18,
   "metadata": {
    "collapsed": true,
    "deletable": true,
    "editable": true
   },
   "outputs": [],
   "source": [
    "def genRelation(op, x, y):\n",
    "    if type(x) != Reg: x = loadItem(x)\n",
    "    if type(y) != Reg: y = loadItem(y)\n",
    "    return Cond(op, x.reg, y.reg)"
   ]
  },
  {
   "cell_type": "markdown",
   "metadata": {
    "deletable": true,
    "editable": true
   },
   "source": [
    "Procedure `genSelect(x, f)` \"generates code\" for `x.f`, provided `f` is in `x.fields`. Only `x.adr` is updated, no code is generated. An updated item is returned."
   ]
  },
  {
   "cell_type": "code",
   "execution_count": 19,
   "metadata": {
    "collapsed": true,
    "deletable": true,
    "editable": true
   },
   "outputs": [],
   "source": [
    "def genSelect(x, f):\n",
    "    \n",
    "    from_class = 'MainClass'\n",
    "#     if f.tp in classes.values():\n",
    "#         from_class = getClRTypeString(f.tp)[6:]\n",
    "\n",
    "    if hasattr(x, 'name'):\n",
    "        putInstr2('ldsfld '+getClRTypeString(x.tp)+' '+from_class+'::'+x.name)\n",
    "    \n",
    "    x.name = f.name\n",
    "    \n",
    "    x.selectorClass = x.tp\n",
    "    x.tp = f.tp\n",
    "    if hasattr(x, 'adr'):\n",
    "        x.adr = x.adr + f.offset if type(x.adr) == int else \\\n",
    "                            x.adr + '+' + str(f.offset)\n",
    "    \n",
    "    \n",
    "#     x.tp = x.name\n",
    "#     print(x)\n",
    "    return x"
   ]
  },
  {
   "cell_type": "markdown",
   "metadata": {
    "deletable": true,
    "editable": true
   },
   "source": [
    "Procedure `genIndex(x, y)` generates code for `x[y]`, assuming `x` is `Var` or `Ref`, `x.tp` is `Array`, and `y.tp` is `Int`. If `y` is `Const`, only `x.adr` is updated and no code is generated, otherwise code for array index calculation is generated."
   ]
  },
  {
   "cell_type": "code",
   "execution_count": 20,
   "metadata": {
    "collapsed": true,
    "deletable": true,
    "editable": true
   },
   "outputs": [],
   "source": [
    "def genIndex(x, y):  \n",
    "    if type(y) == Const:\n",
    "        loadConstCLR(y.val - x.tp.lower)\n",
    "        offset = (y.val - x.tp.lower) * x.tp.base.size\n",
    "        if hasattr(x, 'adr'):\n",
    "            x.adr = x.adr + (offset if type(x.adr) == int else '+' + str(offset))\n",
    "    else:\n",
    "        if type(y) != Reg:\n",
    "            x.varName = y.name\n",
    "            y = loadItem(y)\n",
    "        if hasattr(x, 'reg') and hasattr(y, 'reg'):    \n",
    "            putOp('sub', y.reg, y.reg, x.tp.lower)\n",
    "            putOp('mul', y.reg, y.reg, x.tp.base.size)\n",
    "            if x.reg != R0:\n",
    "                putOp('add', y.reg, x.reg, y.reg); releaseReg(x.reg)\n",
    "            x.reg = y.reg\n",
    "    x.tp = x.tp.base\n",
    "    x.isFromArray = True\n",
    "    return x"
   ]
  },
  {
   "cell_type": "markdown",
   "metadata": {
    "deletable": true,
    "editable": true
   },
   "source": [
    "Procedure `genAssign(x, y)` generates code for `x := y`, provided `x` is `Var`. Item `x` is loaded into a register if it is not already there; if `x` is `Cond`, then either `0` or `1` is loaded into a register."
   ]
  },
  {
   "cell_type": "code",
   "execution_count": 21,
   "metadata": {
    "collapsed": false,
    "deletable": true,
    "editable": true
   },
   "outputs": [],
   "source": [
    "def genAssign(x, y):\n",
    "    if type(x) == Var:\n",
    "        \n",
    "        \n",
    "        if type(y) == Cond:\n",
    "            putBranchOp(condOp(negate(y.cond)), y.left, y.right, y.labA[0])\n",
    "            releaseReg(y.left); releaseReg(y.right); r = obtainReg()\n",
    "            putLab(y.labB); putOp('addi', r, R0, 1) # load true\n",
    "            lab = newLabel()\n",
    "            putInstr('b', lab)\n",
    "            putLab(y.labA); putOp('addi', r, R0, 0) # load false \n",
    "            putLab(lab)\n",
    "        elif type(y) != Reg: \n",
    "            y = loadItem(y); r = y.reg\n",
    "            \n",
    "        else: \n",
    "            r = y.reg\n",
    "            \n",
    "        storeVariableCLR(x)\n",
    "            \n",
    "        if hasattr(x, 'reg'):\n",
    "            putMemOp('sw', r, x.reg, x.adr) \n",
    "        \n",
    "        releaseReg(r)\n",
    "        \n",
    "        \n",
    "        \n",
    "    else: assert False"
   ]
  },
  {
   "cell_type": "markdown",
   "metadata": {
    "collapsed": true,
    "deletable": true,
    "editable": true
   },
   "source": [
    "The procedure calling convention is as follows:\n",
    "- last parameter at `0($fp)`, 2nd last at `4($fp)`, ...\n",
    "- previous frame pointer at `-4($fp)`\n",
    "- return address at `-8($fp)`\n",
    "- 1st local at `-12($fp)`, ...\n",
    "\n",
    "The Stack pointer `$sp` points to last used location on the stack.\n",
    "\n",
    "On procedure entry:\n",
    "- caller pushes 1st parameter at `-4($sp)`, 2nd at `-8($sp)`, ...\n",
    "- caller calls callee\n",
    "- callee saves `$fp` at `$sp - parameter size - 4`\n",
    "- callee saves `$ra` at `$sp - parameter size - 8`\n",
    "- callee sets `$fp` to `$sp - parameter size`\n",
    "- callee sets `$sp` to `$fp - local var size - 8`\n",
    "\n",
    "On procedure exit:\n",
    "- callee sets `$sp` to `$fp + parameter size`\n",
    "- callee loads `$ra` from `$fp - 8`\n",
    "- callee loads `$fp` from `$fp - 4`\n",
    "- callee returns\n",
    "\n",
    "For each local variable, `genLocalVars(sc, start)` updates the entry of the variable with the FP-relative address and returns their total size. The parameter `sc` contains the top scope with all local declarations parsed so far; only variable declarations from index `start` on in the top scope are considered."
   ]
  },
  {
   "cell_type": "code",
   "execution_count": 22,
   "metadata": {
    "collapsed": true,
    "deletable": true,
    "editable": true
   },
   "outputs": [],
   "source": [
    "def genLocalVars(sc, start):\n",
    "    s = 0 # local block size\n",
    "    if proclvl > 0:\n",
    "        for i in range(len(sc)):\n",
    "            if type(sc[i]) == Var:\n",
    "                s = s + sc[i].tp.size\n",
    "                sc[i].reg, sc[i].adr = FP, - s - 8\n",
    "                current_top_proc = getCurrentProc()\n",
    "                current_top_proc[3].append(sc[i])\n",
    "    else:\n",
    "        putInstr2('.locals init (')\n",
    "        for i in range(start, len(sc)):\n",
    "            if type(sc[i]) == Var:\n",
    "                s = s + sc[i].tp.size\n",
    "                sc[i].reg, sc[i].adr = FP, - s - 8\n",
    "\n",
    "                type_name = getClRTypeString(sc[i].tp)\n",
    "\n",
    "                if i == len(sc)-1:\n",
    "                    putInstr2(type_name+' V_'+str(i)+')', 1)\n",
    "                else:\n",
    "                    putInstr2(type_name+' V_'+str(i)+',', 1)\n",
    "            \n",
    "    return s"
   ]
  },
  {
   "cell_type": "markdown",
   "metadata": {
    "deletable": true,
    "editable": true
   },
   "source": [
    "Procedure `genProcStart()` generate the directive for starting instructions."
   ]
  },
  {
   "cell_type": "code",
   "execution_count": 23,
   "metadata": {
    "collapsed": true,
    "deletable": true,
    "editable": true
   },
   "outputs": [],
   "source": [
    "def genProcStart():\n",
    "    global curlev\n",
    "    curlev = curlev + 1\n",
    "    putInstr('.text')"
   ]
  },
  {
   "cell_type": "markdown",
   "metadata": {
    "deletable": true,
    "editable": true
   },
   "source": [
    "Procedure `genFormalParams(sc)` determines the FP-relative address of all parameters in the list `sc` of procedure parameters. Each parameter must be of type `Int` or `Bool` or must be a reference parameter."
   ]
  },
  {
   "cell_type": "code",
   "execution_count": 24,
   "metadata": {
    "collapsed": true,
    "deletable": true,
    "editable": true
   },
   "outputs": [],
   "source": [
    "def genFormalParams(ident, sc):\n",
    "    global proclvl\n",
    "    arguments = []\n",
    "    \n",
    "    n = len(sc) # parameter block length\n",
    "    for i in range(n):\n",
    "        if sc[i].tp in (Int, Bool) or type(sc[i].tp) == Ref:\n",
    "            sc[i].reg, sc[i].adr = FP, (n - i - 1) * 4\n",
    "            \n",
    "        if sc[i].tp is Int:\n",
    "            arguments.append(sc[i])\n",
    "        elif sc[i].tp is Bool:\n",
    "            arguments.append(sc[i])\n",
    "        elif sc[i].tp in classes.values():\n",
    "            arguments.append(sc[i])\n",
    "            \n",
    "        else: mark('no structured value parameters')\n",
    "\n",
    "    \n",
    "    if proclvl > 0:\n",
    "        current_top_proc = getCurrentProc()\n",
    "        current_top_proc[1].append((ident, [], arguments, [], []))\n",
    "    else:\n",
    "        procs.append((ident, [], arguments, [], []))\n",
    "    \n",
    "    proclvl = proclvl+1\n",
    "    \n",
    "    return n * 4"
   ]
  },
  {
   "cell_type": "markdown",
   "metadata": {
    "deletable": true,
    "editable": true
   },
   "source": [
    "Procedures `genProcEntry(ident, parsize, localsize)` and `genProcExit(x, parsize, localsize)` generate the procedure prologue and epilogue."
   ]
  },
  {
   "cell_type": "code",
   "execution_count": 25,
   "metadata": {
    "collapsed": true,
    "deletable": true,
    "editable": true
   },
   "outputs": [],
   "source": [
    "def genProcEntry(ident, parsize, localsize):\n",
    "    putInstr('.globl ' + ident)            # global declaration directive\n",
    "    putInstr('.ent ' + ident)              # entry point directive\n",
    "    putLab(ident)                          # procedure entry label\n",
    "    putMemOp('sw', FP, SP, - parsize - 4)  # push frame pointer\n",
    "    putMemOp('sw', LNK, SP, - parsize - 8) # push return address\n",
    "    putOp('sub', FP, SP, parsize)          # set frame pointer\n",
    "    putOp('sub', SP, FP, localsize + 8)    # set stack pointer\n",
    "\n",
    "def genProcExit(x, parsize, localsize):\n",
    "    global curlev\n",
    "    curlev = curlev - 1\n",
    "    putOp('add', SP, FP, parsize) # restore stack pointer\n",
    "    putMemOp('lw', LNK, FP, - 8)  # pop return address\n",
    "    putMemOp('lw', FP, FP, - 4)   # pop frame pointer\n",
    "    putInstr('jr $ra')            # return\n",
    "    \n",
    "    global proclvl\n",
    "    proclvl = proclvl - 1\n",
    "#     putInstr2('}')\n",
    "    if proclvl == 0:\n",
    "        putProcedure(procs[len(procs)-1])"
   ]
  },
  {
   "cell_type": "markdown",
   "metadata": {
    "deletable": true,
    "editable": true
   },
   "source": [
    "Procedure `genActualPara(ap, fp, n)` assume that `ap` is an item with the actual parameter, `fp` is the entry for the formal parameter, and `n` is the parameter number. The parameters are pushed SP-relative on the stack. The formal parameter is either `Var` or `Ref`."
   ]
  },
  {
   "cell_type": "code",
   "execution_count": 26,
   "metadata": {
    "collapsed": true,
    "deletable": true,
    "editable": true
   },
   "outputs": [],
   "source": [
    "def genActualPara(ap, fp, n):\n",
    "    if type(fp) == Ref:  #  reference parameter, assume p is Var\n",
    "        if ap.adr != 0:  #  load address in register\n",
    "            r = obtainReg(); putMemOp('la', r, ap.reg, ap.adr)\n",
    "        else: r = ap.reg  #  address already in register\n",
    "        putMemOp('sw', r, SP, - 4 * (n + 1)); releaseReg(r)\n",
    "    else:  #  value parameter\n",
    "        if type(ap) != Cond:\n",
    "            if type(ap) != Reg: ap = loadItem(ap)\n",
    "            putMemOp('sw', ap.reg, SP, - 4 * (n + 1)); releaseReg(ap.reg)\n",
    "        else: mark('unsupported parameter type')\n",
    "    return (ap, fp, n)"
   ]
  },
  {
   "cell_type": "markdown",
   "metadata": {
    "deletable": true,
    "editable": true
   },
   "source": [
    "Procedure `genCall(pr, ap)` assumes `pr` is `Proc` and `ap` is a list of actual parameters."
   ]
  },
  {
   "cell_type": "code",
   "execution_count": 27,
   "metadata": {
    "collapsed": true,
    "deletable": true,
    "editable": true
   },
   "outputs": [],
   "source": [
    "def genCall(pr, ap):\n",
    "    putInstr('jal', pr.name)\n",
    "    \n",
    "    proc_ret = findProcByLevel(procs, pr.name, pr.lev)\n",
    "    if proc_ret:\n",
    "        trace_string = ''\n",
    "        if len(proc_ret[1]) > 0:\n",
    "            trace_string += '/'\n",
    "            trace_string +='/'.join(proc_ret[1])\n",
    "        if(len(ap) > 0):\n",
    "            for a in ap:\n",
    "                loadVariableCLR(a[0])\n",
    "        putInstr2('call void class MainClass'+trace_string+'/'+pr.name+'::main_proc('+', '.join(getClRTypeString(l.tp) for (l, m, n) in ap)+')')"
   ]
  },
  {
   "cell_type": "markdown",
   "metadata": {
    "deletable": true,
    "editable": true
   },
   "source": [
    "Procedures `genRead(x)`, `genWrite(x)`, `genWriteln()` generate code for SPIM-defined \"syscalls\"; `genRead(x)` and assumes that `x` is `Var` and `genWrite(x)` assumes that `x` is `Ref`, `Var`, `Reg`.  "
   ]
  },
  {
   "cell_type": "code",
   "execution_count": 28,
   "metadata": {
    "collapsed": false,
    "deletable": true,
    "editable": true
   },
   "outputs": [],
   "source": [
    "def genRead(x):\n",
    "    putInstr('li $v0, 5'); putInstr('syscall')\n",
    "    putMemOp('sw', '$v0', x.reg, x.adr)\n",
    "    \n",
    "#     putInstr2('.locals init (int32 V_0)')\n",
    "    putInstr2('call string class [mscorlib]System.Console::ReadLine()')\n",
    "    putInstr2('call int32 class [mscorlib]System.Convert::ToInt32(string)')\n",
    "    type_name = getClRTypeString(x.tp)\n",
    "    putInstr2('stsfld '+type_name+' MainClass::'+x.name)\n",
    "    \n",
    "    \n",
    "\n",
    "def genWrite(x):\n",
    "    loadItemReg(x, '$a0'); putInstr('li $v0, 1'); putInstr('syscall')\n",
    "        \n",
    "    type_name = getClRTypeString(x.tp)\n",
    "    \n",
    "    if type(x) != Reg:\n",
    "        loadVariableCLR(x)\n",
    "    putInstr2('call void class [mscorlib]System.Console::Write('+type_name+')')\n",
    "        \n",
    "\n",
    "def genWriteln():\n",
    "    putInstr('li $v0, 11'); putInstr(\"li $a0, '\\\\n'\"); putInstr('syscall')\n",
    "    putInstr2('call void class [mscorlib]System.Console::WriteLine()')"
   ]
  },
  {
   "cell_type": "markdown",
   "metadata": {
    "deletable": true,
    "editable": true
   },
   "source": [
    "For control structures:\n",
    "- `genSeq(x, y)` generates `x ; y`, assuming `x`, `y` are statements\n",
    "- `genCond(x)` generates code for branching on `x`, assuming that `x` is of type `Bool`\n",
    "- `genIfThen(x, y)` generates code for `y` in `if x then y`\n",
    "- `genThen(x, y)` generates code for `y` in `if x then y else z`\n",
    "- `genIfElse(x, y, z)` generates code for `z` in `if x then y else z`\n",
    "- `genTarget()` generates and returns a target for backward branches\n",
    "- `genWhile(lab, x, y)` generates code for `y` in `while x do y`, assuming that target `lab` was generated before `x`."
   ]
  },
  {
   "cell_type": "code",
   "execution_count": 29,
   "metadata": {
    "collapsed": true,
    "deletable": true,
    "editable": true
   },
   "outputs": [],
   "source": [
    "def genSeq(x, y):\n",
    "    pass\n",
    "\n",
    "def genCond(x):\n",
    "    if type(x) != Cond: x = loadBool(x)\n",
    "    putBranchOp(condOp(negate(x.cond)), x.left, x.right, x.labA[0])\n",
    "    releaseReg(x.left); releaseReg(x.right); putLab(x.labB)\n",
    "    return x\n",
    "\n",
    "def genIfThen(x, y):\n",
    "    putLab(x.labA)\n",
    "\n",
    "def genThen(x, y):\n",
    "    lab = newLabel()\n",
    "    putInstr('b', lab)\n",
    "    putLab(x.labA); \n",
    "    return lab\n",
    "\n",
    "def genIfElse(x, y, z):\n",
    "    putLab(y)\n",
    "\n",
    "def genTarget():\n",
    "    lab = newLabel()\n",
    "    putLab(lab)\n",
    "    return lab\n",
    "\n",
    "def genWhile(lab, x, y):\n",
    "    putInstr('b', lab)\n",
    "    putLab(x.labA); "
   ]
  },
  {
   "cell_type": "code",
   "execution_count": 30,
   "metadata": {
    "collapsed": true,
    "deletable": true,
    "editable": true
   },
   "outputs": [],
   "source": [
    "def loadConstCLR(c):\n",
    "    if(c <= 8):\n",
    "        putInstr2('ldc.i4.'+str(c))\n",
    "    else:\n",
    "        putInstr2('ldc.i4.s '+str(hex(c)))"
   ]
  },
  {
   "cell_type": "code",
   "execution_count": 31,
   "metadata": {
    "collapsed": false,
    "deletable": true,
    "editable": true
   },
   "outputs": [],
   "source": [
    "def createTypeClass(ident, x):\n",
    "    classes[ident] = x.val\n",
    "    classInstr = []\n",
    "    defaultMethodLines = []\n",
    "    classInstr.append(('.class private auto ansi beforefieldinit '+ident, 0))\n",
    "    classInstr.append(('extends [mscorlib]System.Object', 1))\n",
    "    classInstr.append(('{', 0))\n",
    "    if type(x.val) is Array:\n",
    "        defaultMethodLines += putArrayField(ident, x.val, classInstr)\n",
    "    elif type(x.val) is Record:\n",
    "        for field in x.val.fields:\n",
    "            field.of = ident\n",
    "            type_name = getClRTypeString(field.tp)\n",
    "            field_name = field.name\n",
    "            if type_name:\n",
    "                classInstr.append(('.field  public '+type_name+' '+field_name, 1))\n",
    "                if 'class ' in type_name:\n",
    "                    defaultMethodLines.append('ldarg.0')\n",
    "                    defaultMethodLines.append('newobj instance void '+type_name+'::\\'.ctor\\'()')\n",
    "                    defaultMethodLines.append('stfld '+type_name+' '+ident+'::'+field_name)\n",
    "            elif type(field.tp) is Array:\n",
    "                defaultMethodLines += putArrayField(ident, field.tp, classInstr, field_name)\n",
    "    putTypeClassDefaultMethod(classInstr, defaultMethodLines)\n",
    "    classInstr.append(('}', 0))\n",
    "    classInstrs.append(classInstr)\n",
    "    "
   ]
  },
  {
   "cell_type": "code",
   "execution_count": 32,
   "metadata": {
    "collapsed": false,
    "deletable": true,
    "editable": true
   },
   "outputs": [],
   "source": [
    "def putArrayField(ident, x, classInstr, array_name = 'arr'):\n",
    "    defaultMethodLines = []\n",
    "    \n",
    "    sys_type_name, type_class_name = None, None\n",
    "    \n",
    "    type_name = getClRTypeString(x.base)\n",
    "    if type_name is 'int32':\n",
    "        sys_type_name = 'Int32'\n",
    "    elif type_name is 'bool':\n",
    "        sys_type_name = 'Boolean'\n",
    "    elif 'class ' in type_name:\n",
    "        type_class_name = type_name[6:]\n",
    "        \n",
    "    classInstr.append(('.field  public '+type_name+'[] '+array_name, 1))\n",
    "\n",
    "    defaultMethodLines.append('ldarg.0')\n",
    "    defaultMethodLines.append('ldc.i4.s '+str(hex(x.length)))\n",
    "    if sys_type_name:\n",
    "        defaultMethodLines.append('newarr [mscorlib]System.'+sys_type_name)\n",
    "    if type_class_name:\n",
    "        defaultMethodLines.append('newarr '+type_class_name)\n",
    "    defaultMethodLines.append('stfld '+type_name+'[] '+ident+'::'+array_name)\n",
    "    return defaultMethodLines\n",
    "    \n",
    "        "
   ]
  },
  {
   "cell_type": "code",
   "execution_count": 33,
   "metadata": {
    "collapsed": true,
    "deletable": true,
    "editable": true
   },
   "outputs": [],
   "source": [
    "def putTypeClassDefaultMethod(classInstr, defaultMethodLines):\n",
    "    classInstr.append(('.method public hidebysig specialname rtspecialname', 1))\n",
    "    classInstr.append(('instance default void \\'.ctor\\' ()  cil managed ', 2))\n",
    "    classInstr.append(('{', 1))\n",
    "    classInstr.append(('.maxstack 8', 2))\n",
    "    for defaultMethodLine in defaultMethodLines:\n",
    "        classInstr.append((defaultMethodLine, 2))\n",
    "    classInstr.append(('ldarg.0', 2))\n",
    "    classInstr.append(('call instance void object::\\'.ctor\\'()', 2))\n",
    "    classInstr.append(('ret', 2))\n",
    "    classInstr.append(('}', 1))\n",
    "    "
   ]
  },
  {
   "cell_type": "code",
   "execution_count": 34,
   "metadata": {
    "collapsed": true,
    "deletable": true,
    "editable": true
   },
   "outputs": [],
   "source": [
    "def putMainClassDefaultMethod(defaultMethodLines):\n",
    "    putInstr2('.method private static hidebysig specialname rtspecialname')\n",
    "    putInstr2('default void \\'.cctor\\' ()  cil managed ', 1)\n",
    "    putInstr2('{')\n",
    "    putInstr2('.maxstack 8', 1)\n",
    "    for defaultMethodLine in defaultMethodLines:\n",
    "        putInstr2(defaultMethodLine, 1)\n",
    "    putInstr2('ret', 1)\n",
    "    putInstr2('}')"
   ]
  },
  {
   "cell_type": "code",
   "execution_count": 35,
   "metadata": {
    "collapsed": true,
    "deletable": true,
    "editable": true
   },
   "outputs": [],
   "source": [
    "def putClassInstrs():\n",
    "    if len(classInstrs) > 0:\n",
    "        instrs.insert(0,('\\n', 0))\n",
    "        for class_ in reversed(classInstrs):\n",
    "            for (i, v) in reversed(class_):\n",
    "                instrs.insert(0,(i, v))"
   ]
  },
  {
   "cell_type": "code",
   "execution_count": 36,
   "metadata": {
    "collapsed": true,
    "deletable": true,
    "editable": true
   },
   "outputs": [],
   "source": [
    "def putExternalLibInstrs():\n",
    "    instrs.insert(0,('\\n', 0))\n",
    "    for i in reversed(externalLibInstrs):\n",
    "        instrs.insert(0,(i, 0))"
   ]
  },
  {
   "cell_type": "code",
   "execution_count": 37,
   "metadata": {
    "collapsed": false,
    "deletable": true,
    "editable": true
   },
   "outputs": [],
   "source": [
    "def putProcedure(proc):\n",
    "    global tablvl\n",
    "    name = proc[0]\n",
    "    nested_procs = proc[1]\n",
    "    arguments = proc[2]\n",
    "    proc_locals = proc[3]\n",
    "    proc_instrs = proc[4]\n",
    "    putInstr2('\\n')\n",
    "    putInstr2('.class nested private auto ansi beforefieldinit '+name)\n",
    "    putInstr2('extends [mscorlib]System.Object', 1)\n",
    "    putInstr2('{')\n",
    "    putInstr2('.method public static hidebysig', 1)\n",
    "    putInstr2('default void main_proc ('+', '.join(getClRTypeString(sc.tp)+' '+sc.name for sc in arguments)+')  cil managed', 2)\n",
    "    putInstr2('{',1)\n",
    "    if len(proc_locals) > 0:\n",
    "        putInstr2('.locals init (', 2)\n",
    "    for i in range(len(proc_locals)):\n",
    "        if i == len(proc_locals)-1:\n",
    "            putInstr2(getClRTypeString(proc_locals[i].tp)+' V_'+str(i)+')', 3)\n",
    "        else:\n",
    "            putInstr2(getClRTypeString(proc_locals[i].tp)+' V_'+str(i)+',', 3)\n",
    "    for i in range(len(proc_instrs)):\n",
    "        putInstr2(proc_instrs[i], 2)\n",
    "    putInstr2('ret', 2)\n",
    "    putInstr2('}',1)\n",
    "    for i in range(len(nested_procs)):\n",
    "        tablvl+=1\n",
    "        putProcedure(nested_procs[i])\n",
    "        tablvl-=1\n",
    "    putInstr2('}')\n",
    "    putInstr2('\\n')"
   ]
  },
  {
   "cell_type": "code",
   "execution_count": 38,
   "metadata": {
    "collapsed": true,
    "deletable": true,
    "editable": true
   },
   "outputs": [],
   "source": [
    "def getCurrentProc():\n",
    "    if proclvl > 0:\n",
    "        current_top_proc = procs[len(procs)-1]\n",
    "        for i in range(proclvl-1):\n",
    "            current_top_proc = current_top_proc[1][len(current_top_proc[1])-1]\n",
    "        return current_top_proc\n",
    "    return None"
   ]
  },
  {
   "cell_type": "code",
   "execution_count": 39,
   "metadata": {
    "collapsed": true,
    "deletable": true,
    "editable": true
   },
   "outputs": [],
   "source": [
    "def getClRTypeString(tp):\n",
    "    if tp is Int:\n",
    "        return 'int32'\n",
    "    elif tp is Bool:\n",
    "        return 'bool'\n",
    "    elif tp in classes.values():\n",
    "        return 'class '+list(classes.keys())[list(classes.values()).index(tp)]\n",
    "    else:\n",
    "        return None"
   ]
  },
  {
   "cell_type": "code",
   "execution_count": 40,
   "metadata": {
    "collapsed": true,
    "deletable": true,
    "editable": true
   },
   "outputs": [],
   "source": [
    "def findProcByLevel(procs_, name, lvl, trace = []):\n",
    "    for i in range(len(procs_)):\n",
    "        proc = procs_[i]\n",
    "        if lvl == 0:\n",
    "            if proc[0] == name:\n",
    "                return (proc, trace)\n",
    "        elif lvl > 0:\n",
    "            findProcSublevel = findProcByLevel(proc[1], name, lvl-1, trace+[proc[0]])\n",
    "            if findProcSublevel:\n",
    "                return findProcSublevel\n",
    "    return None"
   ]
  },
  {
   "cell_type": "code",
   "execution_count": 41,
   "metadata": {
    "collapsed": false,
    "deletable": true,
    "editable": true
   },
   "outputs": [],
   "source": [
    "def loadVariableCLR(x):\n",
    "    if type(x) == Const:\n",
    "        print(x)\n",
    "    elif hasattr(x, 'isFromArray') and x.lev == 0:\n",
    "        putInstr2('ldelem.i4')\n",
    "    elif x.lev > 0:\n",
    "        cur_proc = getCurrentProc()\n",
    "        \n",
    "        lv_index = 0\n",
    "        found_lv = False\n",
    "        \n",
    "        if hasattr(x, 'varName'):\n",
    "            for lv in cur_proc[3]:\n",
    "                if lv.name == x.varName and lv.tp == x.tp:\n",
    "                    putInstr2('ldloc.'+str(lv_index))\n",
    "                    found_lv = True\n",
    "                    break\n",
    "                lv_index+=1\n",
    "        elif hasattr(x, 'name'):\n",
    "            for lv in cur_proc[3]:\n",
    "                if hasattr(x, 'selectorClass'):\n",
    "                    if lv.name == x.name and lv.tp == x.selectorClass:\n",
    "                        putInstr2('ldloc.'+str(lv_index))\n",
    "                        found_lv = True\n",
    "                        break\n",
    "                elif lv.name == x.name and lv.tp == x.tp:\n",
    "                    putInstr2('ldloc.'+str(lv_index))\n",
    "                    found_lv = True\n",
    "                    break\n",
    "                lv_index+=1\n",
    "                \n",
    "        if not found_lv:\n",
    "            argv_index = 0\n",
    "            for argv in cur_proc[2]:\n",
    "                if hasattr(x, 'selectorClass'):\n",
    "                    if argv.tp == x.selectorClass:\n",
    "                        putInstr2('ldarg.'+str(argv_index))\n",
    "                        putInstr2('ldfld '+getClRTypeString(x.tp)+' '+getClRTypeString(x.selectorClass)[6:]+'::'+x.name)\n",
    "                        break\n",
    "#                 if argv.name == x.name and argv.tp == x.tp:\n",
    "                elif argv.tp == x.tp:\n",
    "                    putInstr2('ldarg.'+str(argv_index))\n",
    "                    break\n",
    "                argv_index+=1\n",
    "        \n",
    "        if hasattr(x, 'isFromArray'):\n",
    "            putInstr2('ldelem.i4')\n",
    "    elif hasattr(x, 'selectorClass'):\n",
    "        if hasattr(x, 'name'):\n",
    "            putInstr2('ldfld '+getClRTypeString(x.tp)+' '+getClRTypeString(x.selectorClass)[6:]+'::'+x.name)\n",
    "    else:\n",
    "        putInstr2('ldsfld '+getClRTypeString(x.tp)+' MainClass::'+x.name)\n"
   ]
  },
  {
   "cell_type": "code",
   "execution_count": 42,
   "metadata": {
    "collapsed": true,
    "deletable": true,
    "editable": true
   },
   "outputs": [],
   "source": [
    "def storeVariableCLR(x):\n",
    "    if hasattr(x, 'isFromArray'):\n",
    "        putInstr2('stelem.i4')\n",
    "    elif hasattr(x, 'selectorClass'):\n",
    "        putInstr2('stfld '+getClRTypeString(x.tp)+' '+getClRTypeString(x.selectorClass)[6:]+'::'+x.name)\n",
    "    elif proclvl > 0:\n",
    "        current_top_proc = getCurrentProc()\n",
    "        if hasattr(x, 'name'):\n",
    "            localVarIndex = None\n",
    "            li = 0\n",
    "            for localprocvar in current_top_proc[3]:\n",
    "                if localprocvar.tp is x.tp and localprocvar.name is x.name:\n",
    "                    localVarIndex = li\n",
    "                    break\n",
    "                li+=1\n",
    "            if localVarIndex is not None:\n",
    "                putInstr2('stloc.'+str(localVarIndex))\n",
    "            else:\n",
    "                putInstr2('stsfld '+getClRTypeString(x.tp)+' MainClass::'+x.name)\n",
    "        else:\n",
    "            argIndex = None\n",
    "            ai = 0\n",
    "            for argument in current_top_proc[2]:\n",
    "#                     if argument.name is x.name and argument.tp is x.tp:\n",
    "                if argument.tp is x.tp:\n",
    "                    name = argument.name\n",
    "                    argIndex = ai\n",
    "                    break\n",
    "                ai+=1\n",
    "            if argIndex is not None:\n",
    "                putInstr2('starg.s '+str(argIndex))\n",
    "    else:\n",
    "        putInstr2('stsfld '+getClRTypeString(x.tp)+' MainClass::'+x.name)"
   ]
  },
  {
   "cell_type": "code",
   "execution_count": 43,
   "metadata": {
    "collapsed": true,
    "deletable": true,
    "editable": true
   },
   "outputs": [],
   "source": [
    "def arraySetup(x):\n",
    "    selectorClassName = 'MainClass'\n",
    "    if hasattr(x, 'name'):\n",
    "        if x.lev > 0:\n",
    "            loadVariableCLR(x)\n",
    "        else:\n",
    "            if hasattr(x, 'selectorClass'):\n",
    "                selectorClassName = getClRTypeString(x.selectorClass)[6:]\n",
    "                putInstr2('ldfld '+getClRTypeString(x.tp)+' '+selectorClassName+'::'+x.name)\n",
    "            else:\n",
    "                putInstr2('ldsfld '+getClRTypeString(x.tp)+' '+selectorClassName+'::'+x.name)\n",
    "    else:\n",
    "        loadVariableCLR(x)\n",
    "    putInstr2('ldfld '+getClRTypeString(x.tp.base)+'[] '+getClRTypeString(x.tp)[6:]+'::arr')"
   ]
  }
 ],
 "metadata": {
  "kernelspec": {
   "display_name": "Python 3",
   "language": "python",
   "name": "python3"
  },
  "language_info": {
   "codemirror_mode": {
    "name": "ipython",
    "version": 3
   },
   "file_extension": ".py",
   "mimetype": "text/x-python",
   "name": "python",
   "nbconvert_exporter": "python",
   "pygments_lexer": "ipython3",
   "version": "3.6.0"
  }
 },
 "nbformat": 4,
 "nbformat_minor": 2
}
