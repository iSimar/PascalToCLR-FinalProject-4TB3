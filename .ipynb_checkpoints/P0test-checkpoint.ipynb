{
 "cells": [
  {
   "cell_type": "markdown",
   "metadata": {
    "deletable": true,
    "editable": true
   },
   "source": [
    "## P0 Test Suite\n",
    "#### Original Author: Emil Sekerinski, McMaster University, February 2017"
   ]
  },
  {
   "cell_type": "code",
   "execution_count": 1,
   "metadata": {
    "collapsed": false,
    "deletable": true,
    "editable": true
   },
   "outputs": [
    {
     "name": "stdout",
     "output_type": "stream",
     "text": [
      "importing Jupyter notebook from P0.ipynb\n",
      "importing Jupyter notebook from SC.ipynb\n"
     ]
    },
    {
     "data": {
      "text/html": [
       "<style>\n",
       "div.prompt {display:none}\n",
       "</style>"
      ],
      "text/plain": [
       "<IPython.core.display.HTML object>"
      ]
     },
     "metadata": {},
     "output_type": "display_data"
    },
    {
     "name": "stdout",
     "output_type": "stream",
     "text": [
      "importing Jupyter notebook from ST.ipynb\n"
     ]
    },
    {
     "data": {
      "text/html": [
       "<style>\n",
       "div.prompt {display:none}\n",
       "</style>"
      ],
      "text/plain": [
       "<IPython.core.display.HTML object>"
      ]
     },
     "metadata": {},
     "output_type": "display_data"
    }
   ],
   "source": [
    "import nbimporter\n",
    "from P0 import compileString\n",
    "from ST import printSymTab"
   ]
  },
  {
   "cell_type": "markdown",
   "metadata": {
    "deletable": true,
    "editable": true
   },
   "source": [
    "### Scanner Tests\n",
    "#### Error \"number too large\""
   ]
  },
  {
   "cell_type": "code",
   "execution_count": 2,
   "metadata": {
    "collapsed": false,
    "deletable": true,
    "editable": true
   },
   "outputs": [
    {
     "name": "stdout",
     "output_type": "stream",
     "text": [
      "importing Jupyter notebook from CGclr.ipynb\n",
      "error: line 3 pos 32 number too large\n",
      "error: line 5 pos 33 number too large\n"
     ]
    }
   ],
   "source": [
    "compileString(\"\"\"\n",
    "program p;\n",
    "  const c = 12345678901234567890;\n",
    "  var x: integer;\n",
    "  begin x := 12345678901234567890 end\n",
    "\"\"\")"
   ]
  },
  {
   "cell_type": "markdown",
   "metadata": {
    "deletable": true,
    "editable": true
   },
   "source": [
    "#### Error \"illegal character\""
   ]
  },
  {
   "cell_type": "code",
   "execution_count": 3,
   "metadata": {
    "collapsed": false,
    "deletable": true,
    "editable": true
   },
   "outputs": [
    {
     "name": "stdout",
     "output_type": "stream",
     "text": [
      "error: line 2 pos 9 illegal character\n",
      "error: line 2 pos 10 ; expected\n",
      "error: line 2 pos 11 'begin' or declaration expected\n",
      "error: line 3 pos 8 illegal character\n",
      "error: line 3 pos 9 statement expected\n"
     ]
    }
   ],
   "source": [
    "compileString(\"\"\"\n",
    "program p_;\n",
    "  begin @ writeln end\n",
    "\"\"\")"
   ]
  },
  {
   "cell_type": "markdown",
   "metadata": {
    "deletable": true,
    "editable": true
   },
   "source": [
    "### Syntax Checks\n",
    "#### Error \"] expected\""
   ]
  },
  {
   "cell_type": "code",
   "execution_count": 4,
   "metadata": {
    "collapsed": false,
    "deletable": true,
    "editable": true
   },
   "outputs": [
    {
     "name": "stdout",
     "output_type": "stream",
     "text": [
      "error: line 5 pos 20 ] expected\n"
     ]
    }
   ],
   "source": [
    "compileString(\"\"\"\n",
    "program p;\n",
    "  var x: integer;\n",
    "  var a: array [1..10] of integer;\n",
    "  begin x := a[4 end\n",
    "\"\"\")"
   ]
  },
  {
   "cell_type": "markdown",
   "metadata": {
    "deletable": true,
    "editable": true
   },
   "source": [
    "#### Error \"expression expected\", \"incompatible assignment\""
   ]
  },
  {
   "cell_type": "code",
   "execution_count": 5,
   "metadata": {
    "collapsed": false,
    "deletable": true,
    "editable": true,
    "scrolled": true
   },
   "outputs": [
    {
     "name": "stdout",
     "output_type": "stream",
     "text": [
      "error: line 4 pos 14 expression expected\n",
      "error: line 4 pos 18 incompatible assignment\n"
     ]
    }
   ],
   "source": [
    "compileString(\"\"\"\n",
    "program p;\n",
    "  var x: integer;\n",
    "  begin x := * end\n",
    "\"\"\")"
   ]
  },
  {
   "cell_type": "markdown",
   "metadata": {
    "deletable": true,
    "editable": true
   },
   "source": [
    "#### Error \") expected\""
   ]
  },
  {
   "cell_type": "code",
   "execution_count": 6,
   "metadata": {
    "collapsed": false,
    "deletable": true,
    "editable": true,
    "scrolled": true
   },
   "outputs": [
    {
     "name": "stdout",
     "output_type": "stream",
     "text": [
      "error: line 4 pos 19 ) expected\n"
     ]
    }
   ],
   "source": [
    "compileString(\"\"\"\n",
    "program p;\n",
    "  var x: integer;\n",
    "  begin x := (5 end\n",
    "\"\"\")"
   ]
  },
  {
   "cell_type": "markdown",
   "metadata": {
    "deletable": true,
    "editable": true
   },
   "source": [
    "#### Error \"'begin' expected\""
   ]
  },
  {
   "cell_type": "code",
   "execution_count": 7,
   "metadata": {
    "collapsed": false,
    "deletable": true,
    "editable": true
   },
   "outputs": [
    {
     "name": "stdout",
     "output_type": "stream",
     "text": [
      "error: line 4 pos 3 'begin' expected\n"
     ]
    }
   ],
   "source": [
    "compileString(\"\"\"\n",
    "program p;\n",
    "  var x: integer;\n",
    "  x := 3\n",
    "end\n",
    "\"\"\")"
   ]
  },
  {
   "cell_type": "markdown",
   "metadata": {
    "deletable": true,
    "editable": true
   },
   "source": [
    "#### Error \"; expected\""
   ]
  },
  {
   "cell_type": "code",
   "execution_count": 8,
   "metadata": {
    "collapsed": false,
    "deletable": true,
    "editable": true,
    "scrolled": true
   },
   "outputs": [
    {
     "name": "stdout",
     "output_type": "stream",
     "text": [
      "error: line 5 pos 11 ; missing\n"
     ]
    }
   ],
   "source": [
    "compileString(\"\"\"\n",
    "program p;\n",
    "  begin\n",
    "    writeln\n",
    "    writeln()\n",
    "  end\n",
    "\"\"\")"
   ]
  },
  {
   "cell_type": "markdown",
   "metadata": {
    "deletable": true,
    "editable": true
   },
   "source": [
    "#### Error \"'end' expected\""
   ]
  },
  {
   "cell_type": "code",
   "execution_count": 9,
   "metadata": {
    "collapsed": false,
    "deletable": true,
    "editable": true
   },
   "outputs": [
    {
     "name": "stdout",
     "output_type": "stream",
     "text": [
      "error: line 2 pos 26 'end' expected\n"
     ]
    }
   ],
   "source": [
    "compileString(\"\"\"\n",
    "program p; begin writeln()\n",
    "\"\"\")"
   ]
  },
  {
   "cell_type": "markdown",
   "metadata": {
    "deletable": true,
    "editable": true
   },
   "source": [
    "#### Error \"statement expected\""
   ]
  },
  {
   "cell_type": "code",
   "execution_count": 10,
   "metadata": {
    "collapsed": false,
    "deletable": true,
    "editable": true
   },
   "outputs": [
    {
     "name": "stdout",
     "output_type": "stream",
     "text": [
      "error: line 3 pos 11 statement expected\n"
     ]
    }
   ],
   "source": [
    "compileString(\"\"\"\n",
    "program p;\n",
    "  begin var end\n",
    "\"\"\")"
   ]
  },
  {
   "cell_type": "markdown",
   "metadata": {
    "deletable": true,
    "editable": true
   },
   "source": [
    "#### Error \":= expected\""
   ]
  },
  {
   "cell_type": "code",
   "execution_count": 11,
   "metadata": {
    "collapsed": false,
    "deletable": true,
    "editable": true
   },
   "outputs": [
    {
     "name": "stdout",
     "output_type": "stream",
     "text": [
      "error: line 4 pos 11 := expected\n"
     ]
    }
   ],
   "source": [
    "compileString(\"\"\"\n",
    "program p;\n",
    "  var x: integer;\n",
    "  begin x = 3 end\n",
    "\"\"\")"
   ]
  },
  {
   "cell_type": "markdown",
   "metadata": {
    "deletable": true,
    "editable": true
   },
   "source": [
    "#### Error \"')' expected\""
   ]
  },
  {
   "cell_type": "code",
   "execution_count": 12,
   "metadata": {
    "collapsed": false,
    "deletable": true,
    "editable": true
   },
   "outputs": [
    {
     "name": "stdout",
     "output_type": "stream",
     "text": [
      "error: line 3 pos 19 ')' expected\n"
     ]
    }
   ],
   "source": [
    "compileString(\"\"\"\n",
    "program p;\n",
    "  begin write(3 end\n",
    "\"\"\")"
   ]
  },
  {
   "cell_type": "markdown",
   "metadata": {
    "deletable": true,
    "editable": true
   },
   "source": [
    "#### Error \"'then' expected\""
   ]
  },
  {
   "cell_type": "code",
   "execution_count": 13,
   "metadata": {
    "collapsed": false,
    "deletable": true,
    "editable": true
   },
   "outputs": [
    {
     "name": "stdout",
     "output_type": "stream",
     "text": [
      "error: line 4 pos 17 'then' expected\n"
     ]
    }
   ],
   "source": [
    "compileString(\"\"\"\n",
    "program p;\n",
    "  begin\n",
    "    if true write(5)\n",
    "  end\n",
    "\"\"\")"
   ]
  },
  {
   "cell_type": "markdown",
   "metadata": {
    "deletable": true,
    "editable": true
   },
   "source": [
    "#### Error \"'do' expected\""
   ]
  },
  {
   "cell_type": "code",
   "execution_count": 14,
   "metadata": {
    "collapsed": false,
    "deletable": true,
    "editable": true
   },
   "outputs": [
    {
     "name": "stdout",
     "output_type": "stream",
     "text": [
      "error: line 4 pos 22 'do' expected\n"
     ]
    }
   ],
   "source": [
    "compileString(\"\"\"\n",
    "program p;\n",
    "  begin\n",
    "    while true writeln\n",
    "  end\n",
    "\"\"\")"
   ]
  },
  {
   "cell_type": "markdown",
   "metadata": {
    "deletable": true,
    "editable": true
   },
   "source": [
    "#### Error '[' expected\", '.' expected, \"expression expected\", \"']' expected\", \"type expected\""
   ]
  },
  {
   "cell_type": "code",
   "execution_count": 15,
   "metadata": {
    "collapsed": false,
    "deletable": true,
    "editable": true
   },
   "outputs": [
    {
     "name": "stdout",
     "output_type": "stream",
     "text": [
      "error: line 3 pos 18 '[' expected\n",
      "error: line 3 pos 21 '.' expected\n",
      "error: line 3 pos 29 expression expected\n",
      "error: line 3 pos 30 ']' expected\n",
      "error: line 4 pos 7 type expected\n"
     ]
    }
   ],
   "source": [
    "compileString(\"\"\"\n",
    "program p;\n",
    "  type T = array 5 of integer;\n",
    "  begin writeln end\n",
    "\"\"\")"
   ]
  },
  {
   "cell_type": "markdown",
   "metadata": {
    "deletable": true,
    "editable": true
   },
   "source": [
    "#### Error \"'end' expected\""
   ]
  },
  {
   "cell_type": "code",
   "execution_count": 16,
   "metadata": {
    "collapsed": false,
    "deletable": true,
    "editable": true
   },
   "outputs": [
    {
     "name": "stdout",
     "output_type": "stream",
     "text": [
      "error: line 4 pos 7 'end' expected\n"
     ]
    }
   ],
   "source": [
    "compileString(\"\"\"\n",
    "program p;\n",
    "  type T = record x:integer\n",
    "  begin writeln end\n",
    "\"\"\")"
   ]
  },
  {
   "cell_type": "markdown",
   "metadata": {
    "deletable": true,
    "editable": true
   },
   "source": [
    "#### Error \"identifier expected\""
   ]
  },
  {
   "cell_type": "code",
   "execution_count": 17,
   "metadata": {
    "collapsed": false,
    "deletable": true,
    "editable": true
   },
   "outputs": [
    {
     "name": "stdout",
     "output_type": "stream",
     "text": [
      "error: line 3 pos 21 identifier expected\n"
     ]
    }
   ],
   "source": [
    "compileString(\"\"\"\n",
    "program p;\n",
    "  type T = record end;\n",
    "  begin writeln end\n",
    "\"\"\")"
   ]
  },
  {
   "cell_type": "markdown",
   "metadata": {
    "deletable": true,
    "editable": true
   },
   "source": [
    "#### Error \"':' expected\""
   ]
  },
  {
   "cell_type": "code",
   "execution_count": 18,
   "metadata": {
    "collapsed": false,
    "deletable": true,
    "editable": true
   },
   "outputs": [
    {
     "name": "stdout",
     "output_type": "stream",
     "text": [
      "error: line 3 pos 23 ':' expected\n"
     ]
    }
   ],
   "source": [
    "compileString(\"\"\"\n",
    "program p;\n",
    "  type T = record f end;\n",
    "  begin writeln end\n",
    "\"\"\")"
   ]
  },
  {
   "cell_type": "markdown",
   "metadata": {
    "deletable": true,
    "editable": true
   },
   "source": [
    "#### Error \"identifier expected\""
   ]
  },
  {
   "cell_type": "code",
   "execution_count": 19,
   "metadata": {
    "collapsed": false,
    "deletable": true,
    "editable": true
   },
   "outputs": [
    {
     "name": "stdout",
     "output_type": "stream",
     "text": [
      "error: line 3 pos 24 identifier expected\n"
     ]
    }
   ],
   "source": [
    "compileString(\"\"\"\n",
    "program p;\n",
    "  type T = record f, end;\n",
    "  begin writeln end\n",
    "\"\"\")"
   ]
  },
  {
   "cell_type": "markdown",
   "metadata": {
    "deletable": true,
    "editable": true
   },
   "source": [
    "#### Error \"'begin' or declaration expected\""
   ]
  },
  {
   "cell_type": "code",
   "execution_count": 20,
   "metadata": {
    "collapsed": false,
    "deletable": true,
    "editable": true,
    "scrolled": true
   },
   "outputs": [
    {
     "name": "stdout",
     "output_type": "stream",
     "text": [
      "error: line 3 pos 11 'begin' or declaration expected\n"
     ]
    }
   ],
   "source": [
    "compileString(\"\"\"\n",
    "program p;\n",
    "  integer x;\n",
    "  begin writeln end\n",
    "\"\"\")"
   ]
  },
  {
   "cell_type": "markdown",
   "metadata": {
    "deletable": true,
    "editable": true
   },
   "source": [
    "#### Error \"= expected\""
   ]
  },
  {
   "cell_type": "code",
   "execution_count": 21,
   "metadata": {
    "collapsed": false,
    "deletable": true,
    "editable": true
   },
   "outputs": [
    {
     "name": "stdout",
     "output_type": "stream",
     "text": [
      "error: line 3 pos 10 = expected\n"
     ]
    }
   ],
   "source": [
    "compileString(\"\"\"\n",
    "program p;\n",
    "  const c: 5;\n",
    "  begin writeln end\n",
    "\"\"\")"
   ]
  },
  {
   "cell_type": "markdown",
   "metadata": {
    "deletable": true,
    "editable": true
   },
   "source": [
    "#### Error \"constant name expected\", \"'end' expected\""
   ]
  },
  {
   "cell_type": "code",
   "execution_count": 22,
   "metadata": {
    "collapsed": false,
    "deletable": true,
    "editable": true
   },
   "outputs": [
    {
     "name": "stdout",
     "output_type": "stream",
     "text": [
      "error: line 3 pos 9 constant name expected\n",
      "error: line 4 pos 19 'end' expected\n"
     ]
    }
   ],
   "source": [
    "compileString(\"\"\"\n",
    "program p;\n",
    "  const 5 = 7;\n",
    "  begin writeln end\n",
    "\"\"\")"
   ]
  },
  {
   "cell_type": "markdown",
   "metadata": {
    "deletable": true,
    "editable": true
   },
   "source": [
    "#### Error \"; expected\""
   ]
  },
  {
   "cell_type": "code",
   "execution_count": 23,
   "metadata": {
    "collapsed": false,
    "deletable": true,
    "editable": true
   },
   "outputs": [
    {
     "name": "stdout",
     "output_type": "stream",
     "text": [
      "error: line 4 pos 7 ; expected\n"
     ]
    }
   ],
   "source": [
    "compileString(\"\"\"\n",
    "program p;\n",
    "  const c = 5\n",
    "  begin writeln end\n",
    "\"\"\")"
   ]
  },
  {
   "cell_type": "markdown",
   "metadata": {
    "deletable": true,
    "editable": true
   },
   "source": [
    "#### Error \"= expected\", \"type expected\""
   ]
  },
  {
   "cell_type": "code",
   "execution_count": 24,
   "metadata": {
    "collapsed": false,
    "deletable": true,
    "editable": true
   },
   "outputs": [
    {
     "name": "stdout",
     "output_type": "stream",
     "text": [
      "error: line 3 pos 9 = expected\n",
      "error: line 3 pos 17 type expected\n"
     ]
    }
   ],
   "source": [
    "compileString(\"\"\"\n",
    "program p;\n",
    "  type T: integer;\n",
    "  begin writeln end\n",
    "\"\"\")"
   ]
  },
  {
   "cell_type": "markdown",
   "metadata": {
    "deletable": true,
    "editable": true
   },
   "source": [
    "#### Error \"; expected\""
   ]
  },
  {
   "cell_type": "code",
   "execution_count": 25,
   "metadata": {
    "collapsed": false,
    "deletable": true,
    "editable": true
   },
   "outputs": [
    {
     "name": "stdout",
     "output_type": "stream",
     "text": [
      "error: line 4 pos 7 ; expected\n"
     ]
    }
   ],
   "source": [
    "compileString(\"\"\"\n",
    "program p;\n",
    "  type T = integer\n",
    "  begin writeln end\n",
    "\"\"\")"
   ]
  },
  {
   "cell_type": "markdown",
   "metadata": {
    "deletable": true,
    "editable": true
   },
   "source": [
    "#### Error \"type name expected\", \"variable or procedure expected\", \"'end' expected\""
   ]
  },
  {
   "cell_type": "code",
   "execution_count": 26,
   "metadata": {
    "collapsed": false,
    "deletable": true,
    "editable": true
   },
   "outputs": [
    {
     "name": "stdout",
     "output_type": "stream",
     "text": [
      "error: line 3 pos 8 type name expected\n",
      "error: line 3 pos 19 variable or procedure expected\n",
      "error: line 4 pos 19 'end' expected\n"
     ]
    }
   ],
   "source": [
    "compileString(\"\"\"\n",
    "program p;\n",
    "  type 5 = integer;\n",
    "  begin writeln end\n",
    "\"\"\")"
   ]
  },
  {
   "cell_type": "markdown",
   "metadata": {
    "deletable": true,
    "editable": true
   },
   "source": [
    "#### Error \"; expected\""
   ]
  },
  {
   "cell_type": "code",
   "execution_count": 27,
   "metadata": {
    "collapsed": false,
    "deletable": true,
    "editable": true
   },
   "outputs": [
    {
     "name": "stdout",
     "output_type": "stream",
     "text": [
      "error: line 4 pos 7 ; expected\n"
     ]
    }
   ],
   "source": [
    "compileString(\"\"\"\n",
    "program p;\n",
    "  var v: integer\n",
    "  begin writeln end\n",
    "\"\"\")"
   ]
  },
  {
   "cell_type": "markdown",
   "metadata": {
    "deletable": true,
    "editable": true
   },
   "source": [
    "#### Error  \"procedure name expected\""
   ]
  },
  {
   "cell_type": "code",
   "execution_count": 28,
   "metadata": {
    "collapsed": false,
    "deletable": true,
    "editable": true
   },
   "outputs": [
    {
     "name": "stdout",
     "output_type": "stream",
     "text": [
      "error: line 3 pos 12 procedure name expected\n"
     ]
    }
   ],
   "source": [
    "compileString(\"\"\"\n",
    "program p;\n",
    "  procedure;\n",
    "    begin writeln end;\n",
    "  begin writeln end\n",
    "\"\"\")"
   ]
  },
  {
   "cell_type": "markdown",
   "metadata": {
    "deletable": true,
    "editable": true
   },
   "source": [
    "#### Error \"formal parameters expected\""
   ]
  },
  {
   "cell_type": "code",
   "execution_count": 29,
   "metadata": {
    "collapsed": false,
    "deletable": true,
    "editable": true
   },
   "outputs": [
    {
     "name": "stdout",
     "output_type": "stream",
     "text": [
      "error: line 3 pos 15 formal parameters expected\n"
     ]
    }
   ],
   "source": [
    "compileString(\"\"\"\n",
    "program p;\n",
    "  procedure q();\n",
    "    begin writeln end;\n",
    "  begin writeln end\n",
    "\"\"\")"
   ]
  },
  {
   "cell_type": "markdown",
   "metadata": {
    "deletable": true,
    "editable": true
   },
   "source": [
    "#### Error \") expected\""
   ]
  },
  {
   "cell_type": "code",
   "execution_count": 30,
   "metadata": {
    "collapsed": false,
    "deletable": true,
    "editable": true
   },
   "outputs": [
    {
     "name": "stdout",
     "output_type": "stream",
     "text": [
      "error: line 4 pos 9 ) expected\n"
     ]
    }
   ],
   "source": [
    "compileString(\"\"\"\n",
    "program p;\n",
    "  procedure q(x: integer\n",
    "    begin writeln end;\n",
    "  begin writeln end\n",
    "\"\"\")"
   ]
  },
  {
   "cell_type": "markdown",
   "metadata": {
    "deletable": true,
    "editable": true
   },
   "source": [
    "#### Error \"; expected\""
   ]
  },
  {
   "cell_type": "code",
   "execution_count": 31,
   "metadata": {
    "collapsed": false,
    "deletable": true,
    "editable": true
   },
   "outputs": [
    {
     "name": "stdout",
     "output_type": "stream",
     "text": [
      "error: line 4 pos 9 ; expected\n"
     ]
    }
   ],
   "source": [
    "compileString(\"\"\"\n",
    "program p;\n",
    "  procedure q\n",
    "    begin writeln end;\n",
    "  begin writeln end\n",
    "\"\"\")"
   ]
  },
  {
   "cell_type": "markdown",
   "metadata": {
    "deletable": true,
    "editable": true
   },
   "source": [
    "#### Error \"; expected\""
   ]
  },
  {
   "cell_type": "code",
   "execution_count": 32,
   "metadata": {
    "collapsed": false,
    "deletable": true,
    "editable": true
   },
   "outputs": [
    {
     "name": "stdout",
     "output_type": "stream",
     "text": [
      "error: line 5 pos 7 ; expected\n"
     ]
    }
   ],
   "source": [
    "compileString(\"\"\"\n",
    "program p;\n",
    "  procedure q;\n",
    "    begin writeln end\n",
    "  begin writeln end\n",
    "\"\"\")"
   ]
  },
  {
   "cell_type": "markdown",
   "metadata": {
    "deletable": true,
    "editable": true
   },
   "source": [
    "#### Error \"'program' expected'\""
   ]
  },
  {
   "cell_type": "code",
   "execution_count": 33,
   "metadata": {
    "collapsed": false,
    "deletable": true,
    "editable": true
   },
   "outputs": [
    {
     "name": "stdout",
     "output_type": "stream",
     "text": [
      "error: line 2 pos 1 'program' expected\n"
     ]
    }
   ],
   "source": [
    "compileString(\"\"\"\n",
    "p; begin writeln end\n",
    "\"\"\")"
   ]
  },
  {
   "cell_type": "markdown",
   "metadata": {
    "deletable": true,
    "editable": true
   },
   "source": [
    "#### Error \"program name expected\""
   ]
  },
  {
   "cell_type": "code",
   "execution_count": 34,
   "metadata": {
    "collapsed": false,
    "deletable": true,
    "editable": true
   },
   "outputs": [
    {
     "name": "stdout",
     "output_type": "stream",
     "text": [
      "error: line 2 pos 13 program name expected\n"
     ]
    }
   ],
   "source": [
    "compileString(\"\"\"\n",
    "program begin writeln end\n",
    "\"\"\")"
   ]
  },
  {
   "cell_type": "markdown",
   "metadata": {
    "deletable": true,
    "editable": true
   },
   "source": [
    "#### Error \"; expected\""
   ]
  },
  {
   "cell_type": "code",
   "execution_count": 35,
   "metadata": {
    "collapsed": false,
    "deletable": true,
    "editable": true
   },
   "outputs": [
    {
     "name": "stdout",
     "output_type": "stream",
     "text": [
      "error: line 2 pos 15 ; expected\n"
     ]
    }
   ],
   "source": [
    "compileString(\"\"\"\n",
    "program p begin writeln end\n",
    "\"\"\")"
   ]
  },
  {
   "cell_type": "markdown",
   "metadata": {
    "deletable": true,
    "editable": true
   },
   "source": [
    "#### Error \"type expected\""
   ]
  },
  {
   "cell_type": "code",
   "execution_count": 36,
   "metadata": {
    "collapsed": false,
    "deletable": true,
    "editable": true
   },
   "outputs": [
    {
     "name": "stdout",
     "output_type": "stream",
     "text": [
      "error: line 3 pos 17 type expected\n"
     ]
    }
   ],
   "source": [
    "compileString(\"\"\"\n",
    "program p;\n",
    "  type T = while;\n",
    "  begin writeln end\n",
    "\"\"\")"
   ]
  },
  {
   "cell_type": "markdown",
   "metadata": {
    "deletable": true,
    "editable": true
   },
   "source": [
    "### Symbol Table Tests\n",
    "#### Error \"undefined identifier\", \"not a type\", \"variable or procedure expected\""
   ]
  },
  {
   "cell_type": "code",
   "execution_count": 37,
   "metadata": {
    "collapsed": false,
    "deletable": true,
    "editable": true
   },
   "outputs": [
    {
     "name": "stdout",
     "output_type": "stream",
     "text": [
      "error: line 3 pos 10 undefined identifier U\n",
      "error: line 3 pos 11 not a type\n",
      "error: line 4 pos 9 undefined identifier y\n",
      "error: line 4 pos 12 variable or procedure expected\n"
     ]
    }
   ],
   "source": [
    "compileString(\"\"\"\n",
    "program p;\n",
    "  var y: U;\n",
    "  begin y := true\n",
    "  end\n",
    "\"\"\")"
   ]
  },
  {
   "cell_type": "markdown",
   "metadata": {
    "deletable": true,
    "editable": true
   },
   "source": [
    "#### Error \"undefined identifier\", \"bad upper bound\", \"not a type\""
   ]
  },
  {
   "cell_type": "code",
   "execution_count": 38,
   "metadata": {
    "collapsed": false,
    "deletable": true,
    "editable": true
   },
   "outputs": [
    {
     "name": "stdout",
     "output_type": "stream",
     "text": [
      "error: line 3 pos 24 undefined identifier N\n",
      "error: line 3 pos 37 bad upper bound\n"
     ]
    }
   ],
   "source": [
    "compileString(\"\"\"\n",
    "program p;\n",
    "  type T = array [7 .. N] of integer;\n",
    "  var x: T;\n",
    "  begin writeln()\n",
    "  end\n",
    "\"\"\")"
   ]
  },
  {
   "cell_type": "markdown",
   "metadata": {
    "deletable": true,
    "editable": true
   },
   "source": [
    "#### Error \"multiple definition\", \"variable or procedure expected\""
   ]
  },
  {
   "cell_type": "code",
   "execution_count": 39,
   "metadata": {
    "collapsed": false,
    "deletable": true,
    "editable": true
   },
   "outputs": [
    {
     "name": "stdout",
     "output_type": "stream",
     "text": [
      "error: line 4 pos 18 multiple definition\n",
      "error: line 5 pos 12 variable or procedure expected\n"
     ]
    }
   ],
   "source": [
    "compileString(\"\"\"\n",
    "program p;\n",
    "  const x = 9;\n",
    "  var x : integer;\n",
    "  begin x := 7\n",
    "  end\n",
    "\"\"\")"
   ]
  },
  {
   "cell_type": "markdown",
   "metadata": {
    "deletable": true,
    "editable": true
   },
   "source": [
    "#### Error: \"multiple definition\""
   ]
  },
  {
   "cell_type": "code",
   "execution_count": 40,
   "metadata": {
    "collapsed": false,
    "deletable": true,
    "editable": true
   },
   "outputs": [
    {
     "name": "stdout",
     "output_type": "stream",
     "text": [
      "error: line 5 pos 9 multiple definition\n"
     ]
    },
    {
     "name": "stderr",
     "output_type": "stream",
     "text": [
      "ERROR:root:An unexpected error occurred while tokenizing input\n",
      "The following traceback may be corrupted or invalid\n",
      "The error message is: ('EOF in multi-line string', (1, 0))\n",
      "\n"
     ]
    },
    {
     "ename": "AttributeError",
     "evalue": "'Var' object has no attribute 'name'",
     "output_type": "error",
     "traceback": [
      "\u001b[0;31m---------------------------------------------------------------------------\u001b[0m",
      "\u001b[0;31mAttributeError\u001b[0m                            Traceback (most recent call last)",
      "\u001b[0;32m<ipython-input-40-b53099d2bb9b>\u001b[0m in \u001b[0;36m<module>\u001b[0;34m()\u001b[0m\n\u001b[1;32m      6\u001b[0m   \u001b[0mbegin\u001b[0m \u001b[0mwriteln\u001b[0m\u001b[0;34m(\u001b[0m\u001b[0;34m)\u001b[0m\u001b[0;34m\u001b[0m\u001b[0m\n\u001b[1;32m      7\u001b[0m   \u001b[0mend\u001b[0m\u001b[0;34m\u001b[0m\u001b[0m\n\u001b[0;32m----> 8\u001b[0;31m \"\"\")\n\u001b[0m",
      "\u001b[0;32m/Users/simar/Documents/school/Group23/P0.ipynb\u001b[0m in \u001b[0;36mcompileString\u001b[0;34m(src, dstfn, target)\u001b[0m\n",
      "\u001b[0;32m/Users/simar/Documents/school/Group23/P0.ipynb\u001b[0m in \u001b[0;36mprogram\u001b[0;34m()\u001b[0m\n",
      "\u001b[0;32m/Users/simar/Documents/school/Group23/P0.ipynb\u001b[0m in \u001b[0;36mdeclarations\u001b[0;34m(allocVar)\u001b[0m\n",
      "\u001b[0;32m/Users/simar/Documents/school/Group23/P0.ipynb\u001b[0m in \u001b[0;36mcompoundStatement\u001b[0;34m()\u001b[0m\n",
      "\u001b[0;32m/Users/simar/Documents/school/Group23/P0.ipynb\u001b[0m in \u001b[0;36mstatement\u001b[0;34m()\u001b[0m\n",
      "\u001b[0;32m/Users/simar/Documents/school/Group23/CGclr.ipynb\u001b[0m in \u001b[0;36mgenAssign\u001b[0;34m(x, y)\u001b[0m\n",
      "\u001b[0;31mAttributeError\u001b[0m: 'Var' object has no attribute 'name'"
     ]
    }
   ],
   "source": [
    "compileString(\"\"\"\n",
    "program p;\n",
    "  procedure q(var z: boolean);\n",
    "    var z: integer\n",
    "    begin z := true end;\n",
    "  begin writeln()\n",
    "  end\n",
    "\"\"\")"
   ]
  },
  {
   "cell_type": "markdown",
   "metadata": {
    "deletable": true,
    "editable": true
   },
   "source": [
    "#### Symbol Table Dump\n",
    "    type boolean  <class 'ST.Bool'>\n",
    "    type integer  <class 'ST.Int'>\n",
    "    const true: <class 'ST.Bool'> = 1\n",
    "    const false: <class 'ST.Bool'> = 0\n",
    "    stdproc read lev 0 par\n",
    "      [\"ref  lev : <class 'ST.Int'>\"]\n",
    "    stdproc write lev 0 par\n",
    "      [\"var  lev :\\n  <class 'ST.Int'>\"]\n",
    "    stdproc writeln lev 0 par\n",
    "      []\n",
    "    const N: <class 'ST.Int'> = 10\n",
    "    type T  array lower 1 length 10 base\n",
    "        <class 'ST.Int'>\n",
    "    var x lev 0:\n",
    "      array lower 1 length 10 base\n",
    "        <class 'ST.Int'>\n",
    "    var y lev 0:\n",
    "      <class 'ST.Bool'>\n",
    "    var z lev 0:\n",
    "      record\n",
    "        var f lev 1:\n",
    "          <class 'ST.Int'>\n",
    "        var g lev 1:\n",
    "          <class 'ST.Bool'>\n",
    "    proc q lev 0([\"ref z lev 1: <class 'ST.Bool'>\"])"
   ]
  },
  {
   "cell_type": "code",
   "execution_count": 41,
   "metadata": {
    "collapsed": false,
    "deletable": true,
    "editable": true,
    "scrolled": true
   },
   "outputs": [
    {
     "name": "stderr",
     "output_type": "stream",
     "text": [
      "ERROR:root:An unexpected error occurred while tokenizing input\n",
      "The following traceback may be corrupted or invalid\n",
      "The error message is: ('EOF in multi-line string', (1, 0))\n",
      "\n"
     ]
    },
    {
     "ename": "AttributeError",
     "evalue": "'Var' object has no attribute 'name'",
     "output_type": "error",
     "traceback": [
      "\u001b[0;31m---------------------------------------------------------------------------\u001b[0m",
      "\u001b[0;31mAttributeError\u001b[0m                            Traceback (most recent call last)",
      "\u001b[0;32m<ipython-input-41-909ffcac3645>\u001b[0m in \u001b[0;36m<module>\u001b[0;34m()\u001b[0m\n\u001b[1;32m     10\u001b[0m   \u001b[0mbegin\u001b[0m \u001b[0my\u001b[0m \u001b[0;34m:\u001b[0m\u001b[0;34m=\u001b[0m \u001b[0mtrue\u001b[0m\u001b[0;34m\u001b[0m\u001b[0m\n\u001b[1;32m     11\u001b[0m   \u001b[0mend\u001b[0m\u001b[0;34m\u001b[0m\u001b[0m\n\u001b[0;32m---> 12\u001b[0;31m \"\"\", \"/dev/null\") # discard target code\n\u001b[0m\u001b[1;32m     13\u001b[0m \u001b[0mprintSymTab\u001b[0m\u001b[0;34m(\u001b[0m\u001b[0;34m)\u001b[0m\u001b[0;34m\u001b[0m\u001b[0m\n",
      "\u001b[0;32m/Users/simar/Documents/school/Group23/P0.ipynb\u001b[0m in \u001b[0;36mcompileString\u001b[0;34m(src, dstfn, target)\u001b[0m\n",
      "\u001b[0;32m/Users/simar/Documents/school/Group23/P0.ipynb\u001b[0m in \u001b[0;36mprogram\u001b[0;34m()\u001b[0m\n",
      "\u001b[0;32m/Users/simar/Documents/school/Group23/P0.ipynb\u001b[0m in \u001b[0;36mdeclarations\u001b[0;34m(allocVar)\u001b[0m\n",
      "\u001b[0;32m/Users/simar/Documents/school/Group23/P0.ipynb\u001b[0m in \u001b[0;36mcompoundStatement\u001b[0;34m()\u001b[0m\n",
      "\u001b[0;32m/Users/simar/Documents/school/Group23/P0.ipynb\u001b[0m in \u001b[0;36mstatement\u001b[0;34m()\u001b[0m\n",
      "\u001b[0;32m/Users/simar/Documents/school/Group23/CGclr.ipynb\u001b[0m in \u001b[0;36mgenAssign\u001b[0;34m(x, y)\u001b[0m\n",
      "\u001b[0;31mAttributeError\u001b[0m: 'Var' object has no attribute 'name'"
     ]
    }
   ],
   "source": [
    "compileString(\"\"\"\n",
    "program p;\n",
    "  const N = 10;\n",
    "  type T = array [1 .. N] of integer;\n",
    "  var x: T;\n",
    "  var y: boolean;\n",
    "  var z: record f: integer; g: boolean end;\n",
    "  procedure q(var z: boolean);\n",
    "    begin z := false end;\n",
    "  begin y := true\n",
    "  end\n",
    "\"\"\", \"/dev/null\") # discard target code\n",
    "printSymTab()"
   ]
  },
  {
   "cell_type": "markdown",
   "metadata": {
    "deletable": true,
    "editable": true
   },
   "source": [
    "### Type Checking Tests\n",
    "#### Error \"not a field\", \"incompatible assignment\""
   ]
  },
  {
   "cell_type": "code",
   "execution_count": null,
   "metadata": {
    "collapsed": false,
    "deletable": true,
    "editable": true
   },
   "outputs": [],
   "source": [
    "compileString(\"\"\"\n",
    "program p;\n",
    "  var v: record f: integer end;\n",
    "  begin v.g := 4\n",
    "  end\n",
    "\"\"\")"
   ]
  },
  {
   "cell_type": "markdown",
   "metadata": {
    "deletable": true,
    "editable": true
   },
   "source": [
    "#### Error \"not a record\", \"variable or procedure expected\""
   ]
  },
  {
   "cell_type": "code",
   "execution_count": null,
   "metadata": {
    "collapsed": false,
    "deletable": true,
    "editable": true
   },
   "outputs": [],
   "source": [
    "compileString(\"\"\"\n",
    "program p;\n",
    "  var v: integer;\n",
    "  begin v.g := 4\n",
    "  end\n",
    "\"\"\")"
   ]
  },
  {
   "cell_type": "markdown",
   "metadata": {
    "deletable": true,
    "editable": true
   },
   "source": [
    "#### Error \"identifier expected\""
   ]
  },
  {
   "cell_type": "code",
   "execution_count": null,
   "metadata": {
    "collapsed": false,
    "deletable": true,
    "editable": true
   },
   "outputs": [],
   "source": [
    "compileString(\"\"\"\n",
    "program p;\n",
    "  var v: record f: integer end;\n",
    "  begin v.3 := 4\n",
    "  end\n",
    "\"\"\")"
   ]
  },
  {
   "cell_type": "markdown",
   "metadata": {
    "deletable": true,
    "editable": true
   },
   "source": [
    "#### Error \"index out of bounds\", \"incompatible assignment\""
   ]
  },
  {
   "cell_type": "code",
   "execution_count": null,
   "metadata": {
    "collapsed": false,
    "deletable": true,
    "editable": true
   },
   "outputs": [],
   "source": [
    "compileString(\"\"\"\n",
    "program p;\n",
    "  var x: array [5 .. 7] of integer;\n",
    "  begin x[4] := 3\n",
    "  end\n",
    "\"\"\")"
   ]
  },
  {
   "cell_type": "markdown",
   "metadata": {
    "deletable": true,
    "editable": true
   },
   "source": [
    "#### Error \"index out of bounds\", \"incompatible assignment\""
   ]
  },
  {
   "cell_type": "code",
   "execution_count": null,
   "metadata": {
    "collapsed": false,
    "deletable": true,
    "editable": true
   },
   "outputs": [],
   "source": [
    "compileString(\"\"\"\n",
    "program p;\n",
    "  var x: array [5 .. 7] of integer;\n",
    "  begin x[8] := 3\n",
    "  end\n",
    "\"\"\")"
   ]
  },
  {
   "cell_type": "markdown",
   "metadata": {
    "deletable": true,
    "editable": true
   },
   "source": [
    "#### Error \"index not integer\", \"incompatible assignment\""
   ]
  },
  {
   "cell_type": "code",
   "execution_count": null,
   "metadata": {
    "collapsed": false,
    "deletable": true,
    "editable": true
   },
   "outputs": [],
   "source": [
    "compileString(\"\"\"\n",
    "program p;\n",
    "  var x: array [5 .. 7] of integer;\n",
    "  begin x[x] := 3\n",
    "  end\n",
    "\"\"\")"
   ]
  },
  {
   "cell_type": "markdown",
   "metadata": {
    "deletable": true,
    "editable": true
   },
   "source": [
    "#### Error \"not an array\""
   ]
  },
  {
   "cell_type": "code",
   "execution_count": null,
   "metadata": {
    "collapsed": false,
    "deletable": true,
    "editable": true
   },
   "outputs": [],
   "source": [
    "compileString(\"\"\"\n",
    "program p;\n",
    "  var x: integer;\n",
    "  begin x[9] := 3\n",
    "  end\n",
    "\"\"\")"
   ]
  },
  {
   "cell_type": "markdown",
   "metadata": {
    "deletable": true,
    "editable": true
   },
   "source": [
    "#### Error \"expression expected\", \"incompatible assignment\""
   ]
  },
  {
   "cell_type": "code",
   "execution_count": null,
   "metadata": {
    "collapsed": false,
    "deletable": true,
    "editable": true
   },
   "outputs": [],
   "source": [
    "compileString(\"\"\"\n",
    "program p;\n",
    "  var x: integer;\n",
    "  begin x := integer\n",
    "  end\n",
    "\"\"\")"
   ]
  },
  {
   "cell_type": "markdown",
   "metadata": {
    "deletable": true,
    "editable": true
   },
   "source": [
    "#### Error \"incompatible assignment\", \"incompatible assignment\""
   ]
  },
  {
   "cell_type": "code",
   "execution_count": null,
   "metadata": {
    "collapsed": false,
    "deletable": true,
    "editable": true
   },
   "outputs": [],
   "source": [
    "compileString(\"\"\"\n",
    "program p;\n",
    "  var x: boolean;\n",
    "  procedure q;\n",
    "    var x: integer;\n",
    "    begin x := true\n",
    "    end;\n",
    "  begin x := 3\n",
    "  end\n",
    "\"\"\")"
   ]
  },
  {
   "cell_type": "markdown",
   "metadata": {
    "deletable": true,
    "editable": true
   },
   "source": [
    "#### Error \"illegal parameter mode\", \"too few parameters\""
   ]
  },
  {
   "cell_type": "code",
   "execution_count": null,
   "metadata": {
    "collapsed": false,
    "deletable": true,
    "editable": true
   },
   "outputs": [],
   "source": [
    "compileString(\"\"\"\n",
    "program p;\n",
    "  procedure q(a: integer);\n",
    "    begin a := 7\n",
    "    end;\n",
    "  begin q(true)\n",
    "  end\n",
    "\"\"\")"
   ]
  },
  {
   "cell_type": "markdown",
   "metadata": {
    "deletable": true,
    "editable": true
   },
   "source": [
    "#### Error \"illegal parameter mode\", \"too few parameters\""
   ]
  },
  {
   "cell_type": "code",
   "execution_count": null,
   "metadata": {
    "collapsed": false,
    "deletable": true,
    "editable": true
   },
   "outputs": [],
   "source": [
    "compileString(\"\"\"\n",
    "program p;\n",
    "  procedure q(var a: integer);\n",
    "    begin a := 7\n",
    "    end;\n",
    "  begin q(5)\n",
    "  end\n",
    "\"\"\")"
   ]
  },
  {
   "cell_type": "markdown",
   "metadata": {
    "deletable": true,
    "editable": true
   },
   "source": [
    "#### Error \"extra parameter\""
   ]
  },
  {
   "cell_type": "code",
   "execution_count": null,
   "metadata": {
    "collapsed": false,
    "deletable": true,
    "editable": true
   },
   "outputs": [],
   "source": [
    "compileString(\"\"\"\n",
    "program p;\n",
    "  var x: integer;\n",
    "  procedure q;\n",
    "    begin x := 7\n",
    "    end;\n",
    "  begin q(x)\n",
    "  end\n",
    "\"\"\")"
   ]
  },
  {
   "cell_type": "markdown",
   "metadata": {
    "deletable": true,
    "editable": true
   },
   "source": [
    "#### Error \"too few parameters\""
   ]
  },
  {
   "cell_type": "code",
   "execution_count": null,
   "metadata": {
    "collapsed": false,
    "deletable": true,
    "editable": true
   },
   "outputs": [],
   "source": [
    "compileString(\"\"\"\n",
    "program p;\n",
    "  procedure q(a: integer);\n",
    "    begin a := 7\n",
    "    end;\n",
    "  begin q()\n",
    "  end\n",
    "\"\"\")"
   ]
  },
  {
   "cell_type": "markdown",
   "metadata": {
    "deletable": true,
    "editable": true
   },
   "source": [
    "#### Error \"variable or procedure expected\""
   ]
  },
  {
   "cell_type": "code",
   "execution_count": null,
   "metadata": {
    "collapsed": false,
    "deletable": true,
    "editable": true
   },
   "outputs": [],
   "source": [
    "compileString(\"\"\"\n",
    "program p;\n",
    "  const c = 7;\n",
    "  begin c := 4\n",
    "  end\n",
    "\"\"\")"
   ]
  },
  {
   "cell_type": "markdown",
   "metadata": {
    "deletable": true,
    "editable": true
   },
   "source": [
    "#### Error \"boolean expected\""
   ]
  },
  {
   "cell_type": "code",
   "execution_count": null,
   "metadata": {
    "collapsed": false,
    "deletable": true,
    "editable": true
   },
   "outputs": [],
   "source": [
    "compileString(\"\"\"\n",
    "program p;\n",
    "  begin\n",
    "    while 5 do writeln\n",
    "  end\n",
    "\"\"\")"
   ]
  },
  {
   "cell_type": "markdown",
   "metadata": {
    "deletable": true,
    "editable": true
   },
   "source": [
    "#### Error \"boolean expected\""
   ]
  },
  {
   "cell_type": "code",
   "execution_count": null,
   "metadata": {
    "collapsed": false,
    "deletable": true,
    "editable": true
   },
   "outputs": [],
   "source": [
    "compileString(\"\"\"\n",
    "program p;\n",
    "  begin\n",
    "    if 5 then writeln\n",
    "  end\n",
    "\"\"\")"
   ]
  },
  {
   "cell_type": "markdown",
   "metadata": {
    "deletable": true,
    "editable": true
   },
   "source": [
    "#### Error \"not a type\""
   ]
  },
  {
   "cell_type": "code",
   "execution_count": null,
   "metadata": {
    "collapsed": false,
    "deletable": true,
    "editable": true
   },
   "outputs": [],
   "source": [
    "compileString(\"\"\"\n",
    "program p;\n",
    "  const c = 3;\n",
    "  type T = c;\n",
    "  begin writeln end\n",
    "\"\"\")"
   ]
  },
  {
   "cell_type": "markdown",
   "metadata": {
    "deletable": true,
    "editable": true
   },
   "source": [
    "#### Error \"bad lower bound\""
   ]
  },
  {
   "cell_type": "code",
   "execution_count": null,
   "metadata": {
    "collapsed": false,
    "deletable": true,
    "editable": true
   },
   "outputs": [],
   "source": [
    "compileString(\"\"\"\n",
    "program p;\n",
    "  var v: array[-1 .. 5] of integer;\n",
    "  begin writeln end\n",
    "\"\"\")"
   ]
  },
  {
   "cell_type": "markdown",
   "metadata": {
    "deletable": true,
    "editable": true
   },
   "source": [
    "#### Error \"bad upper bound\""
   ]
  },
  {
   "cell_type": "code",
   "execution_count": null,
   "metadata": {
    "collapsed": false,
    "deletable": true,
    "editable": true
   },
   "outputs": [],
   "source": [
    "compileString(\"\"\"\n",
    "program p;\n",
    "  var v: array[5 .. 3] of integer;\n",
    "  begin writeln end\n",
    "\"\"\")"
   ]
  },
  {
   "cell_type": "markdown",
   "metadata": {
    "deletable": true,
    "editable": true
   },
   "source": [
    "#### Error \"expression not constant\""
   ]
  },
  {
   "cell_type": "code",
   "execution_count": null,
   "metadata": {
    "collapsed": false,
    "deletable": true,
    "editable": true
   },
   "outputs": [],
   "source": [
    "compileString(\"\"\"\n",
    "program p;\n",
    "  var v: integer;\n",
    "  procedure q;\n",
    "    const c = v;\n",
    "    begin writeln end;\n",
    "  begin writeln end\n",
    "\"\"\")"
   ]
  },
  {
   "cell_type": "markdown",
   "metadata": {
    "deletable": true,
    "editable": true
   },
   "source": [
    "### MIPS Code Generator Tests\n",
    "#### Error \"value too large\""
   ]
  },
  {
   "cell_type": "code",
   "execution_count": null,
   "metadata": {
    "collapsed": false,
    "deletable": true,
    "editable": true
   },
   "outputs": [],
   "source": [
    "compileString(\"\"\"\n",
    "program p;\n",
    "  const c = 100000;\n",
    "  var x: integer;\n",
    "  begin x := c\n",
    "  end\n",
    "\"\"\")"
   ]
  },
  {
   "cell_type": "markdown",
   "metadata": {
    "deletable": true,
    "editable": true
   },
   "source": [
    "#### Error \"no structured value parameters\", \"variable or procedure expected\""
   ]
  },
  {
   "cell_type": "code",
   "execution_count": null,
   "metadata": {
    "collapsed": false,
    "deletable": true,
    "editable": true
   },
   "outputs": [],
   "source": [
    "compileString(\"\"\"\n",
    "program p;\n",
    "  type a = array [1..10] of integer;\n",
    "  procedure q(f: a);\n",
    "    begin a := 4\n",
    "    end\n",
    "  begin a(5)\n",
    "  end\n",
    "\"\"\")"
   ]
  },
  {
   "cell_type": "markdown",
   "metadata": {
    "deletable": true,
    "editable": true
   },
   "source": [
    "#### Error \"out of registers\""
   ]
  },
  {
   "cell_type": "code",
   "execution_count": null,
   "metadata": {
    "collapsed": false,
    "deletable": true,
    "editable": true
   },
   "outputs": [],
   "source": [
    "compileString(\"\"\"\n",
    "program p;\n",
    "  var x: integer;\n",
    "  begin\n",
    "    x := 0*x + (1*x + (2*x + (3*x + (4*x + (5*x + (6*x + (7*x + (8*x))))))))\n",
    "  end\n",
    "\"\"\")"
   ]
  },
  {
   "cell_type": "markdown",
   "metadata": {
    "deletable": true,
    "editable": true
   },
   "source": [
    "#### Error \"level!\", \"undefined identifier\", \"variable or procedure expected\""
   ]
  },
  {
   "cell_type": "code",
   "execution_count": null,
   "metadata": {
    "collapsed": false,
    "deletable": true,
    "editable": true
   },
   "outputs": [],
   "source": [
    "compileString(\"\"\"\n",
    "program p;\n",
    "  procedure q;\n",
    "    var x: integer;\n",
    "    procedure r;\n",
    "      begin x := 5\n",
    "      end;\n",
    "    begin x := 3\n",
    "    end;\n",
    "  begin x := 7\n",
    "  end\n",
    "\"\"\")"
   ]
  },
  {
   "cell_type": "markdown",
   "metadata": {
    "deletable": true,
    "editable": true
   },
   "source": [
    "#### Error \"unsupported parameter type\""
   ]
  },
  {
   "cell_type": "code",
   "execution_count": 42,
   "metadata": {
    "collapsed": false,
    "deletable": true,
    "editable": true
   },
   "outputs": [
    {
     "name": "stdout",
     "output_type": "stream",
     "text": [
      "error: line 7 pos 16 unsupported parameter type\n"
     ]
    }
   ],
   "source": [
    "compileString(\"\"\"\n",
    "program p;\n",
    "  var x: integer;\n",
    "  procedure q(b: boolean);\n",
    "    begin b := false\n",
    "    end;\n",
    "  begin q(x > 7)\n",
    "  end\n",
    "\"\"\")"
   ]
  },
  {
   "cell_type": "markdown",
   "metadata": {
    "deletable": true,
    "editable": true
   },
   "source": [
    "#### Input & Output\n",
    "```\n",
    "    \t.data\n",
    "    x_: .space 4\n",
    "        .text\n",
    "        .globl main\n",
    "        .ent main\n",
    "    main:\t\n",
    "        li $v0, 5\n",
    "        syscall\n",
    "        sw $v0, x_\n",
    "        addi $t0, $0, 3\n",
    "        lw $t4, x_\n",
    "        mul $t0, $t0, $t4\n",
    "        sw $t0, x_\n",
    "        lw $a0, x_\n",
    "        li $v0, 1\n",
    "        syscall\n",
    "        li $v0, 11\n",
    "        li $a0, '\\n'\n",
    "        syscall\n",
    "        li $v0, 11\n",
    "        li $a0, '\\n'\n",
    "        syscall\n",
    "        lw $t2, x_\n",
    "        mul $t2, $t2, 5\n",
    "        add $a0, $t2, $0\n",
    "        li $v0, 1\n",
    "        syscall\n",
    "        li $v0, 10\n",
    "        syscall\n",
    "        .end main\n",
    "```"
   ]
  },
  {
   "cell_type": "code",
   "execution_count": null,
   "metadata": {
    "collapsed": false,
    "deletable": true,
    "editable": true
   },
   "outputs": [],
   "source": [
    "compileString(\"\"\"\n",
    "program p;\n",
    "  var x: integer;\n",
    "  begin read(x);\n",
    "    x := 3 * x;\n",
    "    write(x);\n",
    "    writeln();\n",
    "    writeln();\n",
    "    write(x * 5)\n",
    "  end\n",
    "\"\"\")"
   ]
  },
  {
   "cell_type": "markdown",
   "metadata": {
    "deletable": true,
    "editable": true
   },
   "source": [
    "#### Parameter Passing\n",
    "```\n",
    "        .data\n",
    "    z_: .space 40\n",
    "    x_: .space 4\n",
    "        .text\n",
    "        .globl q\n",
    "        .ent q\n",
    "    q:  \n",
    "        sw $fp, -12($sp)\n",
    "        sw $ra, -16($sp)\n",
    "        sub $fp, $sp, 8\n",
    "        sub $sp, $fp, 12\n",
    "        lw $t0, 4($fp)\n",
    "        sw $t0, -12($fp)\n",
    "        lw $a0, -12($fp)\n",
    "        li $v0, 1\n",
    "        syscall\n",
    "        li $v0, 11\n",
    "        li $a0, '\\n'\n",
    "        syscall\n",
    "        lw $t4, 0($fp)\n",
    "        lw $t2, 0($t4)\n",
    "        sw $t2, 4($fp)\n",
    "        lw $a0, x_\n",
    "        li $v0, 1\n",
    "        syscall\n",
    "        lw $a0, 4($fp)\n",
    "        li $v0, 1\n",
    "        syscall\n",
    "        li $v0, 11\n",
    "        li $a0, '\\n'\n",
    "        syscall\n",
    "        lw $t6, 0($fp)\n",
    "        lw $t3, -12($fp)\n",
    "        sw $t3, 0($t6)\n",
    "        lw $t8, 0($fp)\n",
    "        lw $a0, 0($t8)\n",
    "        li $v0, 1\n",
    "        syscall\n",
    "        lw $a0, x_\n",
    "        li $v0, 1\n",
    "        syscall\n",
    "        li $v0, 11\n",
    "        li $a0, '\\n'\n",
    "        syscall\n",
    "        lw $a0, 4($fp)\n",
    "        li $v0, 1\n",
    "        syscall\n",
    "        lw $a0, -12($fp)\n",
    "        li $v0, 1\n",
    "        syscall\n",
    "        li $v0, 11\n",
    "        li $a0, '\\n'\n",
    "        syscall\n",
    "        lw $a0, z_+12\n",
    "        li $v0, 1\n",
    "        syscall\n",
    "        add $sp, $fp, 8\n",
    "        lw $ra, -8($fp)\n",
    "        lw $fp, -4($fp)\n",
    "        jr $ra\n",
    "        .text\n",
    "        .globl r\n",
    "        .ent r\n",
    "    r:  \n",
    "        sw $fp, -8($sp)\n",
    "        sw $ra, -12($sp)\n",
    "        sub $fp, $sp, 4\n",
    "        sub $sp, $fp, 8\n",
    "        lw $t5, 0($fp)\n",
    "        lw $t7, x_\n",
    "        sub $t7, $t7, 1\n",
    "        mul $t7, $t7, 4\n",
    "        add $t7, $t5, $t7\n",
    "        lw $t1, x_\n",
    "        sw $t1, 0($t7)\n",
    "        addi $t0, $0, 7\n",
    "        sw $t0, -4($sp)\n",
    "        lw $t4, 0($fp)\n",
    "        lw $t2, x_\n",
    "        sub $t2, $t2, 1\n",
    "        mul $t2, $t2, 4\n",
    "        add $t2, $t4, $t2\n",
    "        sw $t2, -8($sp)\n",
    "        jal, q\n",
    "        lw $a0, x_\n",
    "        li $v0, 1\n",
    "        syscall\n",
    "        add $sp, $fp, 4\n",
    "        lw $ra, -8($fp)\n",
    "        lw $fp, -4($fp)\n",
    "        jr $ra\n",
    "        .text\n",
    "        .globl main\n",
    "        .ent main\n",
    "    main:   \n",
    "        addi $t3, $0, 5\n",
    "        sw $t3, x_\n",
    "        la $t8, z_\n",
    "        sw $t8, -4($sp)\n",
    "        jal, r\n",
    "        li $v0, 10\n",
    "        syscall\n",
    "        .end main\n",
    "```"
   ]
  },
  {
   "cell_type": "code",
   "execution_count": null,
   "metadata": {
    "collapsed": false,
    "deletable": true,
    "editable": true
   },
   "outputs": [],
   "source": [
    "compileString(\"\"\"\n",
    "program p;\n",
    "  type T = array [1..10] of integer;\n",
    "  var x: integer;\n",
    "  var z: T;\n",
    "  procedure q({-4($sp)}a: integer {4($fp)}; {-8($sp)}var b: integer {($fp)});\n",
    "    var y: integer;{-12($fp)}\n",
    "    begin y := a; write(y); writeln(); {writes 7}\n",
    "      a := b; write(x); write(a); writeln(); {writes 5, 5}\n",
    "      b := y; write(b); write(x); writeln(); {writes 7, 7}\n",
    "      write(a); write(y); writeln(); {writes 5, 7}\n",
    "      write(z[4]) {writes 7}\n",
    "    end;\n",
    "  procedure r(var c: T);\n",
    "    begin c[x] := x; q(7, c[x]); write(x) {writes 7}\n",
    "    end;\n",
    "  begin x := 5; r(z)\n",
    "  end\n",
    "\"\"\")"
   ]
  },
  {
   "cell_type": "markdown",
   "metadata": {
    "deletable": true,
    "editable": true
   },
   "source": [
    "#### Nested Procedures\n",
    "```\n",
    "        .data\n",
    "i_:     .space 4\n",
    "b_:     .space 4\n",
    "        .text\n",
    "        .globl p\n",
    "        .ent p\n",
    "p:      \n",
    "        sw $fp, -4($sp)\n",
    "        sw $ra, -8($sp)\n",
    "        sub $fp, $sp, 0\n",
    "        sub $sp, $fp, 8\n",
    "        sw $0, b_\n",
    "        lw $t3, 0($a0)\n",
    "        add $t3, $t3, 1\n",
    "        sw $t3, 0($a0)\n",
    "        add $sp, $fp, 0\n",
    "        lw $ra, -8($fp)\n",
    "        lw $fp, -4($fp)\n",
    "        jr $ra\n",
    "        .globl q\n",
    "        .ent q\n",
    "q:      \n",
    "        sw $fp, -4($sp)\n",
    "        sw $ra, -8($sp)\n",
    "        sub $fp, $sp, 0\n",
    "        sub $sp, $fp, 12\n",
    "        addi $t1, $0, 1\n",
    "        sw $t1, 0($a0)\n",
    "        addi $t7, $0, 4\n",
    "        sw $t7, -12($fp)\n",
    "        la $a0, i_\n",
    "        jal, p\n",
    "        add $sp, $fp, 0\n",
    "        lw $ra, -8($fp)\n",
    "        lw $fp, -4($fp)\n",
    "        jr $ra\n",
    "        .globl main\n",
    "        .ent main\n",
    "main:   \n",
    "        la $a0, b_\n",
    "        jal, q\n",
    "        li $v0, 10\n",
    "        syscall\n",
    "        .end main\n",
    "```"
   ]
  },
  {
   "cell_type": "code",
   "execution_count": null,
   "metadata": {
    "collapsed": false,
    "deletable": true,
    "editable": true
   },
   "outputs": [],
   "source": [
    "compileString(\"\"\"\n",
    "program p;\n",
    "  var b: boolean;\n",
    "  var i: integer;\n",
    "  procedure q(var z: boolean);\n",
    "    var y: integer;\n",
    "    procedure p(var x: integer);\n",
    "      begin b := false; x := x + 1\n",
    "      end;\n",
    "    begin z := true; y := 4; p(i)\n",
    "    end;\n",
    "  begin q(b)\n",
    "  end\n",
    "\"\"\")"
   ]
  },
  {
   "cell_type": "markdown",
   "metadata": {
    "deletable": true,
    "editable": true
   },
   "source": [
    "#### Arrays and Records\n",
    "```\n",
    "        .data\n",
    "    x_: .space 4\n",
    "    w_: .space 36\n",
    "    v_: .space 28\n",
    "        .text\n",
    "        .globl q\n",
    "        .ent q\n",
    "    q:  \n",
    "        sw $fp, -12($sp)\n",
    "        sw $ra, -16($sp)\n",
    "        sub $fp, $sp, 8\n",
    "        sub $sp, $fp, 12\n",
    "        addi $t0, $0, 3\n",
    "        sw $t0, -12($fp)\n",
    "        lw $t4, 0($fp)\n",
    "        lw $a0, 32($t4)\n",
    "        li $v0, 1\n",
    "        syscall\n",
    "        lw $t2, 4($fp)\n",
    "        lw $a0, 0($t2)\n",
    "        li $v0, 1\n",
    "        syscall\n",
    "        lw $t6, 0($fp)\n",
    "        lw $t3, -12($fp)\n",
    "        sub $t3, $t3, 1\n",
    "        mul $t3, $t3, 4\n",
    "        add $t3, $t6, $t3\n",
    "        lw $a0, 4($t3)\n",
    "        li $v0, 1\n",
    "        syscall\n",
    "        li $v0, 11\n",
    "        li $a0, '\\n'\n",
    "        syscall\n",
    "        lw $t8, 4($fp)\n",
    "        addi $t5, $0, 7\n",
    "        sw $t5, 24($t8)\n",
    "        lw $t7, 4($fp)\n",
    "        lw $t1, -12($fp)\n",
    "        add $t1, $t1, 4\n",
    "        sub $t1, $t1, 1\n",
    "        mul $t1, $t1, 4\n",
    "        add $t1, $t7, $t1\n",
    "        lw $a0, 0($t1)\n",
    "        li $v0, 1\n",
    "        syscall\n",
    "        lw $t0, 0($fp)\n",
    "        lw $t4, -12($fp)\n",
    "        mul $t4, $t4, 2\n",
    "        sub $t4, $t4, 1\n",
    "        mul $t4, $t4, 4\n",
    "        add $t4, $t0, $t4\n",
    "        addi $t2, $0, 7\n",
    "        sw $t2, 4($t4)\n",
    "        lw $t6, 0($fp)\n",
    "        lw $a0, 24($t6)\n",
    "        li $v0, 1\n",
    "        syscall\n",
    "        add $sp, $fp, 8\n",
    "        lw $ra, -8($fp)\n",
    "        lw $fp, -4($fp)\n",
    "        jr $ra\n",
    "        .text\n",
    "        .globl main\n",
    "        .ent main\n",
    "    main:   \n",
    "        addi $t3, $0, 9\n",
    "        sw $t3, x_\n",
    "        addi $t5, $0, 5\n",
    "        sw $t5, w_+32\n",
    "        lw $a0, w_+32\n",
    "        li $v0, 1\n",
    "        syscall\n",
    "        addi $t7, $0, 3\n",
    "        sw $t7, v_+0\n",
    "        lw $t1, x_\n",
    "        sub $t1, $t1, 8\n",
    "        sub $t1, $t1, 1\n",
    "        mul $t1, $t1, 4\n",
    "        lw $a0, v_($t1)\n",
    "        li $v0, 1\n",
    "        syscall\n",
    "        lw $t0, x_\n",
    "        div $t0, $t0, 3\n",
    "        sub $t0, $t0, 1\n",
    "        mul $t0, $t0, 4\n",
    "        addi $t2, $0, 9\n",
    "        sw $t2, w_+4($t0)\n",
    "        lw $a0, w_+4+8\n",
    "        li $v0, 1\n",
    "        syscall\n",
    "        li $v0, 11\n",
    "        li $a0, '\\n'\n",
    "        syscall\n",
    "        la $t6, v_\n",
    "        sw $t6, -4($sp)\n",
    "        la $t3, w_\n",
    "        sw $t3, -8($sp)\n",
    "        jal, q\n",
    "        li $v0, 11\n",
    "        li $a0, '\\n'\n",
    "        syscall\n",
    "        lw $a0, v_+24\n",
    "        li $v0, 1\n",
    "        syscall\n",
    "        lw $a0, w_+4+20\n",
    "        li $v0, 1\n",
    "        syscall\n",
    "        li $v0, 10\n",
    "        syscall\n",
    "        .end main\n",
    "```"
   ]
  },
  {
   "cell_type": "code",
   "execution_count": null,
   "metadata": {
    "collapsed": false,
    "deletable": true,
    "editable": true
   },
   "outputs": [],
   "source": [
    "compileString(\"\"\"\n",
    "program p;\n",
    "  type a = array [1 .. 7] of integer;\n",
    "  type r = record f: integer; g: a; h: integer end;\n",
    "  var v: a;\n",
    "  var w: r;\n",
    "  var x: integer;\n",
    "  procedure q(var c: a; var d: r);\n",
    "    var y: integer;\n",
    "    begin y := 3;\n",
    "      write(d.h); write(c[1]); write(d.g[y]); {writes 5, 3, 9}\n",
    "      writeln(); c[7] := 7; write(c[y+4]); {writes 7}\n",
    "      d.g[y*2] := 7; write(d.g[6]) {writes 7}\n",
    "    end;\n",
    "  begin x := 9;\n",
    "    w.h := 12 - 7; write(w.h); {writes 5}\n",
    "    v[1] := 3; write(v[x-8]); {writes 3}\n",
    "    w.g[x div 3] := 9; write(w.g[3]); {writes 9}\n",
    "    writeln(); q(v, w); writeln();\n",
    "    write(v[7]); write(w.g[6]) {writes 7, 7}\n",
    "  end\n",
    "\"\"\")"
   ]
  },
  {
   "cell_type": "markdown",
   "metadata": {
    "deletable": true,
    "editable": true
   },
   "source": [
    "#### Booleans and Conditions"
   ]
  },
  {
   "cell_type": "code",
   "execution_count": null,
   "metadata": {
    "collapsed": false,
    "deletable": true,
    "editable": true
   },
   "outputs": [],
   "source": [
    "compileString(\"\"\"\n",
    "program p;\n",
    "  const five = 5;\n",
    "  const seven = 7;\n",
    "  const always = true;\n",
    "  const never = false;\n",
    "  var x, y, z: integer;\n",
    "  var b, t, f: boolean;\n",
    "  begin x := seven; y := 9; z := 11; t := true; f := false;\n",
    "    if true then write(7) else write(9);    {writes 7}\n",
    "    if false then write(7) else write(9);   {writes 9}\n",
    "    if t then write(7) else write(9);       {writes 7}\n",
    "    if f then write(7) else write(9);       {writes 9}\n",
    "    if not t then write(7) else write(9);   {writes 9}\n",
    "    if not f then write(7) else write(9);   {writes 7}\n",
    "    if t or t then write(7) else write(9);  {writes 7}\n",
    "    if t or f then write(7) else write(9);  {writes 7}\n",
    "    if f or t then write(7) else write(9);  {writes 7}\n",
    "    if f or f then write(7) else write(9);  {writes 9}\n",
    "    if t and t then write(7) else write(9); {writes 7}\n",
    "    if t and f then write(7) else write(9); {writes 9}\n",
    "    if f and t then write(7) else write(9); {writes 9}\n",
    "    if f and f then write(7) else write(9); {writes 9}\n",
    "    writeln();\n",
    "    b := true;\n",
    "    if b then write(3) else write(5); {writes 3}\n",
    "    b := false;\n",
    "    if b then write(3) else write(5); {writes 5}\n",
    "    b := x < y;\n",
    "    if b then write(x) else write(y); {writes 7}\n",
    "    b := (x > y) or t;\n",
    "    if b then write(3) else write(5); {writes 3}\n",
    "    b := (x > y) or f;\n",
    "    if b then write(3) else write(5); {writes 5}\n",
    "    b := (x = y) or (x > y);\n",
    "    if b then write(3) else write(5); {writes 5}\n",
    "    b := (x = y) or (x < y);\n",
    "    if b then write(3) else write(5); {writes 3}\n",
    "    b := f and (x >= y);\n",
    "    if b then write(3) else write(5); {writes 5}\n",
    "    writeln();\n",
    "    while y > 3 do                    {writes 9, 8, 7, 6, 5, 4}\n",
    "      begin write(y); y := y - 1 end;\n",
    "    write(y); writeln();              {writes 3}\n",
    "    if not(x < y) and t then          {writes 7}\n",
    "      write(x)\n",
    "  end\n",
    "\"\"\")"
   ]
  },
  {
   "cell_type": "markdown",
   "metadata": {
    "deletable": true,
    "editable": true
   },
   "source": [
    "#### Constant Folding, Local & Global Variables"
   ]
  },
  {
   "cell_type": "code",
   "execution_count": null,
   "metadata": {
    "collapsed": false,
    "deletable": true,
    "editable": true
   },
   "outputs": [],
   "source": [
    "compileString(\"\"\"\n",
    "program p;\n",
    "  const seven = (9 mod 3 + 5 * 3) div 2;\n",
    "  type int = integer;\n",
    "  var x, y: integer;\n",
    "  procedure q;\n",
    "    const sotrue = true and true;\n",
    "    const sofalse = false and true;\n",
    "    const alsotrue = false or true;\n",
    "    const alsofalse = false or false;\n",
    "    var x: int;\n",
    "    begin x := 3;\n",
    "      if sotrue then y := x else y := seven;\n",
    "      write(y); {writes 3}\n",
    "      if sofalse then y := x else y := seven;\n",
    "      write(y); {writes 7}\n",
    "      if alsotrue then y := x else y := seven;\n",
    "      write(y); {writes 3}\n",
    "      if alsofalse then y := x else y := seven;\n",
    "      write(y); {writes 7}\n",
    "      if not(true or false) then write(5) else write(9)\n",
    "    end;\n",
    "  begin x := 7; q(); write(x) {writes 7}\n",
    "  end\n",
    "\"\"\")"
   ]
  },
  {
   "cell_type": "markdown",
   "metadata": {
    "deletable": true,
    "editable": true
   },
   "source": [
    "#### Procedures\n",
    "```\n",
    "    .data\n",
    "g_: .space 4\n",
    "    .text\n",
    "    .globl q\n",
    "    .ent q\n",
    "q:  \n",
    "    sw $fp, -8($sp)\n",
    "    sw $ra, -12($sp)\n",
    "    sub $fp, $sp, 4\n",
    "    sub $sp, $fp, 12\n",
    "    addi $t4, $0, 9\n",
    "    sw $t4, -12($fp)\n",
    "    lw $t2, -12($fp)\n",
    "    lw $t7, 0($fp)\n",
    "    ble $t2, $t7, L1\n",
    "L2: \n",
    "    lw $a0, -12($fp)\n",
    "    li $v0, 1\n",
    "    syscall\n",
    "    b, L3\n",
    "L1: \n",
    "    lw $a0, g_\n",
    "    li $v0, 1\n",
    "    syscall\n",
    "L3: \n",
    "    add $sp, $fp, 4\n",
    "    lw $ra, -8($fp)\n",
    "    lw $fp, -4($fp)\n",
    "    jr $ra\n",
    "    .text\n",
    "    .globl main\n",
    "    .ent main\n",
    "main:   \n",
    "    addi $t0, $0, 5\n",
    "    sw $t0, g_\n",
    "    addi $t8, $0, 7\n",
    "    sw $t8, -4($sp)\n",
    "    jal, q\n",
    "    li $v0, 10\n",
    "    syscall\n",
    "    .end main\n",
    "```"
   ]
  },
  {
   "cell_type": "code",
   "execution_count": null,
   "metadata": {
    "collapsed": false,
    "deletable": true,
    "editable": true
   },
   "outputs": [],
   "source": [
    "compileString(\"\"\"\n",
    "program p;\n",
    "  var g: integer;          {global variable}\n",
    "  procedure q(v: integer); {value parameter}\n",
    "    var l: integer;        {local variable}\n",
    "    begin\n",
    "      l := 9;\n",
    "      if l > v then\n",
    "         write(l)\n",
    "      else\n",
    "         write(g)\n",
    "    end;\n",
    "  begin\n",
    "    g := 5;\n",
    "    q(7)\n",
    "  end\n",
    "\"\"\")"
   ]
  },
  {
   "cell_type": "markdown",
   "metadata": {
    "deletable": true,
    "editable": true
   },
   "source": [
    "#### Illustrating Lack of Optimization\n",
    "```\n",
    "        .data\n",
    "    x_: .space 4\n",
    "        .text\n",
    "        .globl main\n",
    "        .ent main\n",
    "    main:   \n",
    "        addi $t4, $0, 5\n",
    "        sw $t4, x_\n",
    "        lw $t6, x_\n",
    "        add $t6, $t6, 0\n",
    "        sw $t6, x_\n",
    "        lw $t7, x_\n",
    "        add $t8, $0, $t7\n",
    "        sw $t8, x_\n",
    "        lw $t3, x_\n",
    "        mul $t3, $t3, 1\n",
    "        sw $t3, x_\n",
    "        addi $t2, $0, 1\n",
    "        lw $t1, x_\n",
    "        mul $t2, $t2, $t1\n",
    "        sw $t2, x_\n",
    "        lw $t5, x_\n",
    "        add $t5, $t5, 3\n",
    "        sw $t5, x_\n",
    "        addi $t0, $0, 3\n",
    "        lw $t4, x_\n",
    "        add $t0, $t0, $t4\n",
    "        sw $t0, x_\n",
    "        li $v0, 10\n",
    "        syscall\n",
    "        .end main\n",
    "```"
   ]
  },
  {
   "cell_type": "code",
   "execution_count": null,
   "metadata": {
    "collapsed": false,
    "deletable": true,
    "editable": true,
    "scrolled": true
   },
   "outputs": [],
   "source": [
    "compileString(\"\"\"\n",
    "program p;\n",
    "  var x: integer;\n",
    "  begin x := 5;\n",
    "    x := x + 0;\n",
    "    x := 0 + x;\n",
    "    x := x * 1;\n",
    "    x := 1 * x;\n",
    "    x := x + 3;\n",
    "    x := 3 + x\n",
    "  end\n",
    "\"\"\")"
   ]
  },
  {
   "cell_type": "markdown",
   "metadata": {
    "deletable": true,
    "editable": true
   },
   "source": [
    "#### Record and Array Access\n",
    "```\n",
    "    .data\n",
    "y_: .space 4          # size(y) = size(integer) = 4\n",
    "x_: .space 32         # size(T) = (9-3+1)*size(integer) = 7*4=28\n",
    "                      # size(U) = size(integer)+size(T) = 32\n",
    "                      # size(x) = size(U) = 32\n",
    "                      # offset(f) = 0\n",
    "                      # offset(g) = size(f) = 4\n",
    "    .text\n",
    "    .globl main\n",
    "    .ent main\n",
    "main:   \n",
    "    lw $t3, y_        # $t3 := y\n",
    "    add $t3, $t3, 3   # $t3 := $t3 + 3\n",
    "    sw $t3, y_        # y := $t3\n",
    "    addi $t1, $0, 1   # $t1 := 1\n",
    "    sw $t1, x_+0      # M[x+offset(f)] = x.f := $t1\n",
    "    lw $t0, y_        # $t0 := y\n",
    "    sub $t0, $t0, 3   # $t0 := $t0 - 3\n",
    "    mul $t0, $t0, 4   # $t0 := $t0 * size(integer)\n",
    "    addi $t8, $0, 5   # $t8 := 5\n",
    "    sw $t8, x_+4($t0) # M[(x+offset(g)+adr(g[y]))] = x.g[5] := $t8\n",
    "    li $v0, 10\n",
    "    syscall\n",
    "    .end main\n",
    "```"
   ]
  },
  {
   "cell_type": "code",
   "execution_count": null,
   "metadata": {
    "code_folding": [],
    "collapsed": false,
    "deletable": true,
    "editable": true
   },
   "outputs": [],
   "source": [
    "compileString(\"\"\"\n",
    "program p;\n",
    "  type T = array [3..9] of integer;\n",
    "  type U = record f: boolean; g: T end;\n",
    "  var x: U;\n",
    "  var y: integer;\n",
    "  begin\n",
    "    y := y + 3;\n",
    "    x.f := true;\n",
    "    x.g[y] := 5\n",
    "  end\n",
    "\"\"\")"
   ]
  },
  {
   "cell_type": "markdown",
   "metadata": {
    "deletable": true,
    "editable": true
   },
   "source": [
    "#### Two-dimensional Array\n",
    "```\n",
    "    .data\n",
    "y_: .space 4\n",
    "x_: .space 616\n",
    "    .text\n",
    "    .globl main\n",
    "    .ent main\n",
    "main:   \n",
    "    lw $t0, y_\n",
    "    sub $t0, $t0, 3\n",
    "    mul $t0, $t0, 88\n",
    "    sw $0, x_+32+4($t0)\n",
    "    lw $t4, y_\n",
    "    sub $t4, $t4, 3\n",
    "    mul $t4, $t4, 88\n",
    "    lw $t2, y_\n",
    "    add $t2, $t2, 1\n",
    "    sub $t2, $t2, 1\n",
    "    mul $t2, $t2, 8\n",
    "    add $t2, $t4, $t2\n",
    "    addi $t6, $0, 1\n",
    "    sw $t6, x_+0($t2)\n",
    "    li $v0, 10\n",
    "    syscall\n",
    "    .end main\n",
    "```"
   ]
  },
  {
   "cell_type": "code",
   "execution_count": null,
   "metadata": {
    "collapsed": false,
    "deletable": true,
    "editable": true
   },
   "outputs": [],
   "source": [
    "compileString(\"\"\"\n",
    "program p;\n",
    "  type R = record f, g: boolean end;\n",
    "  type S = array [1..11] of R;\n",
    "  type T = array [3..9] of S;\n",
    "  var x: T; \n",
    "  var y: integer;\n",
    "  begin\n",
    "    x[y][5].g := false;\n",
    "    x[y][y + 1].f := true\n",
    "  end\n",
    "\"\"\")"
   ]
  },
  {
   "cell_type": "markdown",
   "metadata": {
    "deletable": true,
    "editable": true
   },
   "source": [
    "#### Assignments\n",
    "```\n",
    "    .data\n",
    "z_: .space 4\n",
    "y_: .space 4\n",
    "x_: .space 4\n",
    "    .text\n",
    "    .globl main\n",
    "    .ent main\n",
    "main:   \n",
    "    addi $t0, $0, 3\n",
    "    sw $t0, z_\n",
    "    lw $t4, y_\n",
    "    mul $t4, $t4, 7\n",
    "    lw $t2, x_\n",
    "    add $t2, $t2, $t4\n",
    "    sw $t2, z_\n",
    "    sw $0, z_\n",
    "    li $v0, 10\n",
    "    syscall\n",
    "    .end main\n",
    "```"
   ]
  },
  {
   "cell_type": "code",
   "execution_count": null,
   "metadata": {
    "collapsed": false,
    "deletable": true,
    "editable": true
   },
   "outputs": [],
   "source": [
    "compileString(\"\"\"\n",
    "program p;\n",
    "  var x, y, z: integer;\n",
    "  begin\n",
    "    z := 3;\n",
    "    z := x + y * 7;\n",
    "    z := 0\n",
    "  end\n",
    "\"\"\")"
   ]
  },
  {
   "cell_type": "markdown",
   "metadata": {
    "deletable": true,
    "editable": true
   },
   "source": [
    "#### Relations\n",
    "```\n",
    "    .data\n",
    "y_: .space 4\n",
    "x_: .space 4\n",
    "    .text\n",
    "    .globl main\n",
    "    .ent main\n",
    "main:   \n",
    "    lw $t4, x_\n",
    "    lw $t2, y_\n",
    "    ble $t4, $t2, L1\n",
    "L2: \n",
    "    sw $0, x_\n",
    "L1: \n",
    "    li $v0, 10\n",
    "    syscall\n",
    "    .end main\n",
    "```"
   ]
  },
  {
   "cell_type": "code",
   "execution_count": null,
   "metadata": {
    "collapsed": false,
    "deletable": true,
    "editable": true
   },
   "outputs": [],
   "source": [
    "compileString(\"\"\"\n",
    "program p;\n",
    "  var x, y: integer;\n",
    "  begin\n",
    "    if x > y then x := 0\n",
    "  end\n",
    "\"\"\")"
   ]
  },
  {
   "cell_type": "markdown",
   "metadata": {
    "deletable": true,
    "editable": true
   },
   "source": [
    "### AST Demos\n",
    "#### Control Structures\n",
    "```\n",
    "seq\n",
    "  seq\n",
    "    call read\n",
    "      var x lev 0:\n",
    "        <class 'ST.Int'>\n",
    "    ifelse\n",
    "      >\n",
    "        var x lev 0:\n",
    "          <class 'ST.Int'>\n",
    "        const : <class 'ST.Int'> = 0\n",
    "      while\n",
    "        <\n",
    "          var y lev 0:\n",
    "            array lower 1 length 10 base\n",
    "              <class 'ST.Int'>[]\n",
    "             var x lev 0:\n",
    "              <class 'ST.Int'>\n",
    "          const : <class 'ST.Int'> = 7\n",
    "        :=\n",
    "          var x lev 0:\n",
    "            <class 'ST.Int'>\n",
    "          +\n",
    "            var x lev 0:\n",
    "              <class 'ST.Int'>\n",
    "            const : <class 'ST.Int'> = 1\n",
    "      call write\n",
    "        var x lev 0:\n",
    "          <class 'ST.Int'>\n",
    "  call writeln\n",
    "\n",
    "type boolean  <class 'ST.Bool'>\n",
    "type integer  <class 'ST.Int'>\n",
    "const true: <class 'ST.Bool'> = 1\n",
    "const false: <class 'ST.Bool'> = 0\n",
    "stdproc read lev 0 par\n",
    "  [\"ref  lev : <class 'ST.Int'>\"]\n",
    "stdproc write lev 0 par\n",
    "  [\"var  lev :\\n  <class 'ST.Int'>\"]\n",
    "stdproc writeln lev 0 par\n",
    "  []\n",
    "var x lev 0:\n",
    "  <class 'ST.Int'>\n",
    "var y lev 0:\n",
    "  array lower 1 length 10 base\n",
    "    <class 'ST.Int'>\n",
    "```"
   ]
  },
  {
   "cell_type": "code",
   "execution_count": null,
   "metadata": {
    "collapsed": false,
    "deletable": true,
    "editable": true
   },
   "outputs": [],
   "source": [
    "compileString(\"\"\"\n",
    "program p;\n",
    "  var x: integer;\n",
    "  var y: array [1..10] of integer;\n",
    "  begin\n",
    "    read(x);\n",
    "    if x > 0 then\n",
    "      while y[x] < 7 do\n",
    "        x := x + 1\n",
    "    else write(x);\n",
    "    writeln\n",
    "  end\n",
    "\"\"\", target='ast')\n",
    "printSymTab()"
   ]
  },
  {
   "cell_type": "markdown",
   "metadata": {
    "deletable": true,
    "editable": true
   },
   "source": [
    "#### Records\n",
    "```\n",
    "seq\n",
    "  seq\n",
    "    seq\n",
    "      :=\n",
    "        var a lev 0:\n",
    "          <class 'ST.Int'>\n",
    "        const : <class 'ST.Int'> = 7\n",
    "      :=\n",
    "        var b lev 0:\n",
    "          <class 'ST.Int'>\n",
    "        const : <class 'ST.Int'> = 9\n",
    "    :=\n",
    "      var x lev 0:\n",
    "        record\n",
    "          var f lev 1:\n",
    "            <class 'ST.Int'>\n",
    "          var g lev 1:\n",
    "            <class 'ST.Int'>.var g lev 1:\n",
    "        <class 'ST.Int'>\n",
    "      const : <class 'ST.Int'> = 3\n",
    "  :=\n",
    "    var x lev 0:\n",
    "      record\n",
    "        var f lev 1:\n",
    "          <class 'ST.Int'>\n",
    "        var g lev 1:\n",
    "          <class 'ST.Int'>.var f lev 1:\n",
    "      <class 'ST.Int'>\n",
    "    const : <class 'ST.Int'> = 5\n",
    "```"
   ]
  },
  {
   "cell_type": "code",
   "execution_count": null,
   "metadata": {
    "collapsed": false,
    "deletable": true,
    "editable": true
   },
   "outputs": [],
   "source": [
    "compileString(\"\"\"\n",
    "program p;\n",
    "  var a: integer;\n",
    "  var b: integer;\n",
    "  var x: record f, g: integer end;\n",
    "  begin\n",
    "    a := 7;\n",
    "    b := 9;\n",
    "    x.g := 3;\n",
    "    x.f := 5\n",
    "  end\n",
    "\"\"\", target='ast')"
   ]
  },
  {
   "cell_type": "markdown",
   "metadata": {
    "deletable": true,
    "editable": true
   },
   "source": [
    "#### Arrays\n",
    "```\n",
    "seq\n",
    "  seq\n",
    "    :=\n",
    "      var x lev 0:\n",
    "        array lower 1 length 10 base\n",
    "          <class 'ST.Int'>[]\n",
    "         const : <class 'ST.Int'> = 5\n",
    "      const : <class 'ST.Int'> = 3\n",
    "    :=\n",
    "      var x lev 0:\n",
    "        array lower 1 length 10 base\n",
    "          <class 'ST.Int'>[]\n",
    "         var i lev 0:\n",
    "          <class 'ST.Int'>\n",
    "      const : <class 'ST.Int'> = 5\n",
    "  :=\n",
    "    var x lev 0:\n",
    "      array lower 1 length 10 base\n",
    "        <class 'ST.Int'>[]\n",
    "       +\n",
    "        var i lev 0:\n",
    "          <class 'ST.Int'>\n",
    "        const : <class 'ST.Int'> = 7\n",
    "    +\n",
    "      var i lev 0:\n",
    "        <class 'ST.Int'>\n",
    "      const : <class 'ST.Int'> = 9\n",
    "```"
   ]
  },
  {
   "cell_type": "code",
   "execution_count": null,
   "metadata": {
    "collapsed": false,
    "deletable": true,
    "editable": true
   },
   "outputs": [],
   "source": [
    "compileString(\"\"\"\n",
    "program p;\n",
    "  var i: integer;\n",
    "  var x: array [1..10] of integer;\n",
    "  begin\n",
    "    x[5] := 3;\n",
    "    x[i] := 5;\n",
    "    x[i + 7] := i + 9\n",
    "  end\n",
    "\"\"\", target='ast')"
   ]
  }
 ],
 "metadata": {
  "kernelspec": {
   "display_name": "Python 3",
   "language": "python",
   "name": "python3"
  },
  "language_info": {
   "codemirror_mode": {
    "name": "ipython",
    "version": 3
   },
   "file_extension": ".py",
   "mimetype": "text/x-python",
   "name": "python",
   "nbconvert_exporter": "python",
   "pygments_lexer": "ipython3",
   "version": "3.6.0"
  }
 },
 "nbformat": 4,
 "nbformat_minor": 2
}
