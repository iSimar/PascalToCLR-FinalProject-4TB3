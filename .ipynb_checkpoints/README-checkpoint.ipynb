{
 "cells": [
  {
   "cell_type": "markdown",
   "metadata": {},
   "source": [
    "# Adding CLR as Target for P0\n",
    "### By **Simarpreet Singh (1216728)**\n",
    "\n",
    "#### Introduction\n",
    "I will be extending the P0 complier to convert pascal code into CIL. This project will allow me to have a better understanding of compliers. CLR (Common Language Runtime) is a program used by many Microsoft software products like .NET, it is used to convert CIL (Common Intermediate Language) to native code.  CIL is also stack-oriented language which gives it an advantage of being able to represent expressions. Being able to represent expressions in a trivial way is idea for a computer constructions. More over after talking to Mr. Sekerinski, I will also be extending P0 with external calls, so that I can make calls to the CLR library from with the P0 program itself, this will extend the usability of the P0 program. This a challenge I would face during the project. \n",
    "\n",
    "#### Milestone 1 (Date: March 18, 2017)\n",
    "\n",
    "As for the first milestone submission of the project I'm submitting conversion of only declaration and assignment statements.Conversion of Control structures and Procedures are planned features for the prototype."
   ]
  },
  {
   "cell_type": "markdown",
   "metadata": {},
   "source": [
    "First we will be importing the complierString function from P0"
   ]
  },
  {
   "cell_type": "code",
   "execution_count": 1,
   "metadata": {
    "collapsed": false
   },
   "outputs": [
    {
     "name": "stdout",
     "output_type": "stream",
     "text": [
      "importing Jupyter notebook from P0.ipynb\n",
      "importing Jupyter notebook from SC.ipynb\n"
     ]
    },
    {
     "data": {
      "text/html": [
       "<style>\n",
       "div.prompt {display:none}\n",
       "</style>"
      ],
      "text/plain": [
       "<IPython.core.display.HTML object>"
      ]
     },
     "metadata": {},
     "output_type": "display_data"
    },
    {
     "name": "stdout",
     "output_type": "stream",
     "text": [
      "importing Jupyter notebook from ST.ipynb\n"
     ]
    },
    {
     "data": {
      "text/html": [
       "<style>\n",
       "div.prompt {display:none}\n",
       "</style>"
      ],
      "text/plain": [
       "<IPython.core.display.HTML object>"
      ]
     },
     "metadata": {},
     "output_type": "display_data"
    }
   ],
   "source": [
    "import nbimporter\n",
    "from P0 import compileString"
   ]
  },
  {
   "cell_type": "markdown",
   "metadata": {
    "deletable": true,
    "editable": true
   },
   "source": [
    "Here we will be creating simple test case functions which use the P0's complieString function "
   ]
  },
  {
   "cell_type": "code",
   "execution_count": 2,
   "metadata": {
    "collapsed": true
   },
   "outputs": [],
   "source": [
    "# test01 consists of a simple declaration\n",
    "# and assignment statement using variable x\n",
    "def test01():\n",
    "    \"\"\"input & output\"\"\"\n",
    "    compileString(\"\"\"\n",
    "program p;\n",
    "  var x: integer;\n",
    "  var y: boolean;\n",
    "  begin\n",
    "    x:=1;\n",
    "    y:=true\n",
    "  end\n",
    "\"\"\")"
   ]
  },
  {
   "cell_type": "code",
   "execution_count": 3,
   "metadata": {
    "collapsed": false
   },
   "outputs": [
    {
     "name": "stdout",
     "output_type": "stream",
     "text": [
      "importing Jupyter notebook from CGclr.ipynb\n",
      "error: line 7 pos 5 statement expected\n"
     ]
    }
   ],
   "source": [
    "test01()"
   ]
  }
 ],
 "metadata": {
  "kernelspec": {
   "display_name": "Python 3",
   "language": "python",
   "name": "python3"
  },
  "language_info": {
   "codemirror_mode": {
    "name": "ipython",
    "version": 3
   },
   "file_extension": ".py",
   "mimetype": "text/x-python",
   "name": "python",
   "nbconvert_exporter": "python",
   "pygments_lexer": "ipython3",
   "version": "3.6.0"
  }
 },
 "nbformat": 4,
 "nbformat_minor": 2
}
