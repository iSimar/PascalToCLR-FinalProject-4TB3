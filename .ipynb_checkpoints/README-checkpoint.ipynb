{
 "cells": [
  {
   "cell_type": "markdown",
   "metadata": {
    "deletable": true,
    "editable": true
   },
   "source": [
    "# Adding CLR as Target for P0\n",
    "### By **Simarpreet Singh (1216728)**\n",
    "\n",
    "#### Introduction\n",
    "I will be extending the P0 complier to convert pascal code into CIL. This project will allow me to have a better understanding of compliers. CLR (Common Language Runtime) is a program used by many Microsoft software products like .NET, it is used to convert CIL (Common Intermediate Language) to native code.  CIL is also stack-oriented language which gives it an advantage of being able to represent expressions. Being able to represent expressions in a trivial way is idea for a computer constructions. More over after talking to Mr. Sekerinski, I will also be extending P0 with external calls, so that I can make calls to the CLR library from with the P0 program itself, this will extend the usability of the P0 program. This a challenge I would face during the project. \n",
    "\n",
    "#### Milestone 1 (Date: March 18, 2017)\n",
    "\n",
    "As for the first milestone submission of the project I'm submitting conversion of only declaration and assignment statements.Conversion of Control structures and Procedures are planned features for the prototype."
   ]
  },
  {
   "cell_type": "markdown",
   "metadata": {
    "deletable": true,
    "editable": true
   },
   "source": [
    "First we will be importing the complierString function from P0"
   ]
  },
  {
   "cell_type": "code",
   "execution_count": 1,
   "metadata": {
    "collapsed": false,
    "deletable": true,
    "editable": true
   },
   "outputs": [
    {
     "name": "stdout",
     "output_type": "stream",
     "text": [
      "importing Jupyter notebook from P0.ipynb\n",
      "importing Jupyter notebook from SC.ipynb\n"
     ]
    },
    {
     "data": {
      "text/html": [
       "<style>\n",
       "div.prompt {display:none}\n",
       "</style>"
      ],
      "text/plain": [
       "<IPython.core.display.HTML object>"
      ]
     },
     "metadata": {},
     "output_type": "display_data"
    },
    {
     "name": "stdout",
     "output_type": "stream",
     "text": [
      "importing Jupyter notebook from ST.ipynb\n"
     ]
    },
    {
     "data": {
      "text/html": [
       "<style>\n",
       "div.prompt {display:none}\n",
       "</style>"
      ],
      "text/plain": [
       "<IPython.core.display.HTML object>"
      ]
     },
     "metadata": {},
     "output_type": "display_data"
    }
   ],
   "source": [
    "import nbimporter\n",
    "from P0 import compileString"
   ]
  },
  {
   "cell_type": "markdown",
   "metadata": {
    "deletable": true,
    "editable": true
   },
   "source": [
    "Here we will be creating simple test case functions which use the P0's complieString function "
   ]
  },
  {
   "cell_type": "code",
   "execution_count": 2,
   "metadata": {
    "collapsed": true,
    "deletable": true,
    "editable": true
   },
   "outputs": [],
   "source": [
    "# test01 consists of a simple declaration\n",
    "# and assignment statement using variable x\n",
    "def test01():\n",
    "    \"\"\"input & output\"\"\"\n",
    "    compileString(\"\"\"\n",
    "program p;\n",
    "  var x: integer;\n",
    "  begin\n",
    "    x:=1\n",
    "  end\n",
    "\"\"\")"
   ]
  },
  {
   "cell_type": "code",
   "execution_count": 3,
   "metadata": {
    "collapsed": false,
    "deletable": true,
    "editable": true,
    "scrolled": true
   },
   "outputs": [
    {
     "name": "stdout",
     "output_type": "stream",
     "text": [
      "importing Jupyter notebook from CGclr.ipynb\n",
      ".assembly extern mscorlib{}\n",
      ".assembly 'main'{}\n",
      "\n",
      "\n",
      ".class private auto ansi beforefieldinit MainClass\n",
      "\textends [mscorlib]System.Object\n",
      "{\n",
      "\t.field static int32 x\n",
      "\t.method private static hidebysig default void Main (string[] args)\n",
      "\t\tcil managed\n",
      "\t{\n",
      "\t\t.entrypoint\n",
      "\t\tldc.i4.1\n",
      "\t\tstsfld int32 MainClass::x\n",
      "\t\tret\n",
      "\t}\n",
      "}\n"
     ]
    }
   ],
   "source": [
    "test01()"
   ]
  },
  {
   "cell_type": "code",
   "execution_count": 4,
   "metadata": {
    "collapsed": false,
    "deletable": true,
    "editable": true
   },
   "outputs": [
    {
     "name": "stdout",
     "output_type": "stream",
     "text": [
      ".assembly extern mscorlib{}\n",
      ".assembly 'main'{}\n",
      "\n",
      "\n",
      ".class private auto ansi beforefieldinit MainClass\n",
      "\textends [mscorlib]System.Object\n",
      "{\n",
      "\t.field static int32 x\n",
      "\t.field static bool y\n",
      "\t.field static bool z\n",
      "\t.method private static hidebysig default void Main (string[] args)\n",
      "\t\tcil managed\n",
      "\t{\n",
      "\t\t.entrypoint\n",
      "\t\tldc.i4.1\n",
      "\t\tstsfld int32 MainClass::x\n",
      "\t\tret\n",
      "\t}\n",
      "}\n"
     ]
    }
   ],
   "source": [
    "# test02 consists mutiple gobal variable declarations\n",
    "def test02():\n",
    "    \"\"\"input & output\"\"\"\n",
    "    compileString(\"\"\"\n",
    "program p;\n",
    "  var x: integer;\n",
    "  var y: boolean;\n",
    "  var z: boolean;\n",
    "  begin\n",
    "    x:=1\n",
    "  end\n",
    "\"\"\")\n",
    "test02()"
   ]
  },
  {
   "cell_type": "code",
   "execution_count": 5,
   "metadata": {
    "collapsed": false
   },
   "outputs": [
    {
     "name": "stdout",
     "output_type": "stream",
     "text": [
      ".assembly extern mscorlib{}\n",
      ".assembly 'main'{}\n",
      "\n",
      "\n",
      ".class private auto ansi beforefieldinit MainClass\n",
      "\textends [mscorlib]System.Object\n",
      "{\n",
      "\t.field static int32 x\n",
      "\t.field static bool y\n",
      "\t.field static bool z\n",
      "\t.method private static hidebysig default void Main (string[] args)\n",
      "\t\tcil managed\n",
      "\t{\n",
      "\t\t.entrypoint\n",
      "\t\tldc.i4.1\n",
      "\t\tstsfld int32 MainClass::x\n",
      "\t\tldc.i4.1\n",
      "\t\tstsfld bool MainClass::y\n",
      "\t\tldc.i4.0\n",
      "\t\tstsfld bool MainClass::z\n",
      "\t\tret\n",
      "\t}\n",
      "}\n"
     ]
    }
   ],
   "source": [
    "# test03 consists multiple gobal variable declarations\n",
    "# and multiple assignment statements\n",
    "def test03():\n",
    "    \"\"\"input & output\"\"\"\n",
    "    compileString(\"\"\"\n",
    "program p;\n",
    "  var x: integer;\n",
    "  var y, z: boolean;\n",
    "  begin\n",
    "    x:=1;\n",
    "    y:=true;\n",
    "    z:=false\n",
    "  end\n",
    "\"\"\")\n",
    "test03()"
   ]
  },
  {
   "cell_type": "code",
   "execution_count": 6,
   "metadata": {
    "collapsed": false
   },
   "outputs": [
    {
     "name": "stdout",
     "output_type": "stream",
     "text": [
      ".assembly extern mscorlib{}\n",
      ".assembly 'main'{}\n",
      "\n",
      "\n",
      ".class private auto ansi beforefieldinit MainClass\n",
      "\textends [mscorlib]System.Object\n",
      "{\n",
      "\t.field static int32 x\n",
      "\t.field static int32 y\n",
      "\t.field static int32 z\n",
      "\t.method private static hidebysig default void Main (string[] args)\n",
      "\t\tcil managed\n",
      "\t{\n",
      "\t\t.entrypoint\n",
      "\t\tldc.i4.1\n",
      "\t\tstsfld int32 MainClass::x\n",
      "\t\tldc.i4.2\n",
      "\t\tstsfld int32 MainClass::y\n",
      "\t\tldsfld int32 MainClass::x\n",
      "\t\tldsfld int32 MainClass::y\n",
      "\t\tadd\n",
      "\t\tstsfld int32 MainClass::z\n",
      "\t\tret\n",
      "\t}\n",
      "}\n"
     ]
    }
   ],
   "source": [
    "# test04 consists simple add statement of two global variables\n",
    "def test04():\n",
    "    \"\"\"input & output\"\"\"\n",
    "    compileString(\"\"\"\n",
    "program p;\n",
    "  var x, y, z: integer;\n",
    "  begin\n",
    "    x:=1;\n",
    "    y:=2;\n",
    "    z:=x+y\n",
    "  end\n",
    "\"\"\")\n",
    "test04()"
   ]
  },
  {
   "cell_type": "code",
   "execution_count": 8,
   "metadata": {
    "collapsed": false
   },
   "outputs": [
    {
     "name": "stdout",
     "output_type": "stream",
     "text": [
      ".assembly extern mscorlib{}\n",
      ".assembly 'main'{}\n",
      "\n",
      "\n",
      ".class private auto ansi beforefieldinit MainClass\n",
      "\textends [mscorlib]System.Object\n",
      "{\n",
      "\t.field static int32 x\n",
      "\t.field static int32 y\n",
      "\t.field static int32 z\n",
      "\t.field static int32 a\n",
      "\t.field static int32 b\n",
      "\t.field static int32 c\n",
      "\t.method private static hidebysig default void Main (string[] args)\n",
      "\t\tcil managed\n",
      "\t{\n",
      "\t\t.entrypoint\n",
      "\t\tldc.i4.1\n",
      "\t\tstsfld int32 MainClass::x\n",
      "\t\tldc.i4.2\n",
      "\t\tstsfld int32 MainClass::y\n",
      "\t\tldsfld int32 MainClass::x\n",
      "\t\tldsfld int32 MainClass::y\n",
      "\t\tadd\n",
      "\t\tstsfld int32 MainClass::z\n",
      "\t\tldsfld int32 MainClass::z\n",
      "\t\tldsfld int32 MainClass::x\n",
      "\t\tsub\n",
      "\t\tstsfld int32 MainClass::a\n",
      "\t\tldsfld int32 MainClass::x\n",
      "\t\tldc.i4.3\n",
      "\t\tmul\n",
      "\t\tstsfld int32 MainClass::b\n",
      "\t\tldc.i4.2\n",
      "\t\tstsfld int32 MainClass::c\n",
      "\t\tldc.i4.8\n",
      "\t\tldsfld int32 MainClass::y\n",
      "\t\trem\n",
      "\t\tldc.i4.8\n",
      "\t\tstsfld int32 MainClass::c\n",
      "\t\tret\n",
      "\t}\n",
      "}\n"
     ]
    }
   ],
   "source": [
    "# test05 consists simple arithmetic statements\n",
    "def test05():\n",
    "    \"\"\"input & output\"\"\"\n",
    "    compileString(\"\"\"\n",
    "program p;\n",
    "  var x, y, z, a, b, c: integer;\n",
    "  begin\n",
    "    x:=1;\n",
    "    y:=2;\n",
    "    z:=x+y;\n",
    "    a:=z-x;\n",
    "    b:=x*3;\n",
    "    c:=5 div 2;\n",
    "    c:=8 mod y\n",
    "  end\n",
    "\"\"\")\n",
    "test05()"
   ]
  }
 ],
 "metadata": {
  "kernelspec": {
   "display_name": "Python 3",
   "language": "python",
   "name": "python3"
  },
  "language_info": {
   "codemirror_mode": {
    "name": "ipython",
    "version": 3
   },
   "file_extension": ".py",
   "mimetype": "text/x-python",
   "name": "python",
   "nbconvert_exporter": "python",
   "pygments_lexer": "ipython3",
   "version": "3.6.0"
  }
 },
 "nbformat": 4,
 "nbformat_minor": 2
}
