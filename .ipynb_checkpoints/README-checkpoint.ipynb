{
 "cells": [
  {
   "cell_type": "markdown",
   "metadata": {
    "deletable": true,
    "editable": true
   },
   "source": [
    "# Adding CLR as Target for P0\n",
    "### By **Simarpreet Singh (1216728)**\n",
    "\n",
    "#### Introduction\n",
    "I will be extending the P0 complier to convert pascal code into CIL. This project will allow me to have a better understanding of compliers. CLR (Common Language Runtime) is a program used by many Microsoft software products like .NET, it is used to convert CIL (Common Intermediate Language) to native code.  CIL is also stack-oriented language which gives it an advantage of being able to represent expressions. Being able to represent expressions in a trivial way is idea for a computer constructions. More over after talking to Mr. Sekerinski, I will also be extending P0 with external calls, so that I can make calls to the CLR library from with the P0 program itself, this will extend the usability of the P0 program. This a challenge I would face during the project. \n",
    "\n",
    "#### Milestone 1 (Date: March 18, 2017)\n",
    "\n",
    "As for the first milestone submission of the project I'm submitting conversion of only declaration and assignment statements. Conversion of Control structures and Procedures are planned features for the prototype. I still have to link the .NET with P0 so the that external .NET libaries are usable with it."
   ]
  },
  {
   "cell_type": "markdown",
   "metadata": {
    "deletable": true,
    "editable": true
   },
   "source": [
    "First we will be importing the complierString function from P0"
   ]
  },
  {
   "cell_type": "code",
   "execution_count": 1,
   "metadata": {
    "collapsed": false,
    "deletable": true,
    "editable": true
   },
   "outputs": [
    {
     "name": "stdout",
     "output_type": "stream",
     "text": [
      "importing Jupyter notebook from P0.ipynb\n",
      "importing Jupyter notebook from SC.ipynb\n"
     ]
    },
    {
     "data": {
      "text/html": [
       "<style>\n",
       "div.prompt {display:none}\n",
       "</style>"
      ],
      "text/plain": [
       "<IPython.core.display.HTML object>"
      ]
     },
     "metadata": {},
     "output_type": "display_data"
    },
    {
     "name": "stdout",
     "output_type": "stream",
     "text": [
      "importing Jupyter notebook from ST.ipynb\n"
     ]
    },
    {
     "data": {
      "text/html": [
       "<style>\n",
       "div.prompt {display:none}\n",
       "</style>"
      ],
      "text/plain": [
       "<IPython.core.display.HTML object>"
      ]
     },
     "metadata": {},
     "output_type": "display_data"
    }
   ],
   "source": [
    "import nbimporter\n",
    "from P0 import compileString"
   ]
  },
  {
   "cell_type": "markdown",
   "metadata": {
    "deletable": true,
    "editable": true
   },
   "source": [
    "Here we will be creating simple test case functions which use the P0's complieString function "
   ]
  },
  {
   "cell_type": "code",
   "execution_count": 2,
   "metadata": {
    "collapsed": true,
    "deletable": true,
    "editable": true
   },
   "outputs": [],
   "source": [
    "# test01 consists of a simple declaration\n",
    "# and assignment statement using variable x\n",
    "def test01():\n",
    "    \"\"\"input & output\"\"\"\n",
    "    compileString(\"\"\"\n",
    "program p;\n",
    "  var x: integer;\n",
    "  begin\n",
    "    x:=1\n",
    "  end\n",
    "\"\"\")"
   ]
  },
  {
   "cell_type": "code",
   "execution_count": 3,
   "metadata": {
    "collapsed": false,
    "deletable": true,
    "editable": true,
    "scrolled": false
   },
   "outputs": [
    {
     "name": "stdout",
     "output_type": "stream",
     "text": [
      "importing Jupyter notebook from CGclr.ipynb\n",
      ".assembly extern mscorlib{}\n",
      ".assembly 'main'{}\n",
      "\n",
      "\n",
      ".class private auto ansi beforefieldinit MainClass\n",
      "\textends [mscorlib]System.Object\n",
      "{\n",
      "\t.field static int32 x\n",
      "\t.method private static hidebysig default void Main (string[] args)\n",
      "\t\tcil managed\n",
      "\t{\n",
      "\t\t.entrypoint\n",
      "\t\tldc.i4.1\n",
      "\t\tstsfld int32 MainClass::x\n",
      "\t\tret\n",
      "\t}\n",
      "}\n"
     ]
    }
   ],
   "source": [
    "test01()\n",
    "\n",
    "\n",
    "# .assembly extern mscorlib{}\n",
    "# .assembly 'main'{}\n",
    "\n",
    "\n",
    "# .class private auto ansi beforefieldinit MainClass\n",
    "# \textends [mscorlib]System.Object\n",
    "# {\n",
    "# \t.field static int32 x\n",
    "# \t.method private static hidebysig default void Main (string[] args)\n",
    "# \t\tcil managed\n",
    "# \t{\n",
    "# \t\t.entrypoint\n",
    "# \t\tldc.i4.1\n",
    "# \t\tstsfld int32 MainClass::x\n",
    "# \t\tret\n",
    "# \t}\n",
    "# }"
   ]
  },
  {
   "cell_type": "code",
   "execution_count": 4,
   "metadata": {
    "collapsed": false,
    "deletable": true,
    "editable": true
   },
   "outputs": [
    {
     "name": "stdout",
     "output_type": "stream",
     "text": [
      ".assembly extern mscorlib{}\n",
      ".assembly 'main'{}\n",
      "\n",
      "\n",
      ".class private auto ansi beforefieldinit MainClass\n",
      "\textends [mscorlib]System.Object\n",
      "{\n",
      "\t.field static int32 x\n",
      "\t.field static bool y\n",
      "\t.field static bool z\n",
      "\t.method private static hidebysig default void Main (string[] args)\n",
      "\t\tcil managed\n",
      "\t{\n",
      "\t\t.entrypoint\n",
      "\t\tldc.i4.1\n",
      "\t\tstsfld int32 MainClass::x\n",
      "\t\tret\n",
      "\t}\n",
      "}\n"
     ]
    }
   ],
   "source": [
    "# test02 consists mutiple gobal variable declarations\n",
    "def test02():\n",
    "    \"\"\"input & output\"\"\"\n",
    "    compileString(\"\"\"\n",
    "program p;\n",
    "  var x: integer;\n",
    "  var y: boolean;\n",
    "  var z: boolean;\n",
    "  begin\n",
    "    x:=1\n",
    "  end\n",
    "\"\"\")\n",
    "test02()\n",
    "\n",
    "\n",
    "# .assembly extern mscorlib{}\n",
    "# .assembly 'main'{}\n",
    "\n",
    "\n",
    "# .class private auto ansi beforefieldinit MainClass\n",
    "# \textends [mscorlib]System.Object\n",
    "# {\n",
    "# \t.field static int32 x\n",
    "# \t.field static bool y\n",
    "# \t.field static bool z\n",
    "# \t.method private static hidebysig default void Main (string[] args)\n",
    "# \t\tcil managed\n",
    "# \t{\n",
    "# \t\t.entrypoint\n",
    "# \t\tldc.i4.1\n",
    "# \t\tstsfld int32 MainClass::x\n",
    "# \t\tret\n",
    "# \t}\n",
    "# }"
   ]
  },
  {
   "cell_type": "code",
   "execution_count": 5,
   "metadata": {
    "collapsed": false,
    "deletable": true,
    "editable": true,
    "scrolled": false
   },
   "outputs": [
    {
     "name": "stdout",
     "output_type": "stream",
     "text": [
      ".assembly extern mscorlib{}\n",
      ".assembly 'main'{}\n",
      "\n",
      "\n",
      ".class private auto ansi beforefieldinit MainClass\n",
      "\textends [mscorlib]System.Object\n",
      "{\n",
      "\t.field static int32 x\n",
      "\t.field static bool y\n",
      "\t.field static bool z\n",
      "\t.method private static hidebysig default void Main (string[] args)\n",
      "\t\tcil managed\n",
      "\t{\n",
      "\t\t.entrypoint\n",
      "\t\tldc.i4.1\n",
      "\t\tstsfld int32 MainClass::x\n",
      "\t\tldc.i4.1\n",
      "\t\tstsfld bool MainClass::y\n",
      "\t\tldc.i4.0\n",
      "\t\tstsfld bool MainClass::z\n",
      "\t\tret\n",
      "\t}\n",
      "}\n"
     ]
    }
   ],
   "source": [
    "# test03 consists multiple gobal variable declarations\n",
    "# and multiple assignment statements\n",
    "def test03():\n",
    "    \"\"\"input & output\"\"\"\n",
    "    compileString(\"\"\"\n",
    "program p;\n",
    "  var x: integer;\n",
    "  var y, z: boolean;\n",
    "  begin\n",
    "    x:=1;\n",
    "    y:=true;\n",
    "    z:=false\n",
    "  end\n",
    "\"\"\")\n",
    "test03()\n",
    "\n",
    "# .assembly extern mscorlib{}\n",
    "# .assembly 'main'{}\n",
    "\n",
    "\n",
    "# .class private auto ansi beforefieldinit MainClass\n",
    "# \textends [mscorlib]System.Object\n",
    "# {\n",
    "# \t.field static int32 x\n",
    "# \t.field static bool y\n",
    "# \t.field static bool z\n",
    "# \t.method private static hidebysig default void Main (string[] args)\n",
    "# \t\tcil managed\n",
    "# \t{\n",
    "# \t\t.entrypoint\n",
    "# \t\tldc.i4.1\n",
    "# \t\tstsfld int32 MainClass::x\n",
    "# \t\tldc.i4.1\n",
    "# \t\tstsfld bool MainClass::y\n",
    "# \t\tldc.i4.0\n",
    "# \t\tstsfld bool MainClass::z\n",
    "# \t\tret\n",
    "# \t}\n",
    "# }"
   ]
  },
  {
   "cell_type": "code",
   "execution_count": 6,
   "metadata": {
    "collapsed": false,
    "deletable": true,
    "editable": true
   },
   "outputs": [
    {
     "name": "stdout",
     "output_type": "stream",
     "text": [
      ".assembly extern mscorlib{}\n",
      ".assembly 'main'{}\n",
      "\n",
      "\n",
      ".class private auto ansi beforefieldinit MainClass\n",
      "\textends [mscorlib]System.Object\n",
      "{\n",
      "\t.field static int32 x\n",
      "\t.field static int32 y\n",
      "\t.field static int32 z\n",
      "\t.method private static hidebysig default void Main (string[] args)\n",
      "\t\tcil managed\n",
      "\t{\n",
      "\t\t.entrypoint\n",
      "\t\tldc.i4.1\n",
      "\t\tstsfld int32 MainClass::x\n",
      "\t\tldc.i4.2\n",
      "\t\tstsfld int32 MainClass::y\n",
      "\t\tldsfld int32 MainClass::x\n",
      "\t\tldsfld int32 MainClass::y\n",
      "\t\tadd\n",
      "\t\tstsfld int32 MainClass::z\n",
      "\t\tret\n",
      "\t}\n",
      "}\n"
     ]
    }
   ],
   "source": [
    "# test04 consists simple add statement of two global variables\n",
    "def test04():\n",
    "    \"\"\"input & output\"\"\"\n",
    "    compileString(\"\"\"\n",
    "program p;\n",
    "  var x, y, z: integer;\n",
    "  begin\n",
    "    x:=1;\n",
    "    y:=2;\n",
    "    z:=x+y\n",
    "  end\n",
    "\"\"\")\n",
    "test04()\n",
    "\n",
    "\n",
    "# .assembly extern mscorlib{}\n",
    "# .assembly 'main'{}\n",
    "\n",
    "\n",
    "# .class private auto ansi beforefieldinit MainClass\n",
    "# \textends [mscorlib]System.Object\n",
    "# {\n",
    "# \t.field static int32 x\n",
    "# \t.field static int32 y\n",
    "# \t.field static int32 z\n",
    "# \t.method private static hidebysig default void Main (string[] args)\n",
    "# \t\tcil managed\n",
    "# \t{\n",
    "# \t\t.entrypoint\n",
    "# \t\tldc.i4.1\n",
    "# \t\tstsfld int32 MainClass::x\n",
    "# \t\tldc.i4.2\n",
    "# \t\tstsfld int32 MainClass::y\n",
    "# \t\tldsfld int32 MainClass::x\n",
    "# \t\tldsfld int32 MainClass::y\n",
    "# \t\tadd\n",
    "# \t\tstsfld int32 MainClass::z\n",
    "# \t\tret\n",
    "# \t}\n",
    "# }"
   ]
  },
  {
   "cell_type": "code",
   "execution_count": 7,
   "metadata": {
    "collapsed": false,
    "deletable": true,
    "editable": true
   },
   "outputs": [
    {
     "name": "stdout",
     "output_type": "stream",
     "text": [
      ".assembly extern mscorlib{}\n",
      ".assembly 'main'{}\n",
      "\n",
      "\n",
      ".class private auto ansi beforefieldinit MainClass\n",
      "\textends [mscorlib]System.Object\n",
      "{\n",
      "\t.field static int32 x\n",
      "\t.field static int32 y\n",
      "\t.field static int32 z\n",
      "\t.field static int32 a\n",
      "\t.field static int32 b\n",
      "\t.field static int32 c\n",
      "\t.method private static hidebysig default void Main (string[] args)\n",
      "\t\tcil managed\n",
      "\t{\n",
      "\t\t.entrypoint\n",
      "\t\tldc.i4.1\n",
      "\t\tstsfld int32 MainClass::x\n",
      "\t\tldc.i4.2\n",
      "\t\tstsfld int32 MainClass::y\n",
      "\t\tldsfld int32 MainClass::x\n",
      "\t\tldsfld int32 MainClass::y\n",
      "\t\tadd\n",
      "\t\tstsfld int32 MainClass::z\n",
      "\t\tldsfld int32 MainClass::z\n",
      "\t\tldsfld int32 MainClass::x\n",
      "\t\tsub\n",
      "\t\tstsfld int32 MainClass::a\n",
      "\t\tldsfld int32 MainClass::x\n",
      "\t\tldc.i4.3\n",
      "\t\tmul\n",
      "\t\tstsfld int32 MainClass::b\n",
      "\t\tldc.i4.2\n",
      "\t\tstsfld int32 MainClass::c\n",
      "\t\tldc.i4.8\n",
      "\t\tldsfld int32 MainClass::y\n",
      "\t\trem\n",
      "\t\tstsfld int32 MainClass::c\n",
      "\t\tret\n",
      "\t}\n",
      "}\n"
     ]
    }
   ],
   "source": [
    "# test05 consists simple arithmetic statements\n",
    "def test05():\n",
    "    \"\"\"input & output\"\"\"\n",
    "    compileString(\"\"\"\n",
    "program p;\n",
    "  var x, y, z, a, b, c: integer;\n",
    "  begin\n",
    "    x:=1;\n",
    "    y:=2;\n",
    "    z:=x+y;\n",
    "    a:=z-x;\n",
    "    b:=x*3;\n",
    "    c:=5 div 2;\n",
    "    c:=8 mod y\n",
    "  end\n",
    "\"\"\")\n",
    "test05()\n",
    "\n",
    "# .assembly extern mscorlib{}\n",
    "# .assembly 'main'{}\n",
    "\n",
    "\n",
    "# .class private auto ansi beforefieldinit MainClass\n",
    "# \textends [mscorlib]System.Object\n",
    "# {\n",
    "# \t.field static int32 x\n",
    "# \t.field static int32 y\n",
    "# \t.field static int32 z\n",
    "# \t.field static int32 a\n",
    "# \t.field static int32 b\n",
    "# \t.field static int32 c\n",
    "# \t.method private static hidebysig default void Main (string[] args)\n",
    "# \t\tcil managed\n",
    "# \t{\n",
    "# \t\t.entrypoint\n",
    "# \t\tldc.i4.1\n",
    "# \t\tstsfld int32 MainClass::x\n",
    "# \t\tldc.i4.2\n",
    "# \t\tstsfld int32 MainClass::y\n",
    "# \t\tldsfld int32 MainClass::x\n",
    "# \t\tldsfld int32 MainClass::y\n",
    "# \t\tadd\n",
    "# \t\tstsfld int32 MainClass::z\n",
    "# \t\tldsfld int32 MainClass::z\n",
    "# \t\tldsfld int32 MainClass::x\n",
    "# \t\tsub\n",
    "# \t\tstsfld int32 MainClass::a\n",
    "# \t\tldsfld int32 MainClass::x\n",
    "# \t\tldc.i4.3\n",
    "# \t\tmul\n",
    "# \t\tstsfld int32 MainClass::b\n",
    "# \t\tldc.i4.2\n",
    "# \t\tstsfld int32 MainClass::c\n",
    "# \t\tldc.i4.8\n",
    "# \t\tldsfld int32 MainClass::y\n",
    "# \t\trem\n",
    "# \t\tldc.i4.8\n",
    "# \t\tstsfld int32 MainClass::c\n",
    "# \t\tret\n",
    "# \t}\n",
    "# }"
   ]
  },
  {
   "cell_type": "code",
   "execution_count": 8,
   "metadata": {
    "collapsed": false,
    "deletable": true,
    "editable": true,
    "scrolled": false
   },
   "outputs": [
    {
     "name": "stdout",
     "output_type": "stream",
     "text": [
      ".assembly extern mscorlib{}\n",
      ".assembly 'main'{}\n",
      "\n",
      "\n",
      ".class private auto ansi beforefieldinit MainClass\n",
      "\textends [mscorlib]System.Object\n",
      "{\n",
      "\t.field static int32 x\n",
      "\t.method private static hidebysig default void Main (string[] args)\n",
      "\t\tcil managed\n",
      "\t{\n",
      "\t\t.entrypoint\n",
      "\t\tcall string class [mscorlib]System.Console::ReadLine()\n",
      "\t\tcall int32 class [mscorlib]System.Convert::ToInt32(string)\n",
      "\t\tstsfld int32 MainClass::x\n",
      "\t\tldsfld int32 MainClass::x\n",
      "\t\tldc.i4.3\n",
      "\t\tmul\n",
      "\t\tstsfld int32 MainClass::x\n",
      "\t\tldsfld int32 MainClass::x\n",
      "\t\tcall void class [mscorlib]System.Console::Write(int32)\n",
      "\t\tcall void class [mscorlib]System.Console::WriteLine()\n",
      "\t\tcall void class [mscorlib]System.Console::WriteLine()\n",
      "\t\tldsfld int32 MainClass::x\n",
      "\t\tldc.i4.s 0x9\n",
      "\t\tmul\n",
      "\t\tcall void class [mscorlib]System.Console::Write(int32)\n",
      "\t\tret\n",
      "\t}\n",
      "}\n"
     ]
    }
   ],
   "source": [
    "# test06\n",
    "def test06():\n",
    "    compileString(\"\"\"\n",
    "    program p;\n",
    "      var x: integer;\n",
    "      begin read(x);\n",
    "        x := x * 3;\n",
    "        write(x);\n",
    "        writeln();\n",
    "        writeln();\n",
    "        write(x * 9)\n",
    "      end\n",
    "    \"\"\")\n",
    "test06()\n",
    "\n",
    "# .assembly extern mscorlib{}\n",
    "# .assembly 'main'{}\n",
    "\n",
    "\n",
    "# .class private auto ansi beforefieldinit MainClass\n",
    "# \textends [mscorlib]System.Object\n",
    "# {\n",
    "# \t.field static int32 x\n",
    "# \t.method private static hidebysig default void Main (string[] args)\n",
    "# \t\tcil managed\n",
    "# \t{\n",
    "# \t\t.entrypoint\n",
    "# \t\t.locals init (int32 V_0)\n",
    "# \t\tcall string class [mscorlib]System.Console::ReadLine()\n",
    "# \t\tcall int32 class [mscorlib]System.Convert::ToInt32(string)\n",
    "# \t\tstsfld int32 MainClass::x\n",
    "# \t\tldsfld int32 MainClass::x\n",
    "# \t\tldc.i4.3\n",
    "# \t\tmul\n",
    "# \t\tstsfld int32 MainClass::x\n",
    "# \t\tldsfld int32 MainClass::x\n",
    "# \t\tcall void class [mscorlib]System.Console::Write(int32)\n",
    "# \t\tcall void class [mscorlib]System.Console::WriteLine()\n",
    "# \t\tcall void class [mscorlib]System.Console::WriteLine()\n",
    "# \t\tldsfld int32 MainClass::x\n",
    "# \t\tldc.i4.5\n",
    "# \t\tmul\n",
    "# \t\tcall void class [mscorlib]System.Console::Write(int32)\n",
    "# \t\tret\n",
    "# \t}\n",
    "# }"
   ]
  },
  {
   "cell_type": "code",
   "execution_count": 9,
   "metadata": {
    "collapsed": false,
    "deletable": true,
    "editable": true,
    "scrolled": false
   },
   "outputs": [
    {
     "name": "stdout",
     "output_type": "stream",
     "text": [
      "('q', [('p', [], [<ST.Ref object at 0x104994160>], [], ['ldc.i4.0', 'ldc.i4.1', 'add', 'starg.s 0'])], [<ST.Ref object at 0x104994400>, <ST.Ref object at 0x104994198>], [<ST.Var object at 0x1049940b8>, <ST.Var object at 0x1049940f0>], ['ldc.i4.1', 'starg.s 0', 'ldc.i4.4', 'stloc.0'])\n",
      "('p', [], [<ST.Ref object at 0x104994160>], [], ['ldc.i4.0', 'ldc.i4.1', 'add', 'starg.s 0'])\n",
      ".assembly extern mscorlib{}\n",
      ".assembly 'main'{}\n",
      "\n",
      "\n",
      ".class private auto ansi beforefieldinit MainClass\n",
      "\textends [mscorlib]System.Object\n",
      "{\n",
      "\t.field static bool b\n",
      "\t.field static int32 i\n",
      "\t\n",
      "\n",
      "\t.class nested private auto ansi beforefieldinit q\n",
      "\t\textends [mscorlib]System.Object\n",
      "\t{\n",
      "\t\t.method public static hidebysig\n",
      "\t\t\tdefault void main_proc (bool z, bool d)  cil managed\n",
      "\t\t{\n",
      "\t\t\t.locals init (\n",
      "\t\t\t\tint32 V_0,\n",
      "\t\t\t\tbool V_1)\n",
      "\t\t\tldc.i4.1\n",
      "\t\t\tstarg.s 0\n",
      "\t\t\tldc.i4.4\n",
      "\t\t\tstloc.0\n",
      "\t\t\tret\n",
      "\t\t}\n",
      "\t\t\n",
      "\n",
      "\t\t.class nested private auto ansi beforefieldinit p\n",
      "\t\t\textends [mscorlib]System.Object\n",
      "\t\t{\n",
      "\t\t\t.method public static hidebysig\n",
      "\t\t\t\tdefault void main_proc (int32 x)  cil managed\n",
      "\t\t\t{\n",
      "\t\t\t\tldc.i4.0\n",
      "\t\t\t\tldc.i4.1\n",
      "\t\t\t\tadd\n",
      "\t\t\t\tstarg.s 0\n",
      "\t\t\t\tret\n",
      "\t\t\t}\n",
      "\t\t}\n",
      "\t\t\n",
      "\n",
      "\t}\n",
      "\t\n",
      "\n",
      "\t.method private static hidebysig default void Main (string[] args)\n",
      "\t\tcil managed\n",
      "\t{\n",
      "\t\t.entrypoint\n",
      "\t\tret\n",
      "\t}\n",
      "}\n"
     ]
    }
   ],
   "source": [
    "def test07():\n",
    "    compileString(\"\"\"\n",
    "program p;\n",
    "  var b: boolean;\n",
    "  var i: integer;\n",
    "  procedure q(var z, d: boolean);\n",
    "    var y: integer;\n",
    "    procedure p(var x: integer);\n",
    "      begin b := false; x := x + 1\n",
    "      end;\n",
    "    begin z := true; y := 4; p(i)\n",
    "    end;\n",
    "  begin q(b, b)\n",
    "  end\n",
    "\"\"\")\n",
    "test07()"
   ]
  }
 ],
 "metadata": {
  "kernelspec": {
   "display_name": "Python 3",
   "language": "python",
   "name": "python3"
  },
  "language_info": {
   "codemirror_mode": {
    "name": "ipython",
    "version": 3
   },
   "file_extension": ".py",
   "mimetype": "text/x-python",
   "name": "python",
   "nbconvert_exporter": "python",
   "pygments_lexer": "ipython3",
   "version": "3.6.0"
  }
 },
 "nbformat": 4,
 "nbformat_minor": 2
}
