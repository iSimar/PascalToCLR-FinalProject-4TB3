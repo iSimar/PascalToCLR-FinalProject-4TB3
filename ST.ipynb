{
 "cells": [
  {
   "cell_type": "markdown",
   "metadata": {},
   "source": [
    "## P0 Symbol Table\n",
    "#### Original Author: Emil Sekerinski, February 2017\n",
    "Declarations of the source program are entered into the symbol table as the source program is parsed. The symbol detects multiple definitions or missing definitions and reports those by calling procedure `mark(msg)` of the scanner.\n",
    "- classes `Var`, `Ref`, `Const`, `Type`, `Proc`, `StdProc` are for the symbol table entires\n",
    "- classes `Int`, `Bool`, `Record`, `Array` are for the types of symbol table entries\n",
    "- procedures `Init()`, `newDecl(name, entry)`, `find(name)`, `openScope()`, `topScope()`, `closeScope()` are the operations of the symbol table\n",
    "- procedure `printSymTab()` visualizes the symbol table in a readable textual form with indentation."
   ]
  },
  {
   "cell_type": "code",
   "execution_count": 2,
   "metadata": {
    "collapsed": false
   },
   "outputs": [],
   "source": [
    "import nbimporter, textwrap\n",
    "from SC import mark\n",
    "\n",
    "def indent(n):\n",
    "    return textwrap.indent(str(n), '  ')"
   ]
  },
  {
   "cell_type": "markdown",
   "metadata": {},
   "source": [
    "Symbol table entries are objects of following classes:\n",
    "- `Var` for global variables, local variables, and value parameters (must be `Int` or `Bool`)\n",
    "- `Ref` for reference parameters (of any type)\n",
    "- `Const` for constants of types `Int` or `Bool`\n",
    "- `Type` for named or anonymous types\n",
    "- `Proc` for declared procedures\n",
    "- `StdProc` for one of `write`, `writeln`, `read`\n",
    "\n",
    "All entries have a field `tp` for the type, which can be `None`."
   ]
  },
  {
   "cell_type": "code",
   "execution_count": 2,
   "metadata": {
    "collapsed": true
   },
   "outputs": [],
   "source": [
    "class Var:\n",
    "    def __init__(self, tp):\n",
    "        self.tp = tp\n",
    "    def __str__(self):\n",
    "        return 'var ' + str(getattr(self, 'name', '')) + ' lev ' + \\\n",
    "               str(getattr(self, 'lev', '')) + ':\\n' + indent(self.tp)\n",
    "\n",
    "class Ref:\n",
    "    def __init__(self, tp):\n",
    "        self.tp = tp\n",
    "    def __str__(self):\n",
    "        return 'ref ' + str(getattr(self, 'name', '')) + ' lev ' + \\\n",
    "               str(getattr(self, 'lev', '')) + ': ' + str(self.tp)\n",
    "\n",
    "class Const:\n",
    "    def __init__(self, tp, val):\n",
    "        self.tp, self.val = tp, val\n",
    "    def __str__(self):\n",
    "        return 'const ' + str(getattr(self, 'name', '')) + ': ' + \\\n",
    "               str(self.tp) + ' = ' + str(self.val)\n",
    "\n",
    "class Type:\n",
    "    def __init__(self, tp):\n",
    "        self.tp, self.val = None, tp\n",
    "    def __str__(self):\n",
    "        return 'type ' + str(getattr(self, 'name', '')) + indent(self.val)\n",
    "\n",
    "class Proc:\n",
    "    def __init__(self, par):\n",
    "        self.tp, self.par = None, par\n",
    "    def __str__(self):\n",
    "        return 'proc ' + self.name + ' lev ' + str(self.lev) + \\\n",
    "               '(' + str([str(s) for s in self.par]) + ')'\n",
    "\n",
    "class StdProc:\n",
    "    def __init__(self, par):\n",
    "        self.tp, self.par = None, par\n",
    "    def __str__(self):\n",
    "        return 'stdproc ' + self.name + ' lev ' + str(self.lev) + ' par\\n' + \\\n",
    "               indent([str(s) for s in self.par])"
   ]
  },
  {
   "cell_type": "markdown",
   "metadata": {},
   "source": [
    "- the P0 types `integer` and `boolean` are represented by the classes `Int` and `Bool`; no objects of `Int` or `Bool` are created\n",
    "- record and array types in P0 are represented by objects of class `Record` and `Array`; for records, a list of fields is kept, for arrays, the base type, the lower bound, and the length of the array is kept."
   ]
  },
  {
   "cell_type": "code",
   "execution_count": 3,
   "metadata": {
    "collapsed": true
   },
   "outputs": [],
   "source": [
    "class Int: pass\n",
    "\n",
    "class Bool: pass\n",
    "\n",
    "class Enum: pass # for adding enumeration types\n",
    "\n",
    "class Record:\n",
    "    def __init__(self, fields):\n",
    "        self.fields = fields\n",
    "    def __str__(self):\n",
    "        return 'record\\n' + \\\n",
    "               indent('\\n'.join(str(f) for f in self.fields))\n",
    "\n",
    "class Array:\n",
    "    def __init__(self, base, lower, length):\n",
    "        self.base, self.lower, self.length = base, lower, length\n",
    "    def __str__(self):\n",
    "        return 'array lower ' + str(self.lower) + ' length ' + \\\n",
    "               str(self.length) + ' base\\n' + indent(self.base)"
   ]
  },
  {
   "cell_type": "markdown",
   "metadata": {},
   "source": [
    "The symbol table is represented by a list of scopes. Each scope is a list of entries. Each entry has a name, which is assumed to be a string, and the level at which it is declared; the entries on the outermost scope are on level 0 and the level increases with each inner scope."
   ]
  },
  {
   "cell_type": "code",
   "execution_count": 4,
   "metadata": {
    "collapsed": true
   },
   "outputs": [],
   "source": [
    "def init():\n",
    "    global symTab\n",
    "    symTab = [[]]\n",
    "\n",
    "def printSymTab():\n",
    "    for l in symTab:\n",
    "        for e in l: print(e)\n",
    "        print()\n",
    "\n",
    "def newDecl(name, entry):\n",
    "    top, entry.lev, entry.name = symTab[0], len(symTab) - 1, name\n",
    "    for e in top:\n",
    "        if e.name == name:\n",
    "            mark(\"multiple definition\"); return\n",
    "    top.append(entry)\n",
    "\n",
    "def find(name):\n",
    "    for l in symTab:\n",
    "        for e in l:\n",
    "            if name == e.name: return e\n",
    "    mark('undefined identifier ' + name)\n",
    "    return Const(None, 0)\n",
    "\n",
    "def openScope():\n",
    "    symTab.insert(0, [])\n",
    "\n",
    "def topScope():\n",
    "    return symTab[0]\n",
    "\n",
    "def closeScope():\n",
    "    symTab.pop(0)"
   ]
  }
 ],
 "metadata": {
  "kernelspec": {
   "display_name": "Python 3",
   "language": "python",
   "name": "python3"
  },
  "language_info": {
   "codemirror_mode": {
    "name": "ipython",
    "version": 3
   },
   "file_extension": ".py",
   "mimetype": "text/x-python",
   "name": "python",
   "nbconvert_exporter": "python",
   "pygments_lexer": "ipython3",
   "version": "3.6.0"
  }
 },
 "nbformat": 4,
 "nbformat_minor": 2
}
