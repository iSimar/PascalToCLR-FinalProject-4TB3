{
 "cells": [
  {
   "cell_type": "markdown",
   "metadata": {
    "deletable": true,
    "editable": true,
    "hidePrompt": true
   },
   "source": [
    "## The P0 Compiler\n",
    "#### COMP SCI 4TB3/6TB3, McMaster University\n",
    "#### Original Author: Emil Sekerinski, February 2017\n",
    "\n",
    "This collection of _jupyter notebooks_ develops a compiler for P0, a subset of Pascal. The compiler generates MIPS code, but is modularized to facilitate other targets. Pascal is a language that was designed with ease of compilation in mind; the MIPS architecture is representative of Reduced Instruction Set Computing (RISC) processors.\n",
    "\n",
    "### The P0 Language\n",
    "The main syntactic elements of P0 are _statements_, _declarations_, _types_, and _expressions_.\n",
    "\n",
    "#### Statements\n",
    "* _Assignment statement_ (`x` variable identifer, `f` field identifier, `i`, `e` expressions):\n",
    "      x := e\n",
    "      x.f := e\n",
    "      x[i] := e\n",
    "* _Procedure call_ (`p` procedure identifier, `e₁`, `e₂`, … expressions):\n",
    "      p(e₁, e₂, …)\n",
    "* _Compound statement_ (`S₁`, `S₂`, … statements):\n",
    "      begin S₁; S₂; … end\n",
    "* _If-statements_ (`c` Boolean expression, `S`, `T` statements):\n",
    "\t  if c then S\n",
    "      if c then S else T\n",
    "* _While-statements_ (`c` Boolean expression, `S` statement):\n",
    "      while c do S\n",
    "\n",
    "#### Declarations\n",
    "* _Constant Declaration_ (`c` constant identifier, `e` constant expression):\n",
    "      const c =  e;\n",
    "* _Type Declaration_ (`t` type identifier, `T` type):\n",
    "      type t = T;\n",
    "* _Variable Declaration_ (`x₁`, `x₂`, … variable identifiers, `T` type):\n",
    "      var x₁, x₂, …: T;\n",
    "* _Procedure Declaration_ (`p` procedure identifier, `v₁`, `v₂`, …, `r₁`, `r₂`, … variable identifiers, `T₁`, `T₂`, … types, `D₁`, `D₂`, … declarations, `S₁`, `S₂`, … statements):\n",
    "      procedure p (v₁, v₂, …:T₁; var r₁, r₂, …: T₂; …)\n",
    "        D₁, D₂, …\n",
    "        begin S₁, S₂; … end;\n",
    "\n",
    "#### Types\n",
    "* _Elementary Types:_\n",
    "      integer, boolean\n",
    "* _Arrays (`m`, `n` expressions, `T` type):\n",
    "      array [m .. n] of T\n",
    "* _Records (`f₁`, `f₂`, `g₁`, `g₂`, … identifiers, `T`, `U`, … types):\n",
    "\t  record f₁, f₂, … : T; g₁, g₂, … : U; … end\n",
    "\n",
    "#### Expressions:\n",
    "* _Constants:_\n",
    "\t  number, identifier\n",
    "* _Selectors_ (`x`, `f` identifiers, `i` expression):\n",
    "\t  x[i], x.f\n",
    "* _Operators,_ in order of their binding power (e, e₁, e₂ are expressions):\n",
    "\t  (e), not e\n",
    "      e₁ * e₂, e₁ div e₂, e₁ mod e₂, e₁ and e₂\n",
    "      + e, – e, e₁ + e₂, e₁ – e₂, e₁ or e₂\n",
    "      e₁ = e₂, e₁ <> e₂, e₁ < e₂, e₁ <= e₂, e₁ > e₂, e₁ >= e₂\n",
    "\n",
    "Types `integer` and `boolean` and procedures `read`, `write`, `writeln` are not symbols of the grammar; they are _standard identifiers_ (_predefined identifiers_)."
   ]
  },
  {
   "cell_type": "markdown",
   "metadata": {
    "deletable": true,
    "editable": true
   },
   "source": [
    "### P0 Examples\n",
    "\n",
    "```\n",
    "program arithmetic;\n",
    "  var x, y, q, r: integer;\n",
    "  procedure QuotRem(x, y: integer; var q, r: integer);\n",
    "    begin q := 0; r := x;\n",
    "      while r >= y do { q*y+r=x and r>=y }\n",
    "        begin r := r - y; q := q + 1\n",
    "        end\n",
    "    end;\n",
    "  begin\n",
    "    read(x); read(y);\n",
    "    QuotRem(x, y, q, r);\n",
    "    write(q); write(r); writeln\n",
    "  end.\n",
    "```\n",
    "\n",
    "```\n",
    "program factorial;\n",
    "  var y, z: integer;\n",
    "  procedure fact(n: integer; var f: integer);\n",
    "    begin\n",
    "      if n = 0 then f := 1\n",
    "      else\n",
    "        begin fact(n - 1, f); f := f * n end\n",
    "    end;\n",
    "  begin\n",
    "    read(y);\n",
    "    fact(y, z);\n",
    "    write(z)\n",
    "  end.\n",
    "```"
   ]
  },
  {
   "cell_type": "markdown",
   "metadata": {
    "deletable": true,
    "editable": true
   },
   "source": [
    "### The P0 Grammar\n",
    "\n",
    "    selector ::= {\".\" ident | \"[\" expression \"]\"}.\n",
    "    factor ::= ident selector | integer | \"(\" expression \")\" | \"not\" factor.\n",
    "    term ::= factor {(\"*\" | \"div\" | \"mod\" | \"and\") factor}.\n",
    "    simpleExpression ::= [\"+\" | \"-\"] term {(\"+\" | \"-\" | \"or\") term}.\n",
    "    expression ::= simpleExpression\n",
    "        {(\"=\" | \"<>\" | \"<\" | \"<=\" | \">\" | \">=\") simpleExpression}.\n",
    "    compoundStatement = \"begin\" statement {\";\" statement} \"end\"\n",
    "    statement ::=\n",
    "        ident selector \":=\" expression |\n",
    "        ident \"(\" [expression {\",\" expression}] \")\" |\n",
    "        compoundStatement |\n",
    "        \"if\" expression \"then\" statement [\"else\"statement] |\n",
    "        \"while\" expression \"do\" statement.\n",
    "    type ::=\n",
    "        ident |\n",
    "        \"array\" \"[\" expression \"..\" expression \"]\" \"of\" type |\n",
    "        \"record\" typedIds {\";\" typedIds} \"end\".\n",
    "    typedIds ::= ident {\",\" ident} \":\" type.\n",
    "    declarations ::=\n",
    "        {\"const\" ident \"=\" expression \";\"}\n",
    "        {\"type\" ident \"=\" type \";\"}\n",
    "        {\"var\" typedIds \";\"}\n",
    "        {\"procedure\" ident [\"(\" [[\"var\"] typedIds {\";\" [\"var\"] typedIds}] \")\"] \";\"\n",
    "            declarations compoundStatement \";\"}.\n",
    "    program ::= \"program\" ident \";\" declarations compoundStatement.\n"
   ]
  },
  {
   "cell_type": "markdown",
   "metadata": {
    "deletable": true,
    "editable": true,
    "hidePrompt": true
   },
   "source": [
    "### Modularization\n",
    "<div><span style=\"float:right\"><img width=\"60%\" src=\"modularization.svg\"/></span></div>\n",
    "- The parser, `P0`, parses the source text, type-checks it, evaluates constant expressions, and generates target code, in one pass over the source text.\n",
    "- The scanner, `SC`, reads characters of the source text and provides the next symbol to the parser; it allows errors to be reported at the current position in the source text.\n",
    "- The symbol table, `ST`, stores all currently valid declarations, as needed for type-checking.\n",
    "- The code generator, `CG`, provides the parser with procedures for generating code for P0 expressions, statements, and variable declarations, and procedure declarations.\n",
    "\n",
    "The parser is the main program that calls the scanner, symbol table, and code generator. All call the scanner for error reporting. The code generator augments the entries in the the symbol table, for example with the size and location of variables. There are two code generators: `CGmips` generates MIPS code and `CGast` generates only an abstract syntax tree."
   ]
  },
  {
   "cell_type": "markdown",
   "metadata": {
    "deletable": true,
    "editable": true
   },
   "source": [
    "### The Parser\n",
    "The scanner and symbol table are always imported. Depending on the selected target, a different code generator is imported when compilation starts."
   ]
  },
  {
   "cell_type": "code",
   "execution_count": 1,
   "metadata": {
    "collapsed": false,
    "deletable": true,
    "editable": true
   },
   "outputs": [
    {
     "name": "stdout",
     "output_type": "stream",
     "text": [
      "importing Jupyter notebook from SC.ipynb\n"
     ]
    },
    {
     "data": {
      "text/html": [
       "<style>\n",
       "div.prompt {display:none}\n",
       "</style>"
      ],
      "text/plain": [
       "<IPython.core.display.HTML object>"
      ]
     },
     "metadata": {},
     "output_type": "display_data"
    },
    {
     "name": "stdout",
     "output_type": "stream",
     "text": [
      "importing Jupyter notebook from ST.ipynb\n"
     ]
    }
   ],
   "source": [
    "import nbimporter\n",
    "import SC  #  used for SC.init, SC.sym, SC.val, SC.error\n",
    "from SC import TIMES, DIV, MOD, AND, PLUS, MINUS, OR, EQ, NE, LT, GT, \\\n",
    "    LE, GE, PERIOD, COMMA, COLON, RPAREN, RBRAK, OF, THEN, DO, LPAREN, \\\n",
    "    LBRAK, NOT, BECOMES, NUMBER, IDENT, SEMICOLON, END, ELSE, IF, WHILE, \\\n",
    "    ARRAY, RECORD, CONST, TYPE, VAR, PROCEDURE, BEGIN, PROGRAM, EOF, \\\n",
    "    getSym, mark\n",
    "import ST  #  used for ST.init\n",
    "from ST import Var, Ref, Const, Type, Proc, StdProc, Int, Bool, Enum, \\\n",
    "    Record, Array, newDecl, find, openScope, topScope, closeScope"
   ]
  },
  {
   "cell_type": "markdown",
   "metadata": {
    "deletable": true,
    "editable": true
   },
   "source": [
    "The first and follow sets for recursive descent parsing."
   ]
  },
  {
   "cell_type": "code",
   "execution_count": 2,
   "metadata": {
    "collapsed": true,
    "deletable": true,
    "editable": true
   },
   "outputs": [],
   "source": [
    "FIRSTFACTOR = {IDENT, NUMBER, LPAREN, NOT}\n",
    "FOLLOWFACTOR = {TIMES, DIV, MOD, AND, OR, PLUS, MINUS, EQ, NE, LT, LE, GT, GE,\n",
    "                COMMA, SEMICOLON, THEN, ELSE, RPAREN, RBRAK, DO, PERIOD, END}\n",
    "FIRSTEXPRESSION = {PLUS, MINUS, IDENT, NUMBER, LPAREN, NOT}\n",
    "FIRSTSTATEMENT = {IDENT, IF, WHILE, BEGIN}\n",
    "FOLLOWSTATEMENT = {SEMICOLON, END, ELSE}\n",
    "FIRSTTYPE = {IDENT, RECORD, ARRAY, LPAREN}\n",
    "FOLLOWTYPE = {SEMICOLON}\n",
    "FIRSTDECL = {CONST, TYPE, VAR, PROCEDURE}\n",
    "FOLLOWDECL = {BEGIN}\n",
    "FOLLOWPROCCALL = {SEMICOLON, END, ELSE}\n",
    "STRONGSYMS = {CONST, TYPE, VAR, PROCEDURE, WHILE, IF, BEGIN, EOF}"
   ]
  },
  {
   "cell_type": "markdown",
   "metadata": {
    "deletable": true,
    "editable": true
   },
   "source": [
    "Procedure `selector(x)` parses\n",
    "\n",
    "    selector ::= {\".\" ident | \"[\" expression \"]\"}.\n",
    "\n",
    "Assuming `x` is the entry for the identifier in front of the selector, generates code for the selector or reports error."
   ]
  },
  {
   "cell_type": "code",
   "execution_count": 3,
   "metadata": {
    "collapsed": true,
    "deletable": true,
    "editable": true
   },
   "outputs": [],
   "source": [
    "def selector(x):\n",
    "    while SC.sym in {PERIOD, LBRAK}:\n",
    "        if SC.sym == PERIOD:  #  x.f\n",
    "            getSym()\n",
    "            if SC.sym == IDENT:\n",
    "                if type(x.tp) == Record:\n",
    "                    for f in x.tp.fields:\n",
    "                        if f.name == SC.val:\n",
    "                            x = CG.genSelect(x, f); break\n",
    "                    else: mark(\"not a field\")\n",
    "                    getSym()\n",
    "                else: mark(\"not a record\")\n",
    "            else: mark(\"identifier expected\")\n",
    "        else:  #  x[y]\n",
    "            getSym(); y = expression()\n",
    "            if type(x.tp) == Array:\n",
    "                if y.tp == Int:\n",
    "                    if type(y) == Const and \\\n",
    "                       (y.val < x.tp.lower or y.val >= x.tp.lower + x.tp.length):\n",
    "                        mark('index out of bounds')\n",
    "                    else: x = CG.genIndex(x, y)\n",
    "                else: mark('index not integer')\n",
    "            else: mark('not an array')\n",
    "            if SC.sym == RBRAK: getSym()\n",
    "            else: mark(\"] expected\")\n",
    "    return x"
   ]
  },
  {
   "cell_type": "markdown",
   "metadata": {
    "deletable": true,
    "editable": true
   },
   "source": [
    "Procedure `factor()` parses\n",
    "\n",
    "    factor ::= ident selector | integer | \"(\" expression \")\" | \"not\" factor.\n",
    "\n",
    "and generates code for the factor if no error is reported. If the factor is a constant, a `Const` item is returned (and code may not need to be generated); if the factor is not a constant, the location of the result is returned as determined by the code generator. "
   ]
  },
  {
   "cell_type": "code",
   "execution_count": 4,
   "metadata": {
    "collapsed": true,
    "deletable": true,
    "editable": true
   },
   "outputs": [],
   "source": [
    "def factor():\n",
    "    if SC.sym not in FIRSTFACTOR:\n",
    "        mark(\"expression expected\"); getSym()\n",
    "        while SC.sym not in FIRSTFACTOR | STRONGSYMS | FOLLOWFACTOR:\n",
    "            getSym()\n",
    "    if SC.sym == IDENT:\n",
    "        x = find(SC.val)\n",
    "        if type(x) in {Var, Ref}: x = CG.genVar(x)\n",
    "        elif type(x) == Const: x = Const(x.tp, x.val); x = CG.genConst(x)\n",
    "        else: mark('expression expected')\n",
    "        getSym(); x = selector(x)\n",
    "    elif SC.sym == NUMBER:\n",
    "        x = Const(Int, SC.val); x = CG.genConst(x); getSym()\n",
    "    elif SC.sym == LPAREN:\n",
    "        getSym(); x = expression()\n",
    "        if SC.sym == RPAREN: getSym()\n",
    "        else: mark(\") expected\")\n",
    "    elif SC.sym == NOT:\n",
    "        getSym(); x = factor()\n",
    "        if x.tp != Bool: mark('not boolean')\n",
    "        elif type(x) == Const: x.val = 1 - x.val # constant folding\n",
    "        else: x = CG.genUnaryOp(NOT, x)\n",
    "    else: x = Const(None, 0)\n",
    "    return x"
   ]
  },
  {
   "cell_type": "markdown",
   "metadata": {
    "deletable": true,
    "editable": true
   },
   "source": [
    "Procedure `term()` parses\n",
    "\n",
    "    term ::= factor {(\"*\" | \"div\" | \"mod\" | \"and\") factor}.\n",
    "\n",
    "and generates code for the term if no error is reported. If the term is a constant, a `Const` item is returned (and code may not need to be generated); if the term is not a constant, the location of the result is returned as determined by the code generator. "
   ]
  },
  {
   "cell_type": "code",
   "execution_count": 5,
   "metadata": {
    "collapsed": true,
    "deletable": true,
    "editable": true
   },
   "outputs": [],
   "source": [
    "def term():\n",
    "    x = factor()\n",
    "    while SC.sym in {TIMES, DIV, MOD, AND}:\n",
    "        op = SC.sym; getSym();\n",
    "        if op == AND and type(x) != Const: x = CG.genUnaryOp(AND, x)\n",
    "        y = factor() # x op y\n",
    "        if x.tp == Int == y.tp and op in {TIMES, DIV, MOD}:\n",
    "            if type(x) == Const == type(y): # constant folding\n",
    "                if op == TIMES: x.val = x.val * y.val\n",
    "                elif op == DIV: x.val = x.val // y.val\n",
    "                elif op == MOD: x.val = x.val % y.val\n",
    "            else: x = CG.genBinaryOp(op, x, y)\n",
    "        elif x.tp == Bool == y.tp and op == AND:\n",
    "            if type(x) == Const: # constant folding\n",
    "                if x.val: x = y # if x is true, take y, else x\n",
    "            else: x = CG.genBinaryOp(AND, x, y)\n",
    "        else: mark('bad type')\n",
    "    return x"
   ]
  },
  {
   "cell_type": "markdown",
   "metadata": {
    "deletable": true,
    "editable": true
   },
   "source": [
    "Procedure `simpleExpression()` parses\n",
    "\n",
    "    simpleExpression ::= [\"+\" | \"-\"] term {(\"+\" | \"-\" | \"or\") term}.\n",
    "\n",
    "and generates code for the simple expression if no error is reported. If the simple expression is a constant, a `Const` item is returned (and code may not need to be generated); the simple expression is not constant, the location of the result is returned as determined by the code generator. "
   ]
  },
  {
   "cell_type": "code",
   "execution_count": 6,
   "metadata": {
    "code_folding": [],
    "collapsed": true,
    "deletable": true,
    "editable": true
   },
   "outputs": [],
   "source": [
    "def simpleExpression():\n",
    "    if SC.sym == PLUS:\n",
    "        getSym(); x = term()\n",
    "    elif SC.sym == MINUS:\n",
    "        getSym(); x = term()\n",
    "        if x.tp != Int: mark('bad type')\n",
    "        elif type(x) == Const: x.val = - x.val # constant folding\n",
    "        else: x = CG.genUnaryOp(MINUS, x)\n",
    "    else: x = term()\n",
    "    while SC.sym in {PLUS, MINUS, OR}:\n",
    "        op = SC.sym; getSym()\n",
    "        if op == OR and type(x) != Const: x = CG.genUnaryOp(OR, x)\n",
    "        y = term() # x op y\n",
    "        if x.tp == Int == y.tp and op in {PLUS, MINUS}:\n",
    "            if type(x) == Const == type(y): # constant folding\n",
    "                if op == PLUS: x.val = x.val + y.val\n",
    "                elif op == MINUS: x.val = x.val - y.val\n",
    "            else: x = CG.genBinaryOp(op, x, y)\n",
    "        elif x.tp == Bool == y.tp and op == OR:\n",
    "            if type(x) == Const: # constant folding\n",
    "                if not x.val: x = y # if x is false, take y, else x\n",
    "            else: x = CG.genBinaryOp(OR, x, y)\n",
    "        else: mark('bad type')\n",
    "    return x"
   ]
  },
  {
   "cell_type": "markdown",
   "metadata": {
    "deletable": true,
    "editable": true
   },
   "source": [
    "Procedure `expression()` parses\n",
    "\n",
    "    expression ::= simpleExpression\n",
    "                 {(\"=\" | \"<>\" | \"<\" | \"<=\" | \">\" | \">=\") simpleExpression}.\n",
    "\n",
    "and generates code for the term if no error is reported. The location of the result is returned as determined by the code generator."
   ]
  },
  {
   "cell_type": "code",
   "execution_count": 7,
   "metadata": {
    "collapsed": true,
    "deletable": true,
    "editable": true
   },
   "outputs": [],
   "source": [
    "def expression():\n",
    "    x = simpleExpression()\n",
    "    while SC.sym in {EQ, NE, LT, LE, GT, GE}:\n",
    "        op = SC.sym; getSym(); y = simpleExpression() # x op y\n",
    "        if x.tp == Int == y.tp:\n",
    "            x = CG.genRelation(op, x, y)\n",
    "        else: mark('bad type')\n",
    "    return x"
   ]
  },
  {
   "cell_type": "markdown",
   "metadata": {
    "collapsed": true,
    "deletable": true,
    "editable": true
   },
   "source": [
    "Procedure `compoundStatement()` parses\n",
    "\n",
    "    compoundStatement ::= \"begin\" statement {\";\" statement} \"end\"\n",
    "\n",
    "and generates code for the term if no error is reported. A result is returned as determined by the code generator."
   ]
  },
  {
   "cell_type": "code",
   "execution_count": 8,
   "metadata": {
    "collapsed": true,
    "deletable": true,
    "editable": true
   },
   "outputs": [],
   "source": [
    "def compoundStatement():\n",
    "    if SC.sym == BEGIN: getSym()\n",
    "    else: mark(\"'begin' expected\")\n",
    "    x = statement()\n",
    "    while SC.sym == SEMICOLON or SC.sym in FIRSTSTATEMENT:\n",
    "        if SC.sym == SEMICOLON: getSym()\n",
    "        else: mark(\"; missing\")\n",
    "        y = statement(); x = CG.genSeq(x, y)\n",
    "    if SC.sym == END: getSym()\n",
    "    else: mark(\"'end' expected\")\n",
    "    return x"
   ]
  },
  {
   "cell_type": "markdown",
   "metadata": {
    "deletable": true,
    "editable": true
   },
   "source": [
    "Procedure `statement()` parses\n",
    "\n",
    "    statement ::= ident selector \":=\" expression |\n",
    "                  ident \"(\" [expression {\",\" expression}] \")\" |\n",
    "                  compoundStatement |\n",
    "                  \"if\" expression \"then\" statement [\"else\"statement] |\n",
    "                  \"while\" expression \"do\" statement.\n",
    "\n",
    "and generates code for the statement if no error is reported. A result is returned as determined by the code generator."
   ]
  },
  {
   "cell_type": "code",
   "execution_count": 9,
   "metadata": {
    "collapsed": true,
    "deletable": true,
    "editable": true
   },
   "outputs": [],
   "source": [
    "def statement():\n",
    "    if SC.sym not in FIRSTSTATEMENT:\n",
    "        mark(\"statement expected\"); getSym()\n",
    "        while SC.sym not in FIRSTSTATEMENT | STRONGSYMS | FOLLOWSTATEMENT:\n",
    "            getSym()\n",
    "    if SC.sym == IDENT:\n",
    "        x = find(SC.val); getSym()\n",
    "        if type(x) in {Var, Ref}:\n",
    "            x = CG.genVar(x); x = selector(x)\n",
    "            if SC.sym == BECOMES:\n",
    "                getSym(); y = expression()\n",
    "                if x.tp == y.tp in {Bool, Int}: x = CG.genAssign(x, y)\n",
    "                else: mark('incompatible assignment')\n",
    "            elif SC.sym == EQ:\n",
    "                mark(':= expected'); getSym(); y = expression()\n",
    "            else: mark(':= expected')\n",
    "        elif type(x) in {Proc, StdProc}:\n",
    "            fp, ap, i = x.par, [], 0   #  list of formals, list of actuals\n",
    "            if SC.sym == LPAREN:\n",
    "                getSym()\n",
    "                if SC.sym in FIRSTEXPRESSION:\n",
    "                    y = expression()\n",
    "                    if i < len(fp):\n",
    "                        if (type(fp[i]) == Var or type(y) == Var) and \\\n",
    "                           fp[i].tp == y.tp:\n",
    "                            if type(x) == Proc:\n",
    "                                ap.append(CG.genActualPara(y, fp[i], i))\n",
    "                        else: mark('illegal parameter mode')\n",
    "                    else: mark('extra parameter')\n",
    "                    i = i + 1\n",
    "                    while SC.sym == COMMA:\n",
    "                        getSym()\n",
    "                        y = expression()\n",
    "                        if i < len(fp):\n",
    "                            if (type(fp[i]) == Var or type(y) == Var) and \\\n",
    "                               fp[i].tp == y.tp:\n",
    "                                if type(x) == Proc:\n",
    "                                    ap.append(CG.genActualPara(y, fp[i], i))\n",
    "                            else: mark('illegal parameter mode')\n",
    "                        else: mark('extra parameter')\n",
    "                        i = i + 1\n",
    "                if SC.sym == RPAREN: getSym()\n",
    "                else: mark(\"')' expected\")\n",
    "            if i < len(fp): mark('too few parameters')\n",
    "            elif type(x) == StdProc:\n",
    "                if x.name == 'read': x = CG.genRead(y)\n",
    "                elif x.name == 'write': x = CG.genWrite(y)\n",
    "                elif x.name == 'writeln': x = CG.genWriteln()\n",
    "            else: x = CG.genCall(x, ap)\n",
    "        else: mark(\"variable or procedure expected\")\n",
    "    elif SC.sym == BEGIN: x = compoundStatement()\n",
    "    elif SC.sym == IF:\n",
    "        getSym(); x = expression();\n",
    "        if x.tp == Bool: x = CG.genCond(x)\n",
    "        else: mark('boolean expected')\n",
    "        if SC.sym == THEN: getSym()\n",
    "        else: mark(\"'then' expected\")\n",
    "        y = statement()\n",
    "        if SC.sym == ELSE:\n",
    "            if x.tp == Bool: y = CG.genThen(x, y);\n",
    "            getSym(); z = statement();\n",
    "            if x.tp == Bool: x = CG.genIfElse(x, y, z)\n",
    "        else:\n",
    "            if x.tp == Bool: x = CG.genIfThen(x, y)\n",
    "    elif SC.sym == WHILE:\n",
    "        getSym(); t = CG.genTarget(); x = expression()\n",
    "        if x.tp == Bool: x = CG.genCond(x)\n",
    "        else: mark('boolean expected')\n",
    "        if SC.sym == DO: getSym()\n",
    "        else: mark(\"'do' expected\")\n",
    "        y = statement()\n",
    "        if x.tp == Bool: x = CG.genWhile(t, x, y)\n",
    "    else: x = None\n",
    "    return x"
   ]
  },
  {
   "cell_type": "markdown",
   "metadata": {
    "deletable": true,
    "editable": true
   },
   "source": [
    "Procedure `typ` parses\n",
    "\n",
    "    type ::= ident |\n",
    "             \"array\" \"[\" expression \"..\" expression \"]\" \"of\" type |\n",
    "             \"record\" typedIds {\";\" typedIds} \"end\"\n",
    "\n",
    "and returns a type descriptor if not error is reported. The array bound are checked to be constants; the lower bound must be smaller or equal to the upper bound."
   ]
  },
  {
   "cell_type": "code",
   "execution_count": 10,
   "metadata": {
    "collapsed": true,
    "deletable": true,
    "editable": true
   },
   "outputs": [],
   "source": [
    "def typ():\n",
    "    if SC.sym not in FIRSTTYPE:\n",
    "        getSym(); mark(\"type expected\")\n",
    "        while SC.sym not in FIRSTTYPE | STRONGSYMS | FOLLOWTYPE:\n",
    "            getSym()\n",
    "    if SC.sym == IDENT:\n",
    "        ident = SC.val; x = find(ident); getSym()\n",
    "        if type(x) == Type: x = Type(x.val)\n",
    "        else: mark('not a type'); x = Type(None)\n",
    "    elif SC.sym == ARRAY:\n",
    "        getSym()\n",
    "        if SC.sym == LBRAK: getSym()\n",
    "        else: mark(\"'[' expected\")\n",
    "        x = expression()\n",
    "        if SC.sym == PERIOD: getSym()\n",
    "        else: mark(\"'.' expected\")\n",
    "        if SC.sym == PERIOD: getSym()\n",
    "        else: mark(\"'.' expected\")\n",
    "        y = expression()\n",
    "        if SC.sym == RBRAK: getSym()\n",
    "        else: mark(\"']' expected\")\n",
    "        if SC.sym == OF: getSym()\n",
    "        else: mark(\"'of' expected\")\n",
    "        z = typ().val;\n",
    "        if type(x) != Const or x.val < 0:\n",
    "            mark('bad lower bound'); x = Type(None)\n",
    "        elif type(y) != Const or y.val < x.val:\n",
    "            mark('bad upper bound'); x = Type(None)\n",
    "        else: x = Type(CG.genArray(Array(z, x.val, y.val - x.val + 1)))\n",
    "    elif SC.sym == RECORD:\n",
    "        getSym(); openScope(); typedIds(Var)\n",
    "        while SC.sym == SEMICOLON:\n",
    "            getSym(); typedIds(Var)\n",
    "        if SC.sym == END: getSym()\n",
    "        else: mark(\"'end' expected\")\n",
    "        r = topScope(); closeScope()\n",
    "        x = Type(CG.genRec(Record(r)))\n",
    "    else: x = Type(None)\n",
    "    return x"
   ]
  },
  {
   "cell_type": "markdown",
   "metadata": {
    "deletable": true,
    "editable": true
   },
   "source": [
    "Procedure `typeIds(kind)` parses\n",
    "\n",
    "    typedIds ::= ident {\",\" ident} \":\" type.\n",
    "\n",
    "and updates the top scope of symbol table; an error is reported if an identifier is already in the top scope. The parameter `kind` is assumed to be callable and applied to the type before an identifier and its type are entered in the symbol table."
   ]
  },
  {
   "cell_type": "code",
   "execution_count": 11,
   "metadata": {
    "collapsed": false,
    "deletable": true,
    "editable": true,
    "scrolled": false
   },
   "outputs": [],
   "source": [
    "def typedIds(kind):\n",
    "    if SC.sym == IDENT: tid = [SC.val]; getSym()\n",
    "    else: mark(\"identifier expected\"); tid = []\n",
    "    while SC.sym == COMMA:\n",
    "        getSym()\n",
    "        if SC.sym == IDENT: tid.append(SC.val); getSym()\n",
    "        else: mark('identifier expected')\n",
    "    if SC.sym == COLON:\n",
    "        getSym(); tp = typ().val\n",
    "        if tp != None:\n",
    "            for i in tid: newDecl(i, kind(tp))\n",
    "    else: mark(\"':' expected\")"
   ]
  },
  {
   "cell_type": "markdown",
   "metadata": {
    "deletable": true,
    "editable": true
   },
   "source": [
    "Procedure `declarations(allocVar)` parses\n",
    "\n",
    "    declarations ::=\n",
    "        {\"const\" ident \"=\" expression \";\"}\n",
    "        {\"type\" ident \"=\" type \";\"}\n",
    "        {\"var\" typedIds \";\"}\n",
    "        {\"procedure\" ident [\"(\" [[\"var\"] typedIds {\";\" [\"var\"] typedIds}] \")\"] \";\"\n",
    "            declarations compoundStatement \";\"}\n",
    "\n",
    "and updates the top scope of symbol table; an error is reported if an identifier is already in the top scope. An error is also reported if the expression of a constant declarations is not constant. For each procedure, a new scope is opened for its formal parameters and local declarations, the formal parameters and added to the symbol table, and code is generated for the body. The size of the variable declarations is returned, as determined by calling paramater `allocVar`."
   ]
  },
  {
   "cell_type": "code",
   "execution_count": 12,
   "metadata": {
    "collapsed": true,
    "deletable": true,
    "editable": true
   },
   "outputs": [],
   "source": [
    "def declarations(allocVar):\n",
    "    if SC.sym not in FIRSTDECL | FOLLOWDECL:\n",
    "        getSym(); mark(\"'begin' or declaration expected\")\n",
    "        while SC.sym not in FIRSTDECL | STRONGSYMS | FOLLOWDECL: getSym()\n",
    "    while SC.sym == CONST:\n",
    "        getSym()\n",
    "        if SC.sym == IDENT:\n",
    "            ident = SC.val; getSym()\n",
    "            if SC.sym == EQ: getSym()\n",
    "            else: mark(\"= expected\")\n",
    "            x = expression()\n",
    "            if type(x) == Const: newDecl(ident, x)\n",
    "            else: mark('expression not constant')\n",
    "        else: mark(\"constant name expected\")\n",
    "        if SC.sym == SEMICOLON: getSym()\n",
    "        else: mark(\"; expected\")\n",
    "    while SC.sym == TYPE:\n",
    "        getSym()\n",
    "        if SC.sym == IDENT:\n",
    "            ident = SC.val; getSym()\n",
    "            if SC.sym == EQ: getSym()\n",
    "            else: mark(\"= expected\")\n",
    "            x = typ(); newDecl(ident, x)  #  x is of type ST.Type\n",
    "            if SC.sym == SEMICOLON: getSym()\n",
    "            else: mark(\"; expected\")\n",
    "        else: mark(\"type name expected\")\n",
    "    start = len(topScope())\n",
    "    while SC.sym == VAR:\n",
    "        getSym(); typedIds(Var)\n",
    "        if SC.sym == SEMICOLON: getSym()\n",
    "        else: mark(\"; expected\")\n",
    "    varsize = allocVar(topScope(), start)\n",
    "    while SC.sym == PROCEDURE:\n",
    "        getSym()\n",
    "        if SC.sym == IDENT: getSym()\n",
    "        else: mark(\"procedure name expected\")\n",
    "        ident = SC.val; newDecl(ident, Proc([])) #  entered without parameters\n",
    "        sc = topScope()\n",
    "        CG.genProcStart(); openScope() # new scope for parameters and body\n",
    "        if SC.sym == LPAREN:\n",
    "            getSym()\n",
    "            if SC.sym in {VAR, IDENT}:\n",
    "                if SC.sym == VAR: getSym(); typedIds(Ref)\n",
    "                else: typedIds(Var)\n",
    "                while SC.sym == SEMICOLON:\n",
    "                    getSym()\n",
    "                    if SC.sym == VAR: getSym(); typedIds(Ref)\n",
    "                    else: typedIds(Var)\n",
    "            else: mark(\"formal parameters expected\")\n",
    "            fp = topScope()\n",
    "            sc[-1].par = fp[:] #  procedure parameters updated\n",
    "            if SC.sym == RPAREN: getSym()\n",
    "            else: mark(\") expected\")\n",
    "        else: fp = []\n",
    "        parsize = CG.genFormalParams(fp)\n",
    "        if SC.sym == SEMICOLON: getSym()\n",
    "        else: mark(\"; expected\")\n",
    "        localsize = declarations(CG.genLocalVars)\n",
    "        CG.genProcEntry(ident, parsize, localsize)\n",
    "        x = compoundStatement(); CG.genProcExit(x, parsize, localsize)\n",
    "        closeScope() #  scope for parameters and body closed\n",
    "        if SC.sym == SEMICOLON: getSym()\n",
    "        else: mark(\"; expected\")\n",
    "    return varsize"
   ]
  },
  {
   "cell_type": "markdown",
   "metadata": {
    "deletable": true,
    "editable": true
   },
   "source": [
    "Procedure `program` parses\n",
    "\n",
    "        program ::= \"program\" ident \";\" declarations compoundStatement\n",
    " \n",
    "and returns the generated code if no error is reported. The standard identifiers are entered initially in the symbol table."
   ]
  },
  {
   "cell_type": "code",
   "execution_count": 13,
   "metadata": {
    "collapsed": true,
    "deletable": true,
    "editable": true
   },
   "outputs": [],
   "source": [
    "def program():\n",
    "    newDecl('boolean', Type(CG.genBool(Bool)))\n",
    "    newDecl('integer', Type(CG.genInt(Int)))\n",
    "    newDecl('true', Const(Bool, 1))\n",
    "    newDecl('false', Const(Bool, 0))\n",
    "    newDecl('read', StdProc([Ref(Int)]))\n",
    "    newDecl('write', StdProc([Var(Int)]))\n",
    "    newDecl('writeln', StdProc([]))\n",
    "    CG.genProgStart()\n",
    "    if SC.sym == PROGRAM: getSym()\n",
    "    else: mark(\"'program' expected\")\n",
    "    ident = SC.val\n",
    "    if SC.sym == IDENT: getSym()\n",
    "    else: mark('program name expected')\n",
    "    if SC.sym == SEMICOLON: getSym()\n",
    "    else: mark('; expected')\n",
    "    declarations(CG.genGlobalVars); CG.genProgEntry(ident)\n",
    "    x = compoundStatement()\n",
    "    return CG.genProgExit(x)"
   ]
  },
  {
   "cell_type": "markdown",
   "metadata": {
    "deletable": true,
    "editable": true
   },
   "source": [
    "Procedure `compileString(src, dstfn, target)` compiles the source as given by string `src`; if `dstfn` is provided, the code is written to a file by that name, otherwise printed on the screen. If `target` is omitted, MIPS code is generated."
   ]
  },
  {
   "cell_type": "code",
   "execution_count": 14,
   "metadata": {
    "collapsed": true,
    "deletable": true,
    "editable": true
   },
   "outputs": [],
   "source": [
    "def compileString(src, dstfn = None, target = 'clr'):\n",
    "    global CG\n",
    "    if target == 'clr': import CGclr as CG\n",
    "    elif target == 'mips': import CGmips as CG\n",
    "    elif target == 'ast': import CGast as CG\n",
    "    else: print('unknown target'); return\n",
    "    SC.init(src)\n",
    "    ST.init()\n",
    "    p = program()\n",
    "    if p != None and not SC.error:\n",
    "        if dstfn == None: print(p)\n",
    "        else:\n",
    "            with open(dstfn, 'w') as f: f.write(p);"
   ]
  },
  {
   "cell_type": "markdown",
   "metadata": {
    "deletable": true,
    "editable": true
   },
   "source": [
    "Procedure `compileFile(srcfn, target)` compiles the file named `scrfn`, which must have the extension `.p`, and generates assembly code in a file with extension `.s`. If `target` is omitted, MIPS code is generated."
   ]
  },
  {
   "cell_type": "code",
   "execution_count": 15,
   "metadata": {
    "collapsed": true,
    "deletable": true,
    "editable": true
   },
   "outputs": [],
   "source": [
    "def compileFile(srcfn, target = 'mips'):\n",
    "    if srcfn.endswith('.p'):\n",
    "        with open(srcfn, 'r') as f: src = f.read()\n",
    "        dstfn = srcfn[:-2] + '.s'\n",
    "        compileString(src, dstfn, target)\n",
    "    else: print(\"'.p' file extension expected\")"
   ]
  },
  {
   "cell_type": "markdown",
   "metadata": {
    "collapsed": false,
    "deletable": true,
    "editable": true
   },
   "source": [
    "Sample usage (in code cell):\n",
    "\n",
    "    cd /path/to/my/prog\n",
    "    compileFile('myprog.p')"
   ]
  },
  {
   "cell_type": "markdown",
   "metadata": {
    "deletable": true,
    "editable": true
   },
   "source": [
    "## Appendix"
   ]
  },
  {
   "cell_type": "code",
   "execution_count": 16,
   "metadata": {
    "collapsed": false,
    "deletable": true,
    "editable": true
   },
   "outputs": [
    {
     "data": {
      "text/html": [
       "<style>\n",
       "div.prompt {display:none}\n",
       "</style>"
      ],
      "text/plain": [
       "<IPython.core.display.HTML object>"
      ]
     },
     "metadata": {},
     "output_type": "display_data"
    }
   ],
   "source": [
    "%%HTML\n",
    "<style>\n",
    "div.prompt {display:none}\n",
    "</style>"
   ]
  }
 ],
 "metadata": {
  "celltoolbar": "Hide code",
  "kernelspec": {
   "display_name": "Python 3",
   "language": "python",
   "name": "python3"
  },
  "language_info": {
   "codemirror_mode": {
    "name": "ipython",
    "version": 3
   },
   "file_extension": ".py",
   "mimetype": "text/x-python",
   "name": "python",
   "nbconvert_exporter": "python",
   "pygments_lexer": "ipython3",
   "version": "3.6.0"
  }
 },
 "nbformat": 4,
 "nbformat_minor": 2
}
